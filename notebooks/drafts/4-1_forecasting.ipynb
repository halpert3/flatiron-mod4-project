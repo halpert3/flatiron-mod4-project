{
 "cells": [
  {
   "cell_type": "markdown",
   "metadata": {},
   "source": [
    "# Forecasting Best Model(s) "
   ]
  },
  {
   "cell_type": "code",
   "execution_count": 149,
   "metadata": {},
   "outputs": [],
   "source": [
    "import warnings\n",
    "warnings.filterwarnings('ignore')\n",
    "import itertools\n",
    "import pandas as pd\n",
    "import numpy as np\n",
    "import statsmodels.api as sm\n",
    "from statsmodels.tsa.arima_model import ARMA, ARIMAResults\n",
    "from pmdarima.arima import auto_arima\n",
    "from sklearn.metrics import mean_squared_error\n",
    "import matplotlib.pyplot as plt\n",
    "from matplotlib.pylab import rcParams\n",
    "plt.style.use('ggplot')"
   ]
  },
  {
   "cell_type": "code",
   "execution_count": 150,
   "metadata": {},
   "outputs": [
    {
     "data": {
      "text/html": [
       "<div>\n",
       "<style scoped>\n",
       "    .dataframe tbody tr th:only-of-type {\n",
       "        vertical-align: middle;\n",
       "    }\n",
       "\n",
       "    .dataframe tbody tr th {\n",
       "        vertical-align: top;\n",
       "    }\n",
       "\n",
       "    .dataframe thead th {\n",
       "        text-align: right;\n",
       "    }\n",
       "</style>\n",
       "<table border=\"1\" class=\"dataframe\">\n",
       "  <thead>\n",
       "    <tr style=\"text-align: right;\">\n",
       "      <th></th>\n",
       "      <th>Min. differencing for stationarity</th>\n",
       "      <th>Baseline ARMA</th>\n",
       "      <th>Baseline AIC</th>\n",
       "      <th>Best AUTOArima on train set</th>\n",
       "      <th>AIC</th>\n",
       "      <th>RMSE-last year of train set vs. model forecast for same period</th>\n",
       "      <th>RMSE-test set vs. forecast of train set one year</th>\n",
       "      <th>Percent RMSE error</th>\n",
       "    </tr>\n",
       "    <tr>\n",
       "      <th>Name</th>\n",
       "      <th></th>\n",
       "      <th></th>\n",
       "      <th></th>\n",
       "      <th></th>\n",
       "      <th></th>\n",
       "      <th></th>\n",
       "      <th></th>\n",
       "      <th></th>\n",
       "    </tr>\n",
       "  </thead>\n",
       "  <tbody>\n",
       "    <tr>\n",
       "      <th>Uptown (70115)</th>\n",
       "      <td>1</td>\n",
       "      <td>(1,1)</td>\n",
       "      <td>4391.0</td>\n",
       "      <td>(0,2,0)</td>\n",
       "      <td>4210.1</td>\n",
       "      <td>23203.68</td>\n",
       "      <td>42103.65</td>\n",
       "      <td>7.1</td>\n",
       "    </tr>\n",
       "    <tr>\n",
       "      <th>Lower Garden District (70130)</th>\n",
       "      <td>2</td>\n",
       "      <td>(1,0)</td>\n",
       "      <td>4917.0</td>\n",
       "      <td>(0,2,0)</td>\n",
       "      <td>4396.3</td>\n",
       "      <td>23459.78</td>\n",
       "      <td>46684.81</td>\n",
       "      <td>8.0</td>\n",
       "    </tr>\n",
       "    <tr>\n",
       "      <th>Audubon (70118)</th>\n",
       "      <td>1</td>\n",
       "      <td>(2,1)</td>\n",
       "      <td>4280.0</td>\n",
       "      <td>(1,1,2)</td>\n",
       "      <td>4548.0</td>\n",
       "      <td>8023.76</td>\n",
       "      <td>186895.73</td>\n",
       "      <td>45.6</td>\n",
       "    </tr>\n",
       "    <tr>\n",
       "      <th>Metairie (70005)</th>\n",
       "      <td>2</td>\n",
       "      <td>(2,2)</td>\n",
       "      <td>3939.6</td>\n",
       "      <td>(1,1,1)</td>\n",
       "      <td>4279.7</td>\n",
       "      <td>3394.47</td>\n",
       "      <td>9778.85</td>\n",
       "      <td>3.4</td>\n",
       "    </tr>\n",
       "    <tr>\n",
       "      <th>Aurora (70131)</th>\n",
       "      <td>3</td>\n",
       "      <td>(1,1)</td>\n",
       "      <td>4296.8</td>\n",
       "      <td>(1,1,1)</td>\n",
       "      <td>4099.7</td>\n",
       "      <td>1320.68</td>\n",
       "      <td>6509.78</td>\n",
       "      <td>3.8</td>\n",
       "    </tr>\n",
       "  </tbody>\n",
       "</table>\n",
       "</div>"
      ],
      "text/plain": [
       "                               Min. differencing for stationarity  \\\n",
       "Name                                                                \n",
       "Uptown (70115)                                                  1   \n",
       "Lower Garden District (70130)                                   2   \n",
       "Audubon (70118)                                                 1   \n",
       "Metairie (70005)                                                2   \n",
       "Aurora (70131)                                                  3   \n",
       "\n",
       "                              Baseline ARMA  Baseline AIC  \\\n",
       "Name                                                        \n",
       "Uptown (70115)                        (1,1)        4391.0   \n",
       "Lower Garden District (70130)         (1,0)        4917.0   \n",
       "Audubon (70118)                       (2,1)        4280.0   \n",
       "Metairie (70005)                      (2,2)        3939.6   \n",
       "Aurora (70131)                        (1,1)        4296.8   \n",
       "\n",
       "                              Best AUTOArima on train set     AIC  \\\n",
       "Name                                                                \n",
       "Uptown (70115)                                    (0,2,0)  4210.1   \n",
       "Lower Garden District (70130)                     (0,2,0)  4396.3   \n",
       "Audubon (70118)                                   (1,1,2)  4548.0   \n",
       "Metairie (70005)                                  (1,1,1)  4279.7   \n",
       "Aurora (70131)                                    (1,1,1)  4099.7   \n",
       "\n",
       "                               RMSE-last year of train set vs. model forecast for same period  \\\n",
       "Name                                                                                            \n",
       "Uptown (70115)                                                          23203.68                \n",
       "Lower Garden District (70130)                                           23459.78                \n",
       "Audubon (70118)                                                          8023.76                \n",
       "Metairie (70005)                                                         3394.47                \n",
       "Aurora (70131)                                                           1320.68                \n",
       "\n",
       "                               RMSE-test set vs. forecast of train set one year  \\\n",
       "Name                                                                              \n",
       "Uptown (70115)                                                         42103.65   \n",
       "Lower Garden District (70130)                                          46684.81   \n",
       "Audubon (70118)                                                       186895.73   \n",
       "Metairie (70005)                                                        9778.85   \n",
       "Aurora (70131)                                                          6509.78   \n",
       "\n",
       "                               Percent RMSE error  \n",
       "Name                                               \n",
       "Uptown (70115)                                7.1  \n",
       "Lower Garden District (70130)                 8.0  \n",
       "Audubon (70118)                              45.6  \n",
       "Metairie (70005)                              3.4  \n",
       "Aurora (70131)                                3.8  "
      ]
     },
     "execution_count": 150,
     "metadata": {},
     "output_type": "execute_result"
    }
   ],
   "source": [
    "zip_results = pd.read_csv('../data/zip_code_notes.csv').set_index('Name')\n",
    "zip_results"
   ]
  },
  {
   "cell_type": "code",
   "execution_count": 151,
   "metadata": {},
   "outputs": [
    {
     "data": {
      "text/html": [
       "<div>\n",
       "<style scoped>\n",
       "    .dataframe tbody tr th:only-of-type {\n",
       "        vertical-align: middle;\n",
       "    }\n",
       "\n",
       "    .dataframe tbody tr th {\n",
       "        vertical-align: top;\n",
       "    }\n",
       "\n",
       "    .dataframe thead th {\n",
       "        text-align: right;\n",
       "    }\n",
       "</style>\n",
       "<table border=\"1\" class=\"dataframe\">\n",
       "  <thead>\n",
       "    <tr style=\"text-align: right;\">\n",
       "      <th></th>\n",
       "      <th>Min. differencing for stationarity</th>\n",
       "      <th>Baseline ARMA</th>\n",
       "      <th>Baseline AIC</th>\n",
       "      <th>Best AUTOArima on train set</th>\n",
       "      <th>AIC</th>\n",
       "      <th>RMSE-last year of train set vs. model forecast for same period</th>\n",
       "      <th>RMSE-test set vs. forecast of train set one year</th>\n",
       "      <th>Percent RMSE error</th>\n",
       "    </tr>\n",
       "    <tr>\n",
       "      <th>Name</th>\n",
       "      <th></th>\n",
       "      <th></th>\n",
       "      <th></th>\n",
       "      <th></th>\n",
       "      <th></th>\n",
       "      <th></th>\n",
       "      <th></th>\n",
       "      <th></th>\n",
       "    </tr>\n",
       "  </thead>\n",
       "  <tbody>\n",
       "    <tr>\n",
       "      <th>Aurora (70131)</th>\n",
       "      <td>3</td>\n",
       "      <td>(1,1)</td>\n",
       "      <td>4296.8</td>\n",
       "      <td>(1,1,1)</td>\n",
       "      <td>4099.7</td>\n",
       "      <td>1320.68</td>\n",
       "      <td>6509.78</td>\n",
       "      <td>3.8</td>\n",
       "    </tr>\n",
       "    <tr>\n",
       "      <th>Uptown (70115)</th>\n",
       "      <td>1</td>\n",
       "      <td>(1,1)</td>\n",
       "      <td>4391.0</td>\n",
       "      <td>(0,2,0)</td>\n",
       "      <td>4210.1</td>\n",
       "      <td>23203.68</td>\n",
       "      <td>42103.65</td>\n",
       "      <td>7.1</td>\n",
       "    </tr>\n",
       "    <tr>\n",
       "      <th>Metairie (70005)</th>\n",
       "      <td>2</td>\n",
       "      <td>(2,2)</td>\n",
       "      <td>3939.6</td>\n",
       "      <td>(1,1,1)</td>\n",
       "      <td>4279.7</td>\n",
       "      <td>3394.47</td>\n",
       "      <td>9778.85</td>\n",
       "      <td>3.4</td>\n",
       "    </tr>\n",
       "    <tr>\n",
       "      <th>Lower Garden District (70130)</th>\n",
       "      <td>2</td>\n",
       "      <td>(1,0)</td>\n",
       "      <td>4917.0</td>\n",
       "      <td>(0,2,0)</td>\n",
       "      <td>4396.3</td>\n",
       "      <td>23459.78</td>\n",
       "      <td>46684.81</td>\n",
       "      <td>8.0</td>\n",
       "    </tr>\n",
       "    <tr>\n",
       "      <th>Audubon (70118)</th>\n",
       "      <td>1</td>\n",
       "      <td>(2,1)</td>\n",
       "      <td>4280.0</td>\n",
       "      <td>(1,1,2)</td>\n",
       "      <td>4548.0</td>\n",
       "      <td>8023.76</td>\n",
       "      <td>186895.73</td>\n",
       "      <td>45.6</td>\n",
       "    </tr>\n",
       "  </tbody>\n",
       "</table>\n",
       "</div>"
      ],
      "text/plain": [
       "                               Min. differencing for stationarity  \\\n",
       "Name                                                                \n",
       "Aurora (70131)                                                  3   \n",
       "Uptown (70115)                                                  1   \n",
       "Metairie (70005)                                                2   \n",
       "Lower Garden District (70130)                                   2   \n",
       "Audubon (70118)                                                 1   \n",
       "\n",
       "                              Baseline ARMA  Baseline AIC  \\\n",
       "Name                                                        \n",
       "Aurora (70131)                        (1,1)        4296.8   \n",
       "Uptown (70115)                        (1,1)        4391.0   \n",
       "Metairie (70005)                      (2,2)        3939.6   \n",
       "Lower Garden District (70130)         (1,0)        4917.0   \n",
       "Audubon (70118)                       (2,1)        4280.0   \n",
       "\n",
       "                              Best AUTOArima on train set     AIC  \\\n",
       "Name                                                                \n",
       "Aurora (70131)                                    (1,1,1)  4099.7   \n",
       "Uptown (70115)                                    (0,2,0)  4210.1   \n",
       "Metairie (70005)                                  (1,1,1)  4279.7   \n",
       "Lower Garden District (70130)                     (0,2,0)  4396.3   \n",
       "Audubon (70118)                                   (1,1,2)  4548.0   \n",
       "\n",
       "                               RMSE-last year of train set vs. model forecast for same period  \\\n",
       "Name                                                                                            \n",
       "Aurora (70131)                                                           1320.68                \n",
       "Uptown (70115)                                                          23203.68                \n",
       "Metairie (70005)                                                         3394.47                \n",
       "Lower Garden District (70130)                                           23459.78                \n",
       "Audubon (70118)                                                          8023.76                \n",
       "\n",
       "                               RMSE-test set vs. forecast of train set one year  \\\n",
       "Name                                                                              \n",
       "Aurora (70131)                                                          6509.78   \n",
       "Uptown (70115)                                                         42103.65   \n",
       "Metairie (70005)                                                        9778.85   \n",
       "Lower Garden District (70130)                                          46684.81   \n",
       "Audubon (70118)                                                       186895.73   \n",
       "\n",
       "                               Percent RMSE error  \n",
       "Name                                               \n",
       "Aurora (70131)                                3.8  \n",
       "Uptown (70115)                                7.1  \n",
       "Metairie (70005)                              3.4  \n",
       "Lower Garden District (70130)                 8.0  \n",
       "Audubon (70118)                              45.6  "
      ]
     },
     "execution_count": 151,
     "metadata": {},
     "output_type": "execute_result"
    }
   ],
   "source": [
    "zip_results.sort_values(by=['AIC'])"
   ]
  },
  {
   "cell_type": "markdown",
   "metadata": {},
   "source": [
    "- Lowest AIC is Aurora  \n",
    "- Next lowest is Uptown"
   ]
  },
  {
   "cell_type": "code",
   "execution_count": 152,
   "metadata": {},
   "outputs": [
    {
     "data": {
      "text/html": [
       "<div>\n",
       "<style scoped>\n",
       "    .dataframe tbody tr th:only-of-type {\n",
       "        vertical-align: middle;\n",
       "    }\n",
       "\n",
       "    .dataframe tbody tr th {\n",
       "        vertical-align: top;\n",
       "    }\n",
       "\n",
       "    .dataframe thead th {\n",
       "        text-align: right;\n",
       "    }\n",
       "</style>\n",
       "<table border=\"1\" class=\"dataframe\">\n",
       "  <thead>\n",
       "    <tr style=\"text-align: right;\">\n",
       "      <th></th>\n",
       "      <th>Min. differencing for stationarity</th>\n",
       "      <th>Baseline ARMA</th>\n",
       "      <th>Baseline AIC</th>\n",
       "      <th>Best AUTOArima on train set</th>\n",
       "      <th>AIC</th>\n",
       "      <th>RMSE-last year of train set vs. model forecast for same period</th>\n",
       "      <th>RMSE-test set vs. forecast of train set one year</th>\n",
       "      <th>Percent RMSE error</th>\n",
       "    </tr>\n",
       "    <tr>\n",
       "      <th>Name</th>\n",
       "      <th></th>\n",
       "      <th></th>\n",
       "      <th></th>\n",
       "      <th></th>\n",
       "      <th></th>\n",
       "      <th></th>\n",
       "      <th></th>\n",
       "      <th></th>\n",
       "    </tr>\n",
       "  </thead>\n",
       "  <tbody>\n",
       "    <tr>\n",
       "      <th>Aurora (70131)</th>\n",
       "      <td>3</td>\n",
       "      <td>(1,1)</td>\n",
       "      <td>4296.8</td>\n",
       "      <td>(1,1,1)</td>\n",
       "      <td>4099.7</td>\n",
       "      <td>1320.68</td>\n",
       "      <td>6509.78</td>\n",
       "      <td>3.8</td>\n",
       "    </tr>\n",
       "    <tr>\n",
       "      <th>Metairie (70005)</th>\n",
       "      <td>2</td>\n",
       "      <td>(2,2)</td>\n",
       "      <td>3939.6</td>\n",
       "      <td>(1,1,1)</td>\n",
       "      <td>4279.7</td>\n",
       "      <td>3394.47</td>\n",
       "      <td>9778.85</td>\n",
       "      <td>3.4</td>\n",
       "    </tr>\n",
       "    <tr>\n",
       "      <th>Uptown (70115)</th>\n",
       "      <td>1</td>\n",
       "      <td>(1,1)</td>\n",
       "      <td>4391.0</td>\n",
       "      <td>(0,2,0)</td>\n",
       "      <td>4210.1</td>\n",
       "      <td>23203.68</td>\n",
       "      <td>42103.65</td>\n",
       "      <td>7.1</td>\n",
       "    </tr>\n",
       "    <tr>\n",
       "      <th>Lower Garden District (70130)</th>\n",
       "      <td>2</td>\n",
       "      <td>(1,0)</td>\n",
       "      <td>4917.0</td>\n",
       "      <td>(0,2,0)</td>\n",
       "      <td>4396.3</td>\n",
       "      <td>23459.78</td>\n",
       "      <td>46684.81</td>\n",
       "      <td>8.0</td>\n",
       "    </tr>\n",
       "    <tr>\n",
       "      <th>Audubon (70118)</th>\n",
       "      <td>1</td>\n",
       "      <td>(2,1)</td>\n",
       "      <td>4280.0</td>\n",
       "      <td>(1,1,2)</td>\n",
       "      <td>4548.0</td>\n",
       "      <td>8023.76</td>\n",
       "      <td>186895.73</td>\n",
       "      <td>45.6</td>\n",
       "    </tr>\n",
       "  </tbody>\n",
       "</table>\n",
       "</div>"
      ],
      "text/plain": [
       "                               Min. differencing for stationarity  \\\n",
       "Name                                                                \n",
       "Aurora (70131)                                                  3   \n",
       "Metairie (70005)                                                2   \n",
       "Uptown (70115)                                                  1   \n",
       "Lower Garden District (70130)                                   2   \n",
       "Audubon (70118)                                                 1   \n",
       "\n",
       "                              Baseline ARMA  Baseline AIC  \\\n",
       "Name                                                        \n",
       "Aurora (70131)                        (1,1)        4296.8   \n",
       "Metairie (70005)                      (2,2)        3939.6   \n",
       "Uptown (70115)                        (1,1)        4391.0   \n",
       "Lower Garden District (70130)         (1,0)        4917.0   \n",
       "Audubon (70118)                       (2,1)        4280.0   \n",
       "\n",
       "                              Best AUTOArima on train set     AIC  \\\n",
       "Name                                                                \n",
       "Aurora (70131)                                    (1,1,1)  4099.7   \n",
       "Metairie (70005)                                  (1,1,1)  4279.7   \n",
       "Uptown (70115)                                    (0,2,0)  4210.1   \n",
       "Lower Garden District (70130)                     (0,2,0)  4396.3   \n",
       "Audubon (70118)                                   (1,1,2)  4548.0   \n",
       "\n",
       "                               RMSE-last year of train set vs. model forecast for same period  \\\n",
       "Name                                                                                            \n",
       "Aurora (70131)                                                           1320.68                \n",
       "Metairie (70005)                                                         3394.47                \n",
       "Uptown (70115)                                                          23203.68                \n",
       "Lower Garden District (70130)                                           23459.78                \n",
       "Audubon (70118)                                                          8023.76                \n",
       "\n",
       "                               RMSE-test set vs. forecast of train set one year  \\\n",
       "Name                                                                              \n",
       "Aurora (70131)                                                          6509.78   \n",
       "Metairie (70005)                                                        9778.85   \n",
       "Uptown (70115)                                                         42103.65   \n",
       "Lower Garden District (70130)                                          46684.81   \n",
       "Audubon (70118)                                                       186895.73   \n",
       "\n",
       "                               Percent RMSE error  \n",
       "Name                                               \n",
       "Aurora (70131)                                3.8  \n",
       "Metairie (70005)                              3.4  \n",
       "Uptown (70115)                                7.1  \n",
       "Lower Garden District (70130)                 8.0  \n",
       "Audubon (70118)                              45.6  "
      ]
     },
     "execution_count": 152,
     "metadata": {},
     "output_type": "execute_result"
    }
   ],
   "source": [
    "zip_results.sort_values(by=['RMSE-test set vs. forecast of train set one year'])"
   ]
  },
  {
   "cell_type": "markdown",
   "metadata": {},
   "source": [
    "- Lowest RMSE is Aurora  \n",
    "- Next lowest is Metairie, then Uptown  "
   ]
  },
  {
   "cell_type": "code",
   "execution_count": 153,
   "metadata": {},
   "outputs": [
    {
     "data": {
      "text/html": [
       "<div>\n",
       "<style scoped>\n",
       "    .dataframe tbody tr th:only-of-type {\n",
       "        vertical-align: middle;\n",
       "    }\n",
       "\n",
       "    .dataframe tbody tr th {\n",
       "        vertical-align: top;\n",
       "    }\n",
       "\n",
       "    .dataframe thead th {\n",
       "        text-align: right;\n",
       "    }\n",
       "</style>\n",
       "<table border=\"1\" class=\"dataframe\">\n",
       "  <thead>\n",
       "    <tr style=\"text-align: right;\">\n",
       "      <th></th>\n",
       "      <th>Min. differencing for stationarity</th>\n",
       "      <th>Baseline ARMA</th>\n",
       "      <th>Baseline AIC</th>\n",
       "      <th>Best AUTOArima on train set</th>\n",
       "      <th>AIC</th>\n",
       "      <th>RMSE-last year of train set vs. model forecast for same period</th>\n",
       "      <th>RMSE-test set vs. forecast of train set one year</th>\n",
       "      <th>Percent RMSE error</th>\n",
       "    </tr>\n",
       "    <tr>\n",
       "      <th>Name</th>\n",
       "      <th></th>\n",
       "      <th></th>\n",
       "      <th></th>\n",
       "      <th></th>\n",
       "      <th></th>\n",
       "      <th></th>\n",
       "      <th></th>\n",
       "      <th></th>\n",
       "    </tr>\n",
       "  </thead>\n",
       "  <tbody>\n",
       "    <tr>\n",
       "      <th>Metairie (70005)</th>\n",
       "      <td>2</td>\n",
       "      <td>(2,2)</td>\n",
       "      <td>3939.6</td>\n",
       "      <td>(1,1,1)</td>\n",
       "      <td>4279.7</td>\n",
       "      <td>3394.47</td>\n",
       "      <td>9778.85</td>\n",
       "      <td>3.4</td>\n",
       "    </tr>\n",
       "    <tr>\n",
       "      <th>Aurora (70131)</th>\n",
       "      <td>3</td>\n",
       "      <td>(1,1)</td>\n",
       "      <td>4296.8</td>\n",
       "      <td>(1,1,1)</td>\n",
       "      <td>4099.7</td>\n",
       "      <td>1320.68</td>\n",
       "      <td>6509.78</td>\n",
       "      <td>3.8</td>\n",
       "    </tr>\n",
       "    <tr>\n",
       "      <th>Uptown (70115)</th>\n",
       "      <td>1</td>\n",
       "      <td>(1,1)</td>\n",
       "      <td>4391.0</td>\n",
       "      <td>(0,2,0)</td>\n",
       "      <td>4210.1</td>\n",
       "      <td>23203.68</td>\n",
       "      <td>42103.65</td>\n",
       "      <td>7.1</td>\n",
       "    </tr>\n",
       "    <tr>\n",
       "      <th>Lower Garden District (70130)</th>\n",
       "      <td>2</td>\n",
       "      <td>(1,0)</td>\n",
       "      <td>4917.0</td>\n",
       "      <td>(0,2,0)</td>\n",
       "      <td>4396.3</td>\n",
       "      <td>23459.78</td>\n",
       "      <td>46684.81</td>\n",
       "      <td>8.0</td>\n",
       "    </tr>\n",
       "    <tr>\n",
       "      <th>Audubon (70118)</th>\n",
       "      <td>1</td>\n",
       "      <td>(2,1)</td>\n",
       "      <td>4280.0</td>\n",
       "      <td>(1,1,2)</td>\n",
       "      <td>4548.0</td>\n",
       "      <td>8023.76</td>\n",
       "      <td>186895.73</td>\n",
       "      <td>45.6</td>\n",
       "    </tr>\n",
       "  </tbody>\n",
       "</table>\n",
       "</div>"
      ],
      "text/plain": [
       "                               Min. differencing for stationarity  \\\n",
       "Name                                                                \n",
       "Metairie (70005)                                                2   \n",
       "Aurora (70131)                                                  3   \n",
       "Uptown (70115)                                                  1   \n",
       "Lower Garden District (70130)                                   2   \n",
       "Audubon (70118)                                                 1   \n",
       "\n",
       "                              Baseline ARMA  Baseline AIC  \\\n",
       "Name                                                        \n",
       "Metairie (70005)                      (2,2)        3939.6   \n",
       "Aurora (70131)                        (1,1)        4296.8   \n",
       "Uptown (70115)                        (1,1)        4391.0   \n",
       "Lower Garden District (70130)         (1,0)        4917.0   \n",
       "Audubon (70118)                       (2,1)        4280.0   \n",
       "\n",
       "                              Best AUTOArima on train set     AIC  \\\n",
       "Name                                                                \n",
       "Metairie (70005)                                  (1,1,1)  4279.7   \n",
       "Aurora (70131)                                    (1,1,1)  4099.7   \n",
       "Uptown (70115)                                    (0,2,0)  4210.1   \n",
       "Lower Garden District (70130)                     (0,2,0)  4396.3   \n",
       "Audubon (70118)                                   (1,1,2)  4548.0   \n",
       "\n",
       "                               RMSE-last year of train set vs. model forecast for same period  \\\n",
       "Name                                                                                            \n",
       "Metairie (70005)                                                         3394.47                \n",
       "Aurora (70131)                                                           1320.68                \n",
       "Uptown (70115)                                                          23203.68                \n",
       "Lower Garden District (70130)                                           23459.78                \n",
       "Audubon (70118)                                                          8023.76                \n",
       "\n",
       "                               RMSE-test set vs. forecast of train set one year  \\\n",
       "Name                                                                              \n",
       "Metairie (70005)                                                        9778.85   \n",
       "Aurora (70131)                                                          6509.78   \n",
       "Uptown (70115)                                                         42103.65   \n",
       "Lower Garden District (70130)                                          46684.81   \n",
       "Audubon (70118)                                                       186895.73   \n",
       "\n",
       "                               Percent RMSE error  \n",
       "Name                                               \n",
       "Metairie (70005)                              3.4  \n",
       "Aurora (70131)                                3.8  \n",
       "Uptown (70115)                                7.1  \n",
       "Lower Garden District (70130)                 8.0  \n",
       "Audubon (70118)                              45.6  "
      ]
     },
     "execution_count": 153,
     "metadata": {},
     "output_type": "execute_result"
    }
   ],
   "source": [
    "zip_results.sort_values(by=['Percent RMSE error'])"
   ]
  },
  {
   "cell_type": "markdown",
   "metadata": {},
   "source": [
    "- Lowest percent RMSE error is Metairie  \n",
    "- Next Aurora, then Uptown  "
   ]
  },
  {
   "cell_type": "markdown",
   "metadata": {},
   "source": [
    "# Model Full Data (Aurora) "
   ]
  },
  {
   "cell_type": "code",
   "execution_count": 154,
   "metadata": {},
   "outputs": [],
   "source": [
    "# Load dataset\n",
    "aurora = pd.read_csv('../data/aurora.csv').set_index('Unnamed: 0')\n",
    "aurora.index.name = None\n",
    "aurora.index = pd.to_datetime(aurora.index, format='%Y-%m')\n",
    "aurora.index = pd.DatetimeIndex(aurora.index, freq='MS')\n",
    "aurora = aurora.rename(columns={'70131': 'Aurora'})"
   ]
  },
  {
   "cell_type": "code",
   "execution_count": 155,
   "metadata": {},
   "outputs": [],
   "source": [
    "# Fit data to best model\n",
    "aurora_arima_smx = sm.tsa.statespace.SARIMAX(aurora, \n",
    "                                             order=(1,1,1), \n",
    "                                             enforce_stationarity=True, \n",
    "                                             enforce_invertibility=False)\n",
    "aurora_output = aurora_arima_smx.fit()"
   ]
  },
  {
   "cell_type": "code",
   "execution_count": 156,
   "metadata": {},
   "outputs": [
    {
     "data": {
      "image/png": "[encoded data removed]",
      "text/plain": [
       "<Figure size 720x720 with 4 Axes>"
      ]
     },
     "metadata": {},
     "output_type": "display_data"
    }
   ],
   "source": [
    "aurora_output.plot_diagnostics(figsize=(10, 10))\n",
    "plt.show()"
   ]
  },
  {
   "cell_type": "code",
   "execution_count": 157,
   "metadata": {},
   "outputs": [
    {
     "data": {
      "text/html": [
       "<div>\n",
       "<style scoped>\n",
       "    .dataframe tbody tr th:only-of-type {\n",
       "        vertical-align: middle;\n",
       "    }\n",
       "\n",
       "    .dataframe tbody tr th {\n",
       "        vertical-align: top;\n",
       "    }\n",
       "\n",
       "    .dataframe thead th {\n",
       "        text-align: right;\n",
       "    }\n",
       "</style>\n",
       "<table border=\"1\" class=\"dataframe\">\n",
       "  <thead>\n",
       "    <tr style=\"text-align: right;\">\n",
       "      <th></th>\n",
       "      <th>Aurora</th>\n",
       "    </tr>\n",
       "  </thead>\n",
       "  <tbody>\n",
       "    <tr>\n",
       "      <th>2018-02-01</th>\n",
       "      <td>165000.0</td>\n",
       "    </tr>\n",
       "    <tr>\n",
       "      <th>2018-03-01</th>\n",
       "      <td>166900.0</td>\n",
       "    </tr>\n",
       "    <tr>\n",
       "      <th>2018-04-01</th>\n",
       "      <td>167800.0</td>\n",
       "    </tr>\n",
       "  </tbody>\n",
       "</table>\n",
       "</div>"
      ],
      "text/plain": [
       "              Aurora\n",
       "2018-02-01  165000.0\n",
       "2018-03-01  166900.0\n",
       "2018-04-01  167800.0"
      ]
     },
     "execution_count": 157,
     "metadata": {},
     "output_type": "execute_result"
    }
   ],
   "source": [
    "aurora.tail(3)"
   ]
  },
  {
   "cell_type": "code",
   "execution_count": 158,
   "metadata": {},
   "outputs": [],
   "source": [
    "prediction = aurora_output.get_forecast(steps=24)\n",
    "\n",
    "# Get confidence intervals of forecasts\n",
    "pred_conf = prediction.conf_int()"
   ]
  },
  {
   "cell_type": "code",
   "execution_count": 159,
   "metadata": {},
   "outputs": [
    {
     "data": {
      "image/png": "[encoded data removed]",
      "text/plain": [
       "<Figure size 720x360 with 1 Axes>"
      ]
     },
     "metadata": {},
     "output_type": "display_data"
    }
   ],
   "source": [
    "ax = aurora.plot(label='observed', figsize=(10,5))\n",
    "prediction.predicted_mean.plot(ax=ax, label='forecast')\n",
    "ax.fill_between(pred_conf.index,\n",
    "                pred_conf.iloc[:, 0],\n",
    "                pred_conf.iloc[:, 1], color='k', alpha=0.25)\n",
    "ax.set_xlabel('Date')\n",
    "ax.set_ylabel('Price')\n",
    "\n",
    "plt.legend(loc=\"upper left\")\n",
    "plt.show()"
   ]
  },
  {
   "cell_type": "markdown",
   "metadata": {},
   "source": [
    "## Find numerical forecasts"
   ]
  },
  {
   "cell_type": "code",
   "execution_count": 160,
   "metadata": {},
   "outputs": [
    {
     "data": {
      "text/plain": [
       "170106.12190599693"
      ]
     },
     "execution_count": 160,
     "metadata": {},
     "output_type": "execute_result"
    }
   ],
   "source": [
    "aurora_output.forecast(24)[-1]"
   ]
  },
  {
   "cell_type": "code",
   "execution_count": 161,
   "metadata": {},
   "outputs": [
    {
     "data": {
      "text/plain": [
       "170106.1"
      ]
     },
     "execution_count": 161,
     "metadata": {},
     "output_type": "execute_result"
    }
   ],
   "source": [
    "aurora_two_yr_forecast = round(aurora_output.forecast(24)[-1], 1)\n",
    "aurora_two_yr_forecast"
   ]
  },
  {
   "cell_type": "markdown",
   "metadata": {},
   "source": [
    "Aurora two-year ROI"
   ]
  },
  {
   "cell_type": "code",
   "execution_count": 162,
   "metadata": {},
   "outputs": [
    {
     "data": {
      "text/plain": [
       "167800.0"
      ]
     },
     "execution_count": 162,
     "metadata": {},
     "output_type": "execute_result"
    }
   ],
   "source": [
    "aurora_last_price = aurora.iloc[-1]['Aurora']\n",
    "aurora_last_price"
   ]
  },
  {
   "cell_type": "code",
   "execution_count": 163,
   "metadata": {},
   "outputs": [
    {
     "data": {
      "text/plain": [
       "1.3743146603098964"
      ]
     },
     "execution_count": 163,
     "metadata": {},
     "output_type": "execute_result"
    }
   ],
   "source": [
    "aurora_ROI = (((aurora_two_yr_forecast - aurora_last_price) / aurora_last_price) * 100)\n",
    "aurora_ROI"
   ]
  },
  {
   "cell_type": "code",
   "execution_count": 164,
   "metadata": {},
   "outputs": [
    {
     "data": {
      "text/plain": [
       "'1.37%'"
      ]
     },
     "execution_count": 164,
     "metadata": {},
     "output_type": "execute_result"
    }
   ],
   "source": [
    "aurora_ROI = f\"{round(aurora_ROI, 2)}%\"\n",
    "aurora_ROI"
   ]
  },
  {
   "cell_type": "markdown",
   "metadata": {},
   "source": [
    "Very poor return on investment. Will look at Uptown."
   ]
  },
  {
   "cell_type": "markdown",
   "metadata": {},
   "source": [
    "### Standard Deviation (to Measure Risk)"
   ]
  },
  {
   "cell_type": "code",
   "execution_count": 165,
   "metadata": {},
   "outputs": [
    {
     "data": {
      "text/plain": [
       "159446.81958835426"
      ]
     },
     "execution_count": 165,
     "metadata": {},
     "output_type": "execute_result"
    }
   ],
   "source": [
    "# Upper limit of confidence interval\n",
    "upper_limit = pred_conf.iloc[:, 0][-1]\n",
    "upper_limit"
   ]
  },
  {
   "cell_type": "code",
   "execution_count": 166,
   "metadata": {},
   "outputs": [
    {
     "data": {
      "text/plain": [
       "180765.4242236396"
      ]
     },
     "execution_count": 166,
     "metadata": {},
     "output_type": "execute_result"
    }
   ],
   "source": [
    "# lower limit\n",
    "lower_limit = pred_conf.iloc[:, 1][-1]\n",
    "lower_limit"
   ]
  },
  {
   "cell_type": "code",
   "execution_count": 167,
   "metadata": {},
   "outputs": [],
   "source": [
    "arr = np.array([upper_limit, lower_limit])"
   ]
  },
  {
   "cell_type": "code",
   "execution_count": 168,
   "metadata": {},
   "outputs": [
    {
     "data": {
      "text/plain": [
       "10659.3"
      ]
     },
     "execution_count": 168,
     "metadata": {},
     "output_type": "execute_result"
    }
   ],
   "source": [
    "aurora_std = round(np.std(arr), 2)\n",
    "aurora_std"
   ]
  },
  {
   "cell_type": "code",
   "execution_count": 169,
   "metadata": {},
   "outputs": [],
   "source": [
    "aurora_months_forecasted = 24"
   ]
  },
  {
   "cell_type": "markdown",
   "metadata": {},
   "source": [
    "# Model Full Data (uptown) "
   ]
  },
  {
   "cell_type": "code",
   "execution_count": 170,
   "metadata": {},
   "outputs": [],
   "source": [
    "# Load dataset\n",
    "uptown = pd.read_csv('../data/uptown.csv').set_index('Unnamed: 0')\n",
    "uptown.index.name = None\n",
    "uptown.index = pd.to_datetime(uptown.index, format='%Y-%m')\n",
    "uptown.index = pd.DatetimeIndex(uptown.index, freq='MS')\n",
    "uptown = uptown.rename(columns={'70115': 'Uptown'})"
   ]
  },
  {
   "cell_type": "code",
   "execution_count": 171,
   "metadata": {},
   "outputs": [],
   "source": [
    "uptown_arima_smx = sm.tsa.statespace.SARIMAX(uptown,\n",
    "                                        order=(0,2,0), \n",
    "                                        enforce_stationarity=True, \n",
    "                                        enforce_invertibility=False)\n",
    "uptown_output = uptown_arima_smx.fit()"
   ]
  },
  {
   "cell_type": "code",
   "execution_count": 172,
   "metadata": {},
   "outputs": [],
   "source": [
    "prediction = uptown_output.get_forecast(steps=24)\n",
    "\n",
    "# Get confidence intervals of forecasts\n",
    "pred_conf = prediction.conf_int()"
   ]
  },
  {
   "cell_type": "code",
   "execution_count": 173,
   "metadata": {},
   "outputs": [
    {
     "data": {
      "image/png": "[encoded data removed]",
      "text/plain": [
       "<Figure size 720x360 with 1 Axes>"
      ]
     },
     "metadata": {},
     "output_type": "display_data"
    }
   ],
   "source": [
    "ax = uptown.plot(label='observed', figsize=(10,5))\n",
    "prediction.predicted_mean.plot(ax=ax, label='forecast')\n",
    "ax.fill_between(pred_conf.index,\n",
    "                pred_conf.iloc[:, 0],\n",
    "                pred_conf.iloc[:, 1], color='k', alpha=0.25)\n",
    "ax.set_xlabel('Date')\n",
    "ax.set_ylabel('Price')\n",
    "\n",
    "plt.legend(loc=\"upper left\")\n",
    "plt.show()"
   ]
  },
  {
   "cell_type": "code",
   "execution_count": 174,
   "metadata": {},
   "outputs": [],
   "source": [
    "# Try 12 steps instead\n",
    "\n",
    "prediction = uptown_output.get_forecast(steps=12)\n",
    "\n",
    "# Get confidence intervals of forecasts\n",
    "pred_conf = prediction.conf_int()"
   ]
  },
  {
   "cell_type": "code",
   "execution_count": 175,
   "metadata": {},
   "outputs": [
    {
     "data": {
      "image/png": "[encoded data removed]",
      "text/plain": [
       "<Figure size 720x360 with 1 Axes>"
      ]
     },
     "metadata": {},
     "output_type": "display_data"
    }
   ],
   "source": [
    "ax = uptown.plot(label='observed', figsize=(10,5))\n",
    "prediction.predicted_mean.plot(ax=ax, label='forecast')\n",
    "ax.fill_between(pred_conf.index,\n",
    "                pred_conf.iloc[:, 0],\n",
    "                pred_conf.iloc[:, 1], color='k', alpha=0.25)\n",
    "ax.set_xlabel('Date')\n",
    "ax.set_ylabel('Price')\n",
    "\n",
    "plt.legend(loc=\"upper left\")\n",
    "plt.show()"
   ]
  },
  {
   "cell_type": "markdown",
   "metadata": {},
   "source": [
    "## Find numerical forecasts"
   ]
  },
  {
   "cell_type": "code",
   "execution_count": 176,
   "metadata": {},
   "outputs": [
    {
     "data": {
      "text/plain": [
       "504700.0"
      ]
     },
     "execution_count": 176,
     "metadata": {},
     "output_type": "execute_result"
    }
   ],
   "source": [
    "uptown_output.forecast(12)[-1]"
   ]
  },
  {
   "cell_type": "code",
   "execution_count": 177,
   "metadata": {},
   "outputs": [
    {
     "data": {
      "text/plain": [
       "504700.0"
      ]
     },
     "execution_count": 177,
     "metadata": {},
     "output_type": "execute_result"
    }
   ],
   "source": [
    "uptown_one_yr_forecast = round(uptown_output.forecast(12)[-1], 1)\n",
    "uptown_one_yr_forecast"
   ]
  },
  {
   "cell_type": "markdown",
   "metadata": {},
   "source": [
    "uptown one-year ROI"
   ]
  },
  {
   "cell_type": "code",
   "execution_count": 178,
   "metadata": {},
   "outputs": [
    {
     "data": {
      "text/plain": [
       "592300.0"
      ]
     },
     "execution_count": 178,
     "metadata": {},
     "output_type": "execute_result"
    }
   ],
   "source": [
    "uptown_last_price = uptown.iloc[-1]['Uptown']\n",
    "uptown_last_price"
   ]
  },
  {
   "cell_type": "code",
   "execution_count": 179,
   "metadata": {},
   "outputs": [
    {
     "data": {
      "text/plain": [
       "-14.789802464967078"
      ]
     },
     "execution_count": 179,
     "metadata": {},
     "output_type": "execute_result"
    }
   ],
   "source": [
    "uptown_ROI = (((uptown_one_yr_forecast - uptown_last_price) / uptown_last_price) * 100)\n",
    "uptown_ROI"
   ]
  },
  {
   "cell_type": "code",
   "execution_count": 180,
   "metadata": {},
   "outputs": [
    {
     "data": {
      "text/plain": [
       "'-14.79%'"
      ]
     },
     "execution_count": 180,
     "metadata": {},
     "output_type": "execute_result"
    }
   ],
   "source": [
    "uptown_ROI = f\"{round(uptown_ROI, 3)}%\"\n",
    "uptown_ROI"
   ]
  },
  {
   "cell_type": "markdown",
   "metadata": {},
   "source": [
    "This investment will lose money"
   ]
  },
  {
   "cell_type": "markdown",
   "metadata": {},
   "source": [
    "### Standard Deviation (to Measure Risk)"
   ]
  },
  {
   "cell_type": "code",
   "execution_count": 181,
   "metadata": {},
   "outputs": [
    {
     "data": {
      "text/plain": [
       "439938.70745543117"
      ]
     },
     "execution_count": 181,
     "metadata": {},
     "output_type": "execute_result"
    }
   ],
   "source": [
    "# Upper limit of confidence interval\n",
    "upper_limit = pred_conf.iloc[:, 0][-1]\n",
    "upper_limit"
   ]
  },
  {
   "cell_type": "code",
   "execution_count": 182,
   "metadata": {},
   "outputs": [
    {
     "data": {
      "text/plain": [
       "569461.2925445689"
      ]
     },
     "execution_count": 182,
     "metadata": {},
     "output_type": "execute_result"
    }
   ],
   "source": [
    "# lower limit\n",
    "lower_limit = pred_conf.iloc[:, 1][-1]\n",
    "lower_limit"
   ]
  },
  {
   "cell_type": "code",
   "execution_count": 183,
   "metadata": {},
   "outputs": [],
   "source": [
    "arr = np.array([upper_limit, lower_limit])"
   ]
  },
  {
   "cell_type": "code",
   "execution_count": 184,
   "metadata": {},
   "outputs": [
    {
     "data": {
      "text/plain": [
       "64761.29"
      ]
     },
     "execution_count": 184,
     "metadata": {},
     "output_type": "execute_result"
    }
   ],
   "source": [
    "uptown_std = round(np.std(arr), 2)\n",
    "uptown_std"
   ]
  },
  {
   "cell_type": "code",
   "execution_count": 185,
   "metadata": {},
   "outputs": [],
   "source": [
    "uptown_months_forecasted = 12"
   ]
  },
  {
   "cell_type": "markdown",
   "metadata": {},
   "source": [
    "# Model Full Data (Metairie)"
   ]
  },
  {
   "cell_type": "code",
   "execution_count": 186,
   "metadata": {},
   "outputs": [],
   "source": [
    "# Load dataset\n",
    "metairie = pd.read_csv('../data/metairie.csv').set_index('Unnamed: 0')\n",
    "metairie.index.name = None\n",
    "metairie.index = pd.to_datetime(metairie.index, format='%Y-%m')\n",
    "metairie.index = pd.DatetimeIndex(metairie.index, freq='MS')\n",
    "metairie = metairie.rename(columns={'70005': 'metairie'})"
   ]
  },
  {
   "cell_type": "code",
   "execution_count": 187,
   "metadata": {},
   "outputs": [],
   "source": [
    "# Fit data to best model\n",
    "metairie_arima_smx = sm.tsa.statespace.SARIMAX(metairie, \n",
    "                                             order=(1,1,1), \n",
    "                                             enforce_stationarity=True, \n",
    "                                             enforce_invertibility=False)\n",
    "metairie_output = metairie_arima_smx.fit()"
   ]
  },
  {
   "cell_type": "code",
   "execution_count": 188,
   "metadata": {},
   "outputs": [
    {
     "data": {
      "image/png": "[encoded data removed]",
      "text/plain": [
       "<Figure size 720x720 with 4 Axes>"
      ]
     },
     "metadata": {},
     "output_type": "display_data"
    }
   ],
   "source": [
    "metairie_output.plot_diagnostics(figsize=(10, 10))\n",
    "plt.show()"
   ]
  },
  {
   "cell_type": "code",
   "execution_count": 189,
   "metadata": {},
   "outputs": [
    {
     "data": {
      "text/html": [
       "<div>\n",
       "<style scoped>\n",
       "    .dataframe tbody tr th:only-of-type {\n",
       "        vertical-align: middle;\n",
       "    }\n",
       "\n",
       "    .dataframe tbody tr th {\n",
       "        vertical-align: top;\n",
       "    }\n",
       "\n",
       "    .dataframe thead th {\n",
       "        text-align: right;\n",
       "    }\n",
       "</style>\n",
       "<table border=\"1\" class=\"dataframe\">\n",
       "  <thead>\n",
       "    <tr style=\"text-align: right;\">\n",
       "      <th></th>\n",
       "      <th>metairie</th>\n",
       "    </tr>\n",
       "  </thead>\n",
       "  <tbody>\n",
       "    <tr>\n",
       "      <th>2018-02-01</th>\n",
       "      <td>290200.0</td>\n",
       "    </tr>\n",
       "    <tr>\n",
       "      <th>2018-03-01</th>\n",
       "      <td>290800.0</td>\n",
       "    </tr>\n",
       "    <tr>\n",
       "      <th>2018-04-01</th>\n",
       "      <td>291600.0</td>\n",
       "    </tr>\n",
       "  </tbody>\n",
       "</table>\n",
       "</div>"
      ],
      "text/plain": [
       "            metairie\n",
       "2018-02-01  290200.0\n",
       "2018-03-01  290800.0\n",
       "2018-04-01  291600.0"
      ]
     },
     "execution_count": 189,
     "metadata": {},
     "output_type": "execute_result"
    }
   ],
   "source": [
    "metairie.tail(3)"
   ]
  },
  {
   "cell_type": "code",
   "execution_count": 190,
   "metadata": {},
   "outputs": [],
   "source": [
    "prediction = metairie_output.get_forecast(steps=24)\n",
    "\n",
    "# Get confidence intervals of forecasts\n",
    "pred_conf = prediction.conf_int()"
   ]
  },
  {
   "cell_type": "code",
   "execution_count": 191,
   "metadata": {},
   "outputs": [
    {
     "data": {
      "image/png": "[encoded data removed]",
      "text/plain": [
       "<Figure size 720x360 with 1 Axes>"
      ]
     },
     "metadata": {},
     "output_type": "display_data"
    }
   ],
   "source": [
    "ax = metairie.plot(label='observed', figsize=(10,5))\n",
    "prediction.predicted_mean.plot(ax=ax, label='forecast')\n",
    "ax.fill_between(pred_conf.index,\n",
    "                pred_conf.iloc[:, 0],\n",
    "                pred_conf.iloc[:, 1], color='k', alpha=0.25)\n",
    "ax.set_xlabel('Date')\n",
    "ax.set_ylabel('Price')\n",
    "\n",
    "plt.legend(loc=\"upper left\")\n",
    "plt.show()"
   ]
  },
  {
   "cell_type": "markdown",
   "metadata": {},
   "source": [
    "## Find numerical forecasts"
   ]
  },
  {
   "cell_type": "code",
   "execution_count": 192,
   "metadata": {},
   "outputs": [
    {
     "data": {
      "text/plain": [
       "294615.40666841564"
      ]
     },
     "execution_count": 192,
     "metadata": {},
     "output_type": "execute_result"
    }
   ],
   "source": [
    "metairie_output.forecast(24)[-1]"
   ]
  },
  {
   "cell_type": "code",
   "execution_count": 193,
   "metadata": {},
   "outputs": [
    {
     "data": {
      "text/plain": [
       "294615.4"
      ]
     },
     "execution_count": 193,
     "metadata": {},
     "output_type": "execute_result"
    }
   ],
   "source": [
    "metairie_two_yr_forecast = round(metairie_output.forecast(24)[-1], 1)\n",
    "metairie_two_yr_forecast"
   ]
  },
  {
   "cell_type": "markdown",
   "metadata": {},
   "source": [
    "metairie two-year ROI"
   ]
  },
  {
   "cell_type": "code",
   "execution_count": 194,
   "metadata": {},
   "outputs": [
    {
     "data": {
      "text/plain": [
       "291600.0"
      ]
     },
     "execution_count": 194,
     "metadata": {},
     "output_type": "execute_result"
    }
   ],
   "source": [
    "metairie_last_price = metairie.iloc[-1]['metairie']\n",
    "metairie_last_price"
   ]
  },
  {
   "cell_type": "code",
   "execution_count": 195,
   "metadata": {},
   "outputs": [
    {
     "data": {
      "text/plain": [
       "1.034087791495207"
      ]
     },
     "execution_count": 195,
     "metadata": {},
     "output_type": "execute_result"
    }
   ],
   "source": [
    "metairie_ROI = (((metairie_two_yr_forecast - metairie_last_price) / metairie_last_price) * 100)\n",
    "metairie_ROI"
   ]
  },
  {
   "cell_type": "code",
   "execution_count": 196,
   "metadata": {},
   "outputs": [
    {
     "data": {
      "text/plain": [
       "'1.03%'"
      ]
     },
     "execution_count": 196,
     "metadata": {},
     "output_type": "execute_result"
    }
   ],
   "source": [
    "metairie_ROI = f\"{round(metairie_ROI, 2)}%\"\n",
    "metairie_ROI"
   ]
  },
  {
   "cell_type": "markdown",
   "metadata": {},
   "source": [
    "Very poor return on investment."
   ]
  },
  {
   "cell_type": "markdown",
   "metadata": {},
   "source": [
    "### Standard Deviation (to Measure Risk)"
   ]
  },
  {
   "cell_type": "code",
   "execution_count": 197,
   "metadata": {},
   "outputs": [
    {
     "data": {
      "text/plain": [
       "279772.9242742282"
      ]
     },
     "execution_count": 197,
     "metadata": {},
     "output_type": "execute_result"
    }
   ],
   "source": [
    "# Upper limit of confidence interval\n",
    "upper_limit = pred_conf.iloc[:, 0][-1]\n",
    "upper_limit"
   ]
  },
  {
   "cell_type": "code",
   "execution_count": 198,
   "metadata": {},
   "outputs": [
    {
     "data": {
      "text/plain": [
       "309457.88906260306"
      ]
     },
     "execution_count": 198,
     "metadata": {},
     "output_type": "execute_result"
    }
   ],
   "source": [
    "# lower limit\n",
    "lower_limit = pred_conf.iloc[:, 1][-1]\n",
    "lower_limit"
   ]
  },
  {
   "cell_type": "code",
   "execution_count": 199,
   "metadata": {},
   "outputs": [],
   "source": [
    "arr = np.array([upper_limit, lower_limit])"
   ]
  },
  {
   "cell_type": "code",
   "execution_count": 200,
   "metadata": {},
   "outputs": [
    {
     "data": {
      "text/plain": [
       "14842.48"
      ]
     },
     "execution_count": 200,
     "metadata": {},
     "output_type": "execute_result"
    }
   ],
   "source": [
    "metairie_std = round(np.std(arr), 2)\n",
    "metairie_std"
   ]
  },
  {
   "cell_type": "code",
   "execution_count": 201,
   "metadata": {},
   "outputs": [],
   "source": [
    "metairie_months_forecasted = 24"
   ]
  },
  {
   "cell_type": "markdown",
   "metadata": {},
   "source": [
    "# Create Dataframe for Comparison"
   ]
  },
  {
   "cell_type": "code",
   "execution_count": 225,
   "metadata": {},
   "outputs": [],
   "source": [
    "data ={'Area': ['Aurora', 'Uptown', 'Metairie'],\n",
    "       'Latest Price': [\"${:,.0f}\".format(aurora_last_price), \"${:,.0f}\".format(uptown_last_price), \"${:,.0f}\".format(metairie_last_price)],\n",
    "       'Months Forecasted': [aurora_months_forecasted, uptown_months_forecasted, metairie_months_forecasted],\n",
    "       'Predicted ROI': [aurora_ROI, uptown_ROI, metairie_ROI],\n",
    "       'STD (Risk)': [aurora_std, uptown_std, metairie_std]\n",
    "      }"
   ]
  },
  {
   "cell_type": "code",
   "execution_count": 226,
   "metadata": {},
   "outputs": [
    {
     "data": {
      "text/html": [
       "<div>\n",
       "<style scoped>\n",
       "    .dataframe tbody tr th:only-of-type {\n",
       "        vertical-align: middle;\n",
       "    }\n",
       "\n",
       "    .dataframe tbody tr th {\n",
       "        vertical-align: top;\n",
       "    }\n",
       "\n",
       "    .dataframe thead th {\n",
       "        text-align: right;\n",
       "    }\n",
       "</style>\n",
       "<table border=\"1\" class=\"dataframe\">\n",
       "  <thead>\n",
       "    <tr style=\"text-align: right;\">\n",
       "      <th></th>\n",
       "      <th>Latest Price</th>\n",
       "      <th>Months Forecasted</th>\n",
       "      <th>Predicted ROI</th>\n",
       "      <th>STD (Risk)</th>\n",
       "    </tr>\n",
       "  </thead>\n",
       "  <tbody>\n",
       "    <tr>\n",
       "      <th>Aurora</th>\n",
       "      <td>$167,800</td>\n",
       "      <td>24</td>\n",
       "      <td>1.37%</td>\n",
       "      <td>10659.30</td>\n",
       "    </tr>\n",
       "    <tr>\n",
       "      <th>Uptown</th>\n",
       "      <td>$592,300</td>\n",
       "      <td>12</td>\n",
       "      <td>-14.79%</td>\n",
       "      <td>64761.29</td>\n",
       "    </tr>\n",
       "    <tr>\n",
       "      <th>Metairie</th>\n",
       "      <td>$291,600</td>\n",
       "      <td>24</td>\n",
       "      <td>1.03%</td>\n",
       "      <td>14842.48</td>\n",
       "    </tr>\n",
       "  </tbody>\n",
       "</table>\n",
       "</div>"
      ],
      "text/plain": [
       "         Latest Price  Months Forecasted Predicted ROI  STD (Risk)\n",
       "Aurora       $167,800                 24         1.37%    10659.30\n",
       "Uptown       $592,300                 12       -14.79%    64761.29\n",
       "Metairie     $291,600                 24         1.03%    14842.48"
      ]
     },
     "execution_count": 226,
     "metadata": {},
     "output_type": "execute_result"
    }
   ],
   "source": [
    "compare_df = pd.DataFrame(data).set_index('Area')\n",
    "compare_df.index.name = None\n",
    "compare_df"
   ]
  },
  {
   "cell_type": "code",
   "execution_count": null,
   "metadata": {},
   "outputs": [],
   "source": []
  }
 ],
 "metadata": {
  "kernelspec": {
   "display_name": "Python 3",
   "language": "python",
   "name": "python3"
  },
  "language_info": {
   "codemirror_mode": {
    "name": "ipython",
    "version": 3
   },
   "file_extension": ".py",
   "mimetype": "text/x-python",
   "name": "python",
   "nbconvert_exporter": "python",
   "pygments_lexer": "ipython3",
   "version": "3.6.9"
  }
 },
 "nbformat": 4,
 "nbformat_minor": 4
}
