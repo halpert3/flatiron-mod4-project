{
 "cells": [
  {
   "cell_type": "markdown",
   "metadata": {},
   "source": [
    "# Modeling"
   ]
  },
  {
   "cell_type": "code",
   "execution_count": 136,
   "metadata": {},
   "outputs": [],
   "source": [
    "import warnings\n",
    "warnings.filterwarnings('ignore')\n",
    "import itertools\n",
    "import pandas as pd\n",
    "import numpy as np\n",
    "import statsmodels.api as sm\n",
    "from statsmodels.tsa.arima_model import ARMA, ARIMAResults\n",
    "from pmdarima.arima import auto_arima\n",
    "import matplotlib.pyplot as plt\n",
    "from matplotlib.pylab import rcParams\n",
    "plt.style.use('ggplot')"
   ]
  },
  {
   "cell_type": "markdown",
   "metadata": {},
   "source": [
    "## Load dataframes"
   ]
  },
  {
   "cell_type": "code",
   "execution_count": 94,
   "metadata": {},
   "outputs": [],
   "source": [
    "uptown = pd.read_csv('../data/uptown.csv').set_index('Unnamed: 0')\n",
    "uptown.index.name = None\n",
    "\n",
    "lgd = pd.read_csv('../data/lgd.csv').set_index('Unnamed: 0')\n",
    "lgd.index.name = None\n",
    "\n",
    "audubon = pd.read_csv('../data/audubon.csv').set_index('Unnamed: 0')\n",
    "audubon.index.name = None\n",
    "\n",
    "metairie = pd.read_csv('../data/metairie.csv').set_index('Unnamed: 0')\n",
    "metairie.index.name = None\n",
    "\n",
    "aurora = pd.read_csv('../data/aurora.csv').set_index('Unnamed: 0')\n",
    "aurora.index.name = None"
   ]
  },
  {
   "cell_type": "code",
   "execution_count": 95,
   "metadata": {},
   "outputs": [],
   "source": [
    "def get_df_name(df):\n",
    "    name =[x for x in globals() if globals()[x] is df][0]\n",
    "    return name"
   ]
  },
  {
   "cell_type": "code",
   "execution_count": 96,
   "metadata": {},
   "outputs": [
    {
     "data": {
      "text/plain": [
       "'uptown'"
      ]
     },
     "execution_count": 96,
     "metadata": {},
     "output_type": "execute_result"
    }
   ],
   "source": [
    "get_df_name(uptown)"
   ]
  },
  {
   "cell_type": "code",
   "execution_count": 97,
   "metadata": {},
   "outputs": [],
   "source": [
    "def rolling_mean_subtraction(df, window):\n",
    "    roll_mean = df.rolling(window=window).mean()\n",
    "    df_minus_roll_mean = df - roll_mean\n",
    "    df_minus_roll_mean.dropna(inplace=True)\n",
    "    \n",
    "    dftest = adfuller(df_minus_roll_mean)\n",
    "    p_val = dftest[1]\n",
    "    \n",
    "    return (f\"p-value: {round(dftest[1], 3)} for window of {window}\")"
   ]
  },
  {
   "cell_type": "markdown",
   "metadata": {},
   "source": [
    "### Rolling mean windows to make dataframes stationary"
   ]
  },
  {
   "cell_type": "markdown",
   "metadata": {},
   "source": [
    "- Uptown: 2\n",
    "- LGD: 3\n",
    "- Audubon: 2\n",
    "- Metairie: 5\n",
    "- Aurora: 5"
   ]
  },
  {
   "cell_type": "markdown",
   "metadata": {},
   "source": [
    "## Add rolling mean dfs to notebook"
   ]
  },
  {
   "cell_type": "code",
   "execution_count": 98,
   "metadata": {},
   "outputs": [],
   "source": [
    "uptown_minus_roll_mean = uptown - uptown.rolling(window=2).mean()\n",
    "uptown_minus_roll_mean.dropna(inplace=True)"
   ]
  },
  {
   "cell_type": "code",
   "execution_count": 99,
   "metadata": {},
   "outputs": [],
   "source": [
    "lgd_minus_roll_mean = lgd - lgd.rolling(window=3).mean()\n",
    "lgd_minus_roll_mean.dropna(inplace=True)"
   ]
  },
  {
   "cell_type": "code",
   "execution_count": 100,
   "metadata": {},
   "outputs": [],
   "source": [
    "audubon_minus_roll_mean = audubon - audubon.rolling(window=2).mean()\n",
    "audubon_minus_roll_mean.dropna(inplace=True)"
   ]
  },
  {
   "cell_type": "code",
   "execution_count": 101,
   "metadata": {},
   "outputs": [],
   "source": [
    "metairie_minus_roll_mean = metairie - metairie.rolling(window=5).mean()\n",
    "metairie_minus_roll_mean.dropna(inplace=True)"
   ]
  },
  {
   "cell_type": "code",
   "execution_count": 102,
   "metadata": {},
   "outputs": [],
   "source": [
    "aurora_minus_roll_mean = aurora - aurora.rolling(window=5).mean()\n",
    "aurora_minus_roll_mean.dropna(inplace=True)"
   ]
  },
  {
   "cell_type": "code",
   "execution_count": 103,
   "metadata": {},
   "outputs": [
    {
     "data": {
      "text/html": [
       "<div>\n",
       "<style scoped>\n",
       "    .dataframe tbody tr th:only-of-type {\n",
       "        vertical-align: middle;\n",
       "    }\n",
       "\n",
       "    .dataframe tbody tr th {\n",
       "        vertical-align: top;\n",
       "    }\n",
       "\n",
       "    .dataframe thead th {\n",
       "        text-align: right;\n",
       "    }\n",
       "</style>\n",
       "<table border=\"1\" class=\"dataframe\">\n",
       "  <thead>\n",
       "    <tr style=\"text-align: right;\">\n",
       "      <th></th>\n",
       "      <th>70131</th>\n",
       "    </tr>\n",
       "  </thead>\n",
       "  <tbody>\n",
       "    <tr>\n",
       "      <th>1996-08-01</th>\n",
       "      <td>1800.0</td>\n",
       "    </tr>\n",
       "    <tr>\n",
       "      <th>1996-09-01</th>\n",
       "      <td>1620.0</td>\n",
       "    </tr>\n",
       "    <tr>\n",
       "      <th>1996-10-01</th>\n",
       "      <td>1420.0</td>\n",
       "    </tr>\n",
       "    <tr>\n",
       "      <th>1996-11-01</th>\n",
       "      <td>1200.0</td>\n",
       "    </tr>\n",
       "    <tr>\n",
       "      <th>1996-12-01</th>\n",
       "      <td>1000.0</td>\n",
       "    </tr>\n",
       "  </tbody>\n",
       "</table>\n",
       "</div>"
      ],
      "text/plain": [
       "             70131\n",
       "1996-08-01  1800.0\n",
       "1996-09-01  1620.0\n",
       "1996-10-01  1420.0\n",
       "1996-11-01  1200.0\n",
       "1996-12-01  1000.0"
      ]
     },
     "execution_count": 103,
     "metadata": {},
     "output_type": "execute_result"
    }
   ],
   "source": [
    "aurora_minus_roll_mean.head()"
   ]
  },
  {
   "cell_type": "markdown",
   "metadata": {},
   "source": [
    "## Differencing periods that make each dataframe stationary"
   ]
  },
  {
   "cell_type": "markdown",
   "metadata": {},
   "source": [
    "- Uptown: 1\n",
    "- LGD: 2\n",
    "- Audubon: 1\n",
    "- Metairie: 2\n",
    "- Aurora: 3"
   ]
  },
  {
   "cell_type": "markdown",
   "metadata": {},
   "source": [
    "# Initial Modeling - Uptown"
   ]
  },
  {
   "cell_type": "code",
   "execution_count": 104,
   "metadata": {},
   "outputs": [
    {
     "name": "stdout",
     "output_type": "stream",
     "text": [
      "AIC: 4533.65\n",
      "BIC: 4544.38\n"
     ]
    }
   ],
   "source": [
    "uptown_arma = ARMA(uptown.diff(1).dropna(), order=(1,0))\n",
    "res_arma = uptown_arma.fit()\n",
    "\n",
    "print(f\"AIC: {round(res_arma.aic, 2)}\")\n",
    "print(f\"BIC: {round(res_arma.bic, 2)}\")"
   ]
  },
  {
   "cell_type": "code",
   "execution_count": 105,
   "metadata": {},
   "outputs": [
    {
     "name": "stdout",
     "output_type": "stream",
     "text": [
      "AIC: 4392.3\n",
      "BIC: 4410.18\n"
     ]
    }
   ],
   "source": [
    "uptown_arma = ARMA(uptown.diff(1).dropna(), order=(2,1))\n",
    "res_arma = uptown_arma.fit()\n",
    "\n",
    "print(f\"AIC: {round(res_arma.aic, 2)}\")\n",
    "print(f\"BIC: {round(res_arma.bic, 2)}\")"
   ]
  },
  {
   "cell_type": "code",
   "execution_count": 106,
   "metadata": {},
   "outputs": [
    {
     "name": "stdout",
     "output_type": "stream",
     "text": [
      "AIC: 4391.0\n",
      "BIC: 4405.3\n"
     ]
    }
   ],
   "source": [
    "uptown_arma = ARMA(uptown.diff(1).dropna(), order=(1,1))\n",
    "res_arma = uptown_arma.fit()\n",
    "\n",
    "print(f\"AIC: {round(res_arma.aic, 2)}\")\n",
    "print(f\"BIC: {round(res_arma.bic, 2)}\")"
   ]
  },
  {
   "cell_type": "markdown",
   "metadata": {},
   "source": [
    "## ARIMA Modeling - Uptown"
   ]
  },
  {
   "cell_type": "markdown",
   "metadata": {},
   "source": [
    "### ARIMA Manual"
   ]
  },
  {
   "cell_type": "code",
   "execution_count": 107,
   "metadata": {},
   "outputs": [
    {
     "data": {
      "text/plain": [
       "[(0, 0, 0),\n",
       " (0, 0, 1),\n",
       " (0, 0, 2),\n",
       " (0, 1, 0),\n",
       " (0, 1, 1),\n",
       " (0, 1, 2),\n",
       " (0, 2, 0),\n",
       " (0, 2, 1),\n",
       " (0, 2, 2),\n",
       " (1, 0, 0),\n",
       " (1, 0, 1),\n",
       " (1, 0, 2),\n",
       " (1, 1, 0),\n",
       " (1, 1, 1),\n",
       " (1, 1, 2),\n",
       " (1, 2, 0),\n",
       " (1, 2, 1),\n",
       " (1, 2, 2),\n",
       " (2, 0, 0),\n",
       " (2, 0, 1),\n",
       " (2, 0, 2),\n",
       " (2, 1, 0),\n",
       " (2, 1, 1),\n",
       " (2, 1, 2),\n",
       " (2, 2, 0),\n",
       " (2, 2, 1),\n",
       " (2, 2, 2)]"
      ]
     },
     "execution_count": 107,
     "metadata": {},
     "output_type": "execute_result"
    }
   ],
   "source": [
    "# Define the p, d and q parameters to take any value between 0 and 2\n",
    "p = d = q = range(0, 3)\n",
    "\n",
    "# Generate all different combinations of p, q and q triplets\n",
    "pdq = list(itertools.product(p, d, q))\n",
    "# print(pdq)\n",
    "\n",
    "# Generate all different combinations of seasonal p, q and q triplets (use 12 for frequency)\n",
    "pdqs = [(x[0], x[1], x[2]) for x in pdq]\n",
    "\n",
    "pdq"
   ]
  },
  {
   "cell_type": "code",
   "execution_count": 108,
   "metadata": {},
   "outputs": [
    {
     "name": "stdout",
     "output_type": "stream",
     "text": [
      "ARIMA (0, 0, 0): AIC Calculated = 6935.87\n",
      "ARIMA (0, 0, 1): AIC Calculated = 6580.2\n",
      "ARIMA (0, 1, 0): AIC Calculated = 4986.34\n",
      "ARIMA (0, 1, 1): AIC Calculated = 4664.73\n",
      "ARIMA (0, 2, 0): AIC Calculated = 4522.06\n",
      "ARIMA (0, 2, 1): AIC Calculated = 4391.21\n",
      "ARIMA (1, 0, 0): AIC Calculated = 5101.2\n",
      "ARIMA (1, 1, 0): AIC Calculated = 4533.65\n",
      "ARIMA (1, 1, 1): AIC Calculated = 4391.0\n",
      "ARIMA (1, 2, 0): AIC Calculated = 4496.6\n",
      "ARIMA (1, 2, 1): AIC Calculated = 4392.77\n",
      "ARIMA (2, 0, 0): AIC Calculated = 4562.55\n",
      "ARIMA (2, 0, 1): AIC Calculated = 4424.01\n",
      "ARIMA (2, 1, 0): AIC Calculated = 4496.67\n",
      "ARIMA (2, 1, 1): AIC Calculated = 4392.3\n",
      "ARIMA (2, 2, 0): AIC Calculated = 4383.29\n",
      "ARIMA (2, 2, 1): AIC Calculated = 4341.93\n",
      "ARIMA (2, 2, 2): AIC Calculated = 4343.88\n",
      "4341.9276\n"
     ]
    }
   ],
   "source": [
    "# Run a grid with pdq and seasonal pdq parameters calculated above and get the best AIC value\n",
    "ans = []\n",
    "lowest_aic = 10000\n",
    "for comb in pdq:\n",
    "    try:\n",
    "        uptown_arima = sm.tsa.ARIMA(uptown, order=comb)\n",
    "        output = uptown_arima.fit()\n",
    "        ans.append([comb, output.aic])\n",
    "        print('ARIMA {}: AIC Calculated = {}'.format(comb, round(output.aic, 2)))\n",
    "        if output.aic < lowest_aic:\n",
    "            lowest_aic = output.aic\n",
    "    except:\n",
    "        continue\n",
    "        \n",
    "print(round(lowest_aic, 4))"
   ]
  },
  {
   "cell_type": "markdown",
   "metadata": {},
   "source": [
    "### Auto ARIMA"
   ]
  },
  {
   "cell_type": "markdown",
   "metadata": {},
   "source": [
    "#### Train test split"
   ]
  },
  {
   "cell_type": "code",
   "execution_count": 109,
   "metadata": {},
   "outputs": [
    {
     "data": {
      "text/plain": [
       "265"
      ]
     },
     "execution_count": 109,
     "metadata": {},
     "output_type": "execute_result"
    }
   ],
   "source": [
    "len(uptown)"
   ]
  },
  {
   "cell_type": "code",
   "execution_count": 110,
   "metadata": {},
   "outputs": [
    {
     "data": {
      "text/plain": [
       "53.0"
      ]
     },
     "execution_count": 110,
     "metadata": {},
     "output_type": "execute_result"
    }
   ],
   "source": [
    "265/5"
   ]
  },
  {
   "cell_type": "code",
   "execution_count": 111,
   "metadata": {},
   "outputs": [
    {
     "data": {
      "text/plain": [
       "212"
      ]
     },
     "execution_count": 111,
     "metadata": {},
     "output_type": "execute_result"
    }
   ],
   "source": [
    "265 - 53"
   ]
  },
  {
   "cell_type": "code",
   "execution_count": 112,
   "metadata": {},
   "outputs": [],
   "source": [
    "uptown_train = uptown.iloc[0:212]\n",
    "uptown_test = uptown.iloc[212:]"
   ]
  },
  {
   "cell_type": "code",
   "execution_count": 113,
   "metadata": {},
   "outputs": [
    {
     "data": {
      "text/html": [
       "<div>\n",
       "<style scoped>\n",
       "    .dataframe tbody tr th:only-of-type {\n",
       "        vertical-align: middle;\n",
       "    }\n",
       "\n",
       "    .dataframe tbody tr th {\n",
       "        vertical-align: top;\n",
       "    }\n",
       "\n",
       "    .dataframe thead th {\n",
       "        text-align: right;\n",
       "    }\n",
       "</style>\n",
       "<table border=\"1\" class=\"dataframe\">\n",
       "  <thead>\n",
       "    <tr style=\"text-align: right;\">\n",
       "      <th></th>\n",
       "      <th>70115</th>\n",
       "    </tr>\n",
       "  </thead>\n",
       "  <tbody>\n",
       "    <tr>\n",
       "      <th>2013-07-01</th>\n",
       "      <td>366800.0</td>\n",
       "    </tr>\n",
       "    <tr>\n",
       "      <th>2013-08-01</th>\n",
       "      <td>366800.0</td>\n",
       "    </tr>\n",
       "    <tr>\n",
       "      <th>2013-09-01</th>\n",
       "      <td>368700.0</td>\n",
       "    </tr>\n",
       "    <tr>\n",
       "      <th>2013-10-01</th>\n",
       "      <td>370900.0</td>\n",
       "    </tr>\n",
       "    <tr>\n",
       "      <th>2013-11-01</th>\n",
       "      <td>372500.0</td>\n",
       "    </tr>\n",
       "  </tbody>\n",
       "</table>\n",
       "</div>"
      ],
      "text/plain": [
       "               70115\n",
       "2013-07-01  366800.0\n",
       "2013-08-01  366800.0\n",
       "2013-09-01  368700.0\n",
       "2013-10-01  370900.0\n",
       "2013-11-01  372500.0"
      ]
     },
     "execution_count": 113,
     "metadata": {},
     "output_type": "execute_result"
    }
   ],
   "source": [
    "uptown_train.tail()"
   ]
  },
  {
   "cell_type": "code",
   "execution_count": 114,
   "metadata": {},
   "outputs": [
    {
     "data": {
      "text/html": [
       "<div>\n",
       "<style scoped>\n",
       "    .dataframe tbody tr th:only-of-type {\n",
       "        vertical-align: middle;\n",
       "    }\n",
       "\n",
       "    .dataframe tbody tr th {\n",
       "        vertical-align: top;\n",
       "    }\n",
       "\n",
       "    .dataframe thead th {\n",
       "        text-align: right;\n",
       "    }\n",
       "</style>\n",
       "<table border=\"1\" class=\"dataframe\">\n",
       "  <thead>\n",
       "    <tr style=\"text-align: right;\">\n",
       "      <th></th>\n",
       "      <th>70115</th>\n",
       "    </tr>\n",
       "  </thead>\n",
       "  <tbody>\n",
       "    <tr>\n",
       "      <th>2013-12-01</th>\n",
       "      <td>374100.0</td>\n",
       "    </tr>\n",
       "    <tr>\n",
       "      <th>2014-01-01</th>\n",
       "      <td>375900.0</td>\n",
       "    </tr>\n",
       "    <tr>\n",
       "      <th>2014-02-01</th>\n",
       "      <td>377600.0</td>\n",
       "    </tr>\n",
       "    <tr>\n",
       "      <th>2014-03-01</th>\n",
       "      <td>378200.0</td>\n",
       "    </tr>\n",
       "    <tr>\n",
       "      <th>2014-04-01</th>\n",
       "      <td>376900.0</td>\n",
       "    </tr>\n",
       "  </tbody>\n",
       "</table>\n",
       "</div>"
      ],
      "text/plain": [
       "               70115\n",
       "2013-12-01  374100.0\n",
       "2014-01-01  375900.0\n",
       "2014-02-01  377600.0\n",
       "2014-03-01  378200.0\n",
       "2014-04-01  376900.0"
      ]
     },
     "execution_count": 114,
     "metadata": {},
     "output_type": "execute_result"
    }
   ],
   "source": [
    "uptown_test.head()"
   ]
  },
  {
   "cell_type": "code",
   "execution_count": 115,
   "metadata": {},
   "outputs": [
    {
     "data": {
      "text/plain": [
       "True"
      ]
     },
     "execution_count": 115,
     "metadata": {},
     "output_type": "execute_result"
    }
   ],
   "source": [
    "len(uptown_train) + len(uptown_test) == 265"
   ]
  },
  {
   "cell_type": "code",
   "execution_count": 116,
   "metadata": {},
   "outputs": [
    {
     "data": {
      "image/png": "[encoded data removed]",
      "text/plain": [
       "<Figure size 720x360 with 1 Axes>"
      ]
     },
     "metadata": {},
     "output_type": "display_data"
    }
   ],
   "source": [
    "fig = plt.figure(figsize=(10,5))\n",
    "plt.plot(uptown_train)\n",
    "plt.plot(uptown_test)\n",
    "plt.show()"
   ]
  },
  {
   "cell_type": "markdown",
   "metadata": {},
   "source": [
    "Because the training set stops just as the test sets starts a sharp uptick, I'm going make the training set longer."
   ]
  },
  {
   "cell_type": "code",
   "execution_count": 117,
   "metadata": {},
   "outputs": [
    {
     "data": {
      "image/png": "[encoded data removed]",
      "text/plain": [
       "<Figure size 720x360 with 1 Axes>"
      ]
     },
     "metadata": {},
     "output_type": "display_data"
    }
   ],
   "source": [
    "fig = plt.figure(figsize=(10,5))\n",
    "uptown_train = uptown.iloc[0:240]\n",
    "uptown_test = uptown.iloc[240:]\n",
    "plt.plot(uptown_train)\n",
    "plt.plot(uptown_test)\n",
    "plt.show()"
   ]
  },
  {
   "cell_type": "markdown",
   "metadata": {},
   "source": [
    "... a little more..."
   ]
  },
  {
   "cell_type": "code",
   "execution_count": 118,
   "metadata": {},
   "outputs": [
    {
     "data": {
      "image/png": "[encoded data removed]",
      "text/plain": [
       "<Figure size 720x360 with 1 Axes>"
      ]
     },
     "metadata": {},
     "output_type": "display_data"
    }
   ],
   "source": [
    "fig = plt.figure(figsize=(10,5))\n",
    "uptown_train = uptown.iloc[0:245]\n",
    "uptown_test = uptown.iloc[245:]\n",
    "plt.plot(uptown_train)\n",
    "plt.plot(uptown_test)\n",
    "plt.show()"
   ]
  },
  {
   "cell_type": "markdown",
   "metadata": {},
   "source": [
    "#### Run Auto ARIMA"
   ]
  },
  {
   "cell_type": "code",
   "execution_count": 119,
   "metadata": {},
   "outputs": [
    {
     "name": "stdout",
     "output_type": "stream",
     "text": [
      "Performing stepwise search to minimize aic\n",
      " ARIMA(0,1,0)(0,0,0)[0] intercept   : AIC=4551.241, Time=0.05 sec\n",
      " ARIMA(1,1,0)(0,0,0)[0] intercept   : AIC=4554.671, Time=0.26 sec\n",
      " ARIMA(0,1,1)(0,0,0)[0] intercept   : AIC=4532.699, Time=0.23 sec\n",
      " ARIMA(0,1,0)(0,0,0)[0]             : AIC=4620.415, Time=0.01 sec\n",
      " ARIMA(1,1,1)(0,0,0)[0] intercept   : AIC=4500.457, Time=0.50 sec\n",
      " ARIMA(2,1,1)(0,0,0)[0] intercept   : AIC=4508.201, Time=0.46 sec\n",
      " ARIMA(1,1,2)(0,0,0)[0] intercept   : AIC=4506.038, Time=0.48 sec\n",
      " ARIMA(0,1,2)(0,0,0)[0] intercept   : AIC=4524.660, Time=0.36 sec\n",
      " ARIMA(2,1,0)(0,0,0)[0] intercept   : AIC=4540.518, Time=0.45 sec\n",
      " ARIMA(2,1,2)(0,0,0)[0] intercept   : AIC=4516.673, Time=0.84 sec\n",
      " ARIMA(1,1,1)(0,0,0)[0]             : AIC=inf, Time=0.44 sec\n",
      "\n",
      "Best model:  ARIMA(1,1,1)(0,0,0)[0] intercept\n",
      "Total fit time: 4.116 seconds\n"
     ]
    }
   ],
   "source": [
    "uptown_auto_arima = auto_arima(uptown_train,\n",
    "                               start_p=0, d=None, start_q=0,\n",
    "                               max_p=4, max_d=5, max_q=5,\n",
    "                               suppress_warnings=True, trace=True, stepwise=True, n_fits=20)"
   ]
  },
  {
   "cell_type": "markdown",
   "metadata": {},
   "source": [
    "Here my minimum AIC is 4500.457 for (1,1,1)"
   ]
  },
  {
   "cell_type": "markdown",
   "metadata": {},
   "source": [
    "#### Compare with manual ARIMA on train set only"
   ]
  },
  {
   "cell_type": "code",
   "execution_count": 120,
   "metadata": {},
   "outputs": [
    {
     "name": "stdout",
     "output_type": "stream",
     "text": [
      "ARIMA (0, 0, 0): AIC Calculated = 6282.55\n",
      "ARIMA (0, 0, 1): AIC Calculated = 5955.41\n",
      "ARIMA (0, 0, 2): AIC Calculated = 5640.17\n",
      "ARIMA (0, 1, 0): AIC Calculated = 4551.24\n",
      "ARIMA (0, 1, 1): AIC Calculated = 4254.85\n",
      "ARIMA (0, 2, 0): AIC Calculated = 4047.19\n",
      "ARIMA (0, 2, 1): AIC Calculated = 3949.24\n",
      "ARIMA (0, 2, 2): AIC Calculated = 3948.95\n",
      "ARIMA (1, 0, 0): AIC Calculated = 4651.58\n",
      "ARIMA (1, 1, 0): AIC Calculated = 4066.52\n",
      "ARIMA (1, 1, 1): AIC Calculated = 3958.04\n",
      "ARIMA (1, 1, 2): AIC Calculated = 3947.9\n",
      "ARIMA (1, 2, 0): AIC Calculated = 4023.04\n",
      "ARIMA (1, 2, 1): AIC Calculated = 3950.55\n",
      "ARIMA (1, 2, 2): AIC Calculated = 3939.84\n",
      "ARIMA (2, 0, 0): AIC Calculated = 4109.41\n",
      "ARIMA (2, 1, 0): AIC Calculated = 4032.58\n",
      "ARIMA (2, 1, 1): AIC Calculated = 3959.77\n",
      "ARIMA (2, 1, 2): AIC Calculated = 3959.03\n",
      "ARIMA (2, 2, 0): AIC Calculated = 3965.28\n",
      "ARIMA (2, 2, 1): AIC Calculated = 3922.33\n",
      "ARIMA (2, 2, 2): AIC Calculated = 3896.31\n",
      "3896.3092\n"
     ]
    }
   ],
   "source": [
    "ans = []\n",
    "lowest_aic = 10000\n",
    "for comb in pdq:\n",
    "    try:\n",
    "        uptown_arima_train = sm.tsa.ARIMA(uptown_train, order=comb)\n",
    "        output = uptown_arima_train.fit()\n",
    "        ans.append([comb, output.aic])\n",
    "        print('ARIMA {}: AIC Calculated = {}'.format(comb, round(output.aic, 2)))\n",
    "        if output.aic < lowest_aic:\n",
    "            lowest_aic = output.aic\n",
    "    except:\n",
    "        continue\n",
    "        \n",
    "print(round(lowest_aic, 4))"
   ]
  },
  {
   "cell_type": "markdown",
   "metadata": {},
   "source": [
    "- Here my lowest AIC is 3896 which is ARIMA (2,2,2)\n",
    "- Compared to the lowest AIC in autoARIMA, manual ARIMA (1,1,1) is 3958.04, which is the same as autoARIMA's AIC for the same parameters.  "
   ]
  },
  {
   "cell_type": "markdown",
   "metadata": {},
   "source": [
    "#### Check the models"
   ]
  },
  {
   "cell_type": "code",
   "execution_count": 121,
   "metadata": {},
   "outputs": [
    {
     "name": "stdout",
     "output_type": "stream",
     "text": [
      "==============================================================================\n",
      "                 coef    std err          z      P>|z|      [0.025      0.975]\n",
      "------------------------------------------------------------------------------\n",
      "intercept    233.6206     78.223      2.987      0.003      80.307     386.934\n",
      "ar.L1          0.8301      0.037     22.692      0.000       0.758       0.902\n",
      "ma.L1         -0.7568      0.040    -18.896      0.000      -0.835      -0.678\n",
      "sigma2      5.549e+06      0.008   7.31e+08      0.000    5.55e+06    5.55e+06\n",
      "==============================================================================\n"
     ]
    }
   ],
   "source": [
    "output = uptown_auto_arima.fit(uptown_train)\n",
    "\n",
    "print(output.summary().tables[1])"
   ]
  },
  {
   "cell_type": "code",
   "execution_count": 122,
   "metadata": {},
   "outputs": [
    {
     "data": {
      "image/png": "[encoded data removed]",
      "text/plain": [
       "<Figure size 1080x1296 with 4 Axes>"
      ]
     },
     "metadata": {},
     "output_type": "display_data"
    }
   ],
   "source": [
    "output.plot_diagnostics(figsize=(15, 18))\n",
    "plt.show()"
   ]
  },
  {
   "cell_type": "markdown",
   "metadata": {},
   "source": [
    "Not a great fit. Try the manual model (1, 1, 1)"
   ]
  },
  {
   "cell_type": "code",
   "execution_count": 123,
   "metadata": {},
   "outputs": [
    {
     "name": "stdout",
     "output_type": "stream",
     "text": [
      "=================================================================================\n",
      "                    coef    std err          z      P>|z|      [0.025      0.975]\n",
      "---------------------------------------------------------------------------------\n",
      "const          1873.9119    758.084      2.472      0.014     388.094    3359.730\n",
      "ar.L1.D.70115     0.8836      0.033     26.937      0.000       0.819       0.948\n",
      "ma.L1.D.70115     0.7953      0.037     21.375      0.000       0.722       0.868\n",
      "=================================================================================\n"
     ]
    }
   ],
   "source": [
    "uptown_arima = sm.tsa.ARIMA(uptown_train, order=[1,1,1])\n",
    "output = uptown_arima.fit()\n",
    "\n",
    "print(output.summary().tables[1])"
   ]
  },
  {
   "cell_type": "code",
   "execution_count": 132,
   "metadata": {},
   "outputs": [
    {
     "data": {
      "text/plain": [
       "'0.10.1'"
      ]
     },
     "execution_count": 132,
     "metadata": {},
     "output_type": "execute_result"
    }
   ],
   "source": [
    "import statsmodels\n",
    "statsmodels.__version__"
   ]
  },
  {
   "cell_type": "code",
   "execution_count": 138,
   "metadata": {},
   "outputs": [
    {
     "ename": "AttributeError",
     "evalue": "'ARIMAResults' object has no attribute 'plot_diagnostics'",
     "output_type": "error",
     "traceback": [
      "\u001b[1;31m---------------------------------------------------------------------------\u001b[0m",
      "\u001b[1;31mAttributeError\u001b[0m                            Traceback (most recent call last)",
      "\u001b[1;32m<ipython-input-138-14c55e3d338b>\u001b[0m in \u001b[0;36m<module>\u001b[1;34m\u001b[0m\n\u001b[1;32m----> 1\u001b[1;33m \u001b[0moutput\u001b[0m\u001b[1;33m.\u001b[0m\u001b[0mplot_diagnostics\u001b[0m\u001b[1;33m(\u001b[0m\u001b[0mfigsize\u001b[0m\u001b[1;33m=\u001b[0m\u001b[1;33m(\u001b[0m\u001b[1;36m15\u001b[0m\u001b[1;33m,\u001b[0m \u001b[1;36m18\u001b[0m\u001b[1;33m)\u001b[0m\u001b[1;33m)\u001b[0m\u001b[1;33m\u001b[0m\u001b[1;33m\u001b[0m\u001b[0m\n\u001b[0m\u001b[0;32m      2\u001b[0m \u001b[0mplt\u001b[0m\u001b[1;33m.\u001b[0m\u001b[0mshow\u001b[0m\u001b[1;33m(\u001b[0m\u001b[1;33m)\u001b[0m\u001b[1;33m\u001b[0m\u001b[1;33m\u001b[0m\u001b[0m\n",
      "\u001b[1;32m~\\.conda\\envs\\learn-env\\lib\\site-packages\\statsmodels\\base\\wrapper.py\u001b[0m in \u001b[0;36m__getattribute__\u001b[1;34m(self, attr)\u001b[0m\n\u001b[0;32m     33\u001b[0m             \u001b[1;32mpass\u001b[0m\u001b[1;33m\u001b[0m\u001b[1;33m\u001b[0m\u001b[0m\n\u001b[0;32m     34\u001b[0m \u001b[1;33m\u001b[0m\u001b[0m\n\u001b[1;32m---> 35\u001b[1;33m         \u001b[0mobj\u001b[0m \u001b[1;33m=\u001b[0m \u001b[0mgetattr\u001b[0m\u001b[1;33m(\u001b[0m\u001b[0mresults\u001b[0m\u001b[1;33m,\u001b[0m \u001b[0mattr\u001b[0m\u001b[1;33m)\u001b[0m\u001b[1;33m\u001b[0m\u001b[1;33m\u001b[0m\u001b[0m\n\u001b[0m\u001b[0;32m     36\u001b[0m         \u001b[0mdata\u001b[0m \u001b[1;33m=\u001b[0m \u001b[0mresults\u001b[0m\u001b[1;33m.\u001b[0m\u001b[0mmodel\u001b[0m\u001b[1;33m.\u001b[0m\u001b[0mdata\u001b[0m\u001b[1;33m\u001b[0m\u001b[1;33m\u001b[0m\u001b[0m\n\u001b[0;32m     37\u001b[0m         \u001b[0mhow\u001b[0m \u001b[1;33m=\u001b[0m \u001b[0mself\u001b[0m\u001b[1;33m.\u001b[0m\u001b[0m_wrap_attrs\u001b[0m\u001b[1;33m.\u001b[0m\u001b[0mget\u001b[0m\u001b[1;33m(\u001b[0m\u001b[0mattr\u001b[0m\u001b[1;33m)\u001b[0m\u001b[1;33m\u001b[0m\u001b[1;33m\u001b[0m\u001b[0m\n",
      "\u001b[1;31mAttributeError\u001b[0m: 'ARIMAResults' object has no attribute 'plot_diagnostics'"
     ]
    }
   ],
   "source": [
    "\n",
    "output.plot_diagnostics(figsize=(15, 18))\n",
    "plt.show()"
   ]
  },
  {
   "cell_type": "code",
   "execution_count": null,
   "metadata": {},
   "outputs": [],
   "source": []
  }
 ],
 "metadata": {
  "kernelspec": {
   "display_name": "Python 3",
   "language": "python",
   "name": "python3"
  },
  "language_info": {
   "codemirror_mode": {
    "name": "ipython",
    "version": 3
   },
   "file_extension": ".py",
   "mimetype": "text/x-python",
   "name": "python",
   "nbconvert_exporter": "python",
   "pygments_lexer": "ipython3",
   "version": "3.6.9"
  }
 },
 "nbformat": 4,
 "nbformat_minor": 4
}
