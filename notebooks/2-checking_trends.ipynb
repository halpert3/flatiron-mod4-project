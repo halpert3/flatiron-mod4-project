{
 "cells": [
  {
   "cell_type": "markdown",
   "metadata": {},
   "source": [
    "# Load dataframe"
   ]
  },
  {
   "cell_type": "code",
   "execution_count": 1,
   "metadata": {},
   "outputs": [],
   "source": [
    "import pandas as pd\n",
    "import numpy as np\n",
    "import matplotlib.pyplot as plt"
   ]
  },
  {
   "cell_type": "code",
   "execution_count": 2,
   "metadata": {},
   "outputs": [
    {
     "data": {
      "text/html": [
       "<div>\n",
       "<style scoped>\n",
       "    .dataframe tbody tr th:only-of-type {\n",
       "        vertical-align: middle;\n",
       "    }\n",
       "\n",
       "    .dataframe tbody tr th {\n",
       "        vertical-align: top;\n",
       "    }\n",
       "\n",
       "    .dataframe thead th {\n",
       "        text-align: right;\n",
       "    }\n",
       "</style>\n",
       "<table border=\"1\" class=\"dataframe\">\n",
       "  <thead>\n",
       "    <tr style=\"text-align: right;\">\n",
       "      <th></th>\n",
       "      <th>Unnamed: 0</th>\n",
       "      <th>70115</th>\n",
       "      <th>70130</th>\n",
       "      <th>70118</th>\n",
       "      <th>70005</th>\n",
       "      <th>70131</th>\n",
       "    </tr>\n",
       "  </thead>\n",
       "  <tbody>\n",
       "    <tr>\n",
       "      <th>0</th>\n",
       "      <td>1996-04-01</td>\n",
       "      <td>131700.0</td>\n",
       "      <td>111600.0</td>\n",
       "      <td>87900.0</td>\n",
       "      <td>131000.0</td>\n",
       "      <td>90900.0</td>\n",
       "    </tr>\n",
       "    <tr>\n",
       "      <th>1</th>\n",
       "      <td>1996-05-01</td>\n",
       "      <td>132900.0</td>\n",
       "      <td>112800.0</td>\n",
       "      <td>88700.0</td>\n",
       "      <td>133000.0</td>\n",
       "      <td>91900.0</td>\n",
       "    </tr>\n",
       "    <tr>\n",
       "      <th>2</th>\n",
       "      <td>1996-06-01</td>\n",
       "      <td>134200.0</td>\n",
       "      <td>114100.0</td>\n",
       "      <td>89700.0</td>\n",
       "      <td>135200.0</td>\n",
       "      <td>92800.0</td>\n",
       "    </tr>\n",
       "    <tr>\n",
       "      <th>3</th>\n",
       "      <td>1996-07-01</td>\n",
       "      <td>135700.0</td>\n",
       "      <td>115400.0</td>\n",
       "      <td>90800.0</td>\n",
       "      <td>137400.0</td>\n",
       "      <td>93800.0</td>\n",
       "    </tr>\n",
       "    <tr>\n",
       "      <th>4</th>\n",
       "      <td>1996-08-01</td>\n",
       "      <td>137300.0</td>\n",
       "      <td>116800.0</td>\n",
       "      <td>91900.0</td>\n",
       "      <td>139400.0</td>\n",
       "      <td>94600.0</td>\n",
       "    </tr>\n",
       "  </tbody>\n",
       "</table>\n",
       "</div>"
      ],
      "text/plain": [
       "   Unnamed: 0     70115     70130    70118     70005    70131\n",
       "0  1996-04-01  131700.0  111600.0  87900.0  131000.0  90900.0\n",
       "1  1996-05-01  132900.0  112800.0  88700.0  133000.0  91900.0\n",
       "2  1996-06-01  134200.0  114100.0  89700.0  135200.0  92800.0\n",
       "3  1996-07-01  135700.0  115400.0  90800.0  137400.0  93800.0\n",
       "4  1996-08-01  137300.0  116800.0  91900.0  139400.0  94600.0"
      ]
     },
     "execution_count": 2,
     "metadata": {},
     "output_type": "execute_result"
    }
   ],
   "source": [
    "df = pd.read_csv('../data/nola.csv')\n",
    "df.head()"
   ]
  },
  {
   "cell_type": "markdown",
   "metadata": {},
   "source": [
    "## Resetting index to datetime"
   ]
  },
  {
   "cell_type": "code",
   "execution_count": 3,
   "metadata": {},
   "outputs": [
    {
     "data": {
      "text/html": [
       "<div>\n",
       "<style scoped>\n",
       "    .dataframe tbody tr th:only-of-type {\n",
       "        vertical-align: middle;\n",
       "    }\n",
       "\n",
       "    .dataframe tbody tr th {\n",
       "        vertical-align: top;\n",
       "    }\n",
       "\n",
       "    .dataframe thead th {\n",
       "        text-align: right;\n",
       "    }\n",
       "</style>\n",
       "<table border=\"1\" class=\"dataframe\">\n",
       "  <thead>\n",
       "    <tr style=\"text-align: right;\">\n",
       "      <th></th>\n",
       "      <th>70115</th>\n",
       "      <th>70130</th>\n",
       "      <th>70118</th>\n",
       "      <th>70005</th>\n",
       "      <th>70131</th>\n",
       "    </tr>\n",
       "  </thead>\n",
       "  <tbody>\n",
       "    <tr>\n",
       "      <th>1996-04-01</th>\n",
       "      <td>131700.0</td>\n",
       "      <td>111600.0</td>\n",
       "      <td>87900.0</td>\n",
       "      <td>131000.0</td>\n",
       "      <td>90900.0</td>\n",
       "    </tr>\n",
       "    <tr>\n",
       "      <th>1996-05-01</th>\n",
       "      <td>132900.0</td>\n",
       "      <td>112800.0</td>\n",
       "      <td>88700.0</td>\n",
       "      <td>133000.0</td>\n",
       "      <td>91900.0</td>\n",
       "    </tr>\n",
       "    <tr>\n",
       "      <th>1996-06-01</th>\n",
       "      <td>134200.0</td>\n",
       "      <td>114100.0</td>\n",
       "      <td>89700.0</td>\n",
       "      <td>135200.0</td>\n",
       "      <td>92800.0</td>\n",
       "    </tr>\n",
       "    <tr>\n",
       "      <th>1996-07-01</th>\n",
       "      <td>135700.0</td>\n",
       "      <td>115400.0</td>\n",
       "      <td>90800.0</td>\n",
       "      <td>137400.0</td>\n",
       "      <td>93800.0</td>\n",
       "    </tr>\n",
       "    <tr>\n",
       "      <th>1996-08-01</th>\n",
       "      <td>137300.0</td>\n",
       "      <td>116800.0</td>\n",
       "      <td>91900.0</td>\n",
       "      <td>139400.0</td>\n",
       "      <td>94600.0</td>\n",
       "    </tr>\n",
       "  </tbody>\n",
       "</table>\n",
       "</div>"
      ],
      "text/plain": [
       "               70115     70130    70118     70005    70131\n",
       "1996-04-01  131700.0  111600.0  87900.0  131000.0  90900.0\n",
       "1996-05-01  132900.0  112800.0  88700.0  133000.0  91900.0\n",
       "1996-06-01  134200.0  114100.0  89700.0  135200.0  92800.0\n",
       "1996-07-01  135700.0  115400.0  90800.0  137400.0  93800.0\n",
       "1996-08-01  137300.0  116800.0  91900.0  139400.0  94600.0"
      ]
     },
     "execution_count": 3,
     "metadata": {},
     "output_type": "execute_result"
    }
   ],
   "source": [
    "df = df.set_index('Unnamed: 0')\n",
    "df.index.name = None\n",
    "df.head()"
   ]
  },
  {
   "cell_type": "code",
   "execution_count": 4,
   "metadata": {},
   "outputs": [
    {
     "data": {
      "text/plain": [
       "dtype('O')"
      ]
     },
     "execution_count": 4,
     "metadata": {},
     "output_type": "execute_result"
    }
   ],
   "source": [
    "df.index.dtype"
   ]
  },
  {
   "cell_type": "code",
   "execution_count": 5,
   "metadata": {},
   "outputs": [
    {
     "data": {
      "text/plain": [
       "dtype('<M8[ns]')"
      ]
     },
     "execution_count": 5,
     "metadata": {},
     "output_type": "execute_result"
    }
   ],
   "source": [
    "df.index = pd.to_datetime(df.index, format='%Y-%m')\n",
    "df.index.dtype"
   ]
  },
  {
   "cell_type": "code",
   "execution_count": 6,
   "metadata": {},
   "outputs": [
    {
     "data": {
      "text/html": [
       "<div>\n",
       "<style scoped>\n",
       "    .dataframe tbody tr th:only-of-type {\n",
       "        vertical-align: middle;\n",
       "    }\n",
       "\n",
       "    .dataframe tbody tr th {\n",
       "        vertical-align: top;\n",
       "    }\n",
       "\n",
       "    .dataframe thead th {\n",
       "        text-align: right;\n",
       "    }\n",
       "</style>\n",
       "<table border=\"1\" class=\"dataframe\">\n",
       "  <thead>\n",
       "    <tr style=\"text-align: right;\">\n",
       "      <th></th>\n",
       "      <th>70115</th>\n",
       "      <th>70130</th>\n",
       "      <th>70118</th>\n",
       "      <th>70005</th>\n",
       "      <th>70131</th>\n",
       "    </tr>\n",
       "  </thead>\n",
       "  <tbody>\n",
       "    <tr>\n",
       "      <th>1996-04-01</th>\n",
       "      <td>131700.0</td>\n",
       "      <td>111600.0</td>\n",
       "      <td>87900.0</td>\n",
       "      <td>131000.0</td>\n",
       "      <td>90900.0</td>\n",
       "    </tr>\n",
       "    <tr>\n",
       "      <th>1996-05-01</th>\n",
       "      <td>132900.0</td>\n",
       "      <td>112800.0</td>\n",
       "      <td>88700.0</td>\n",
       "      <td>133000.0</td>\n",
       "      <td>91900.0</td>\n",
       "    </tr>\n",
       "    <tr>\n",
       "      <th>1996-06-01</th>\n",
       "      <td>134200.0</td>\n",
       "      <td>114100.0</td>\n",
       "      <td>89700.0</td>\n",
       "      <td>135200.0</td>\n",
       "      <td>92800.0</td>\n",
       "    </tr>\n",
       "    <tr>\n",
       "      <th>1996-07-01</th>\n",
       "      <td>135700.0</td>\n",
       "      <td>115400.0</td>\n",
       "      <td>90800.0</td>\n",
       "      <td>137400.0</td>\n",
       "      <td>93800.0</td>\n",
       "    </tr>\n",
       "    <tr>\n",
       "      <th>1996-08-01</th>\n",
       "      <td>137300.0</td>\n",
       "      <td>116800.0</td>\n",
       "      <td>91900.0</td>\n",
       "      <td>139400.0</td>\n",
       "      <td>94600.0</td>\n",
       "    </tr>\n",
       "  </tbody>\n",
       "</table>\n",
       "</div>"
      ],
      "text/plain": [
       "               70115     70130    70118     70005    70131\n",
       "1996-04-01  131700.0  111600.0  87900.0  131000.0  90900.0\n",
       "1996-05-01  132900.0  112800.0  88700.0  133000.0  91900.0\n",
       "1996-06-01  134200.0  114100.0  89700.0  135200.0  92800.0\n",
       "1996-07-01  135700.0  115400.0  90800.0  137400.0  93800.0\n",
       "1996-08-01  137300.0  116800.0  91900.0  139400.0  94600.0"
      ]
     },
     "execution_count": 6,
     "metadata": {},
     "output_type": "execute_result"
    }
   ],
   "source": [
    "df.head()"
   ]
  },
  {
   "cell_type": "markdown",
   "metadata": {},
   "source": [
    "Seeing how zips are correlated"
   ]
  },
  {
   "cell_type": "code",
   "execution_count": 7,
   "metadata": {},
   "outputs": [
    {
     "data": {
      "text/html": [
       "<div>\n",
       "<style scoped>\n",
       "    .dataframe tbody tr th:only-of-type {\n",
       "        vertical-align: middle;\n",
       "    }\n",
       "\n",
       "    .dataframe tbody tr th {\n",
       "        vertical-align: top;\n",
       "    }\n",
       "\n",
       "    .dataframe thead th {\n",
       "        text-align: right;\n",
       "    }\n",
       "</style>\n",
       "<table border=\"1\" class=\"dataframe\">\n",
       "  <thead>\n",
       "    <tr style=\"text-align: right;\">\n",
       "      <th></th>\n",
       "      <th>70115</th>\n",
       "      <th>70130</th>\n",
       "      <th>70118</th>\n",
       "      <th>70005</th>\n",
       "      <th>70131</th>\n",
       "    </tr>\n",
       "  </thead>\n",
       "  <tbody>\n",
       "    <tr>\n",
       "      <th>70115</th>\n",
       "      <td>1.000000</td>\n",
       "      <td>0.994486</td>\n",
       "      <td>0.993545</td>\n",
       "      <td>0.934380</td>\n",
       "      <td>0.750207</td>\n",
       "    </tr>\n",
       "    <tr>\n",
       "      <th>70130</th>\n",
       "      <td>0.994486</td>\n",
       "      <td>1.000000</td>\n",
       "      <td>0.989503</td>\n",
       "      <td>0.939447</td>\n",
       "      <td>0.759486</td>\n",
       "    </tr>\n",
       "    <tr>\n",
       "      <th>70118</th>\n",
       "      <td>0.993545</td>\n",
       "      <td>0.989503</td>\n",
       "      <td>1.000000</td>\n",
       "      <td>0.939456</td>\n",
       "      <td>0.785046</td>\n",
       "    </tr>\n",
       "    <tr>\n",
       "      <th>70005</th>\n",
       "      <td>0.934380</td>\n",
       "      <td>0.939447</td>\n",
       "      <td>0.939456</td>\n",
       "      <td>1.000000</td>\n",
       "      <td>0.868880</td>\n",
       "    </tr>\n",
       "    <tr>\n",
       "      <th>70131</th>\n",
       "      <td>0.750207</td>\n",
       "      <td>0.759486</td>\n",
       "      <td>0.785046</td>\n",
       "      <td>0.868880</td>\n",
       "      <td>1.000000</td>\n",
       "    </tr>\n",
       "  </tbody>\n",
       "</table>\n",
       "</div>"
      ],
      "text/plain": [
       "          70115     70130     70118     70005     70131\n",
       "70115  1.000000  0.994486  0.993545  0.934380  0.750207\n",
       "70130  0.994486  1.000000  0.989503  0.939447  0.759486\n",
       "70118  0.993545  0.989503  1.000000  0.939456  0.785046\n",
       "70005  0.934380  0.939447  0.939456  1.000000  0.868880\n",
       "70131  0.750207  0.759486  0.785046  0.868880  1.000000"
      ]
     },
     "execution_count": 7,
     "metadata": {},
     "output_type": "execute_result"
    }
   ],
   "source": [
    "df.corr()"
   ]
  },
  {
   "cell_type": "markdown",
   "metadata": {},
   "source": [
    "## Checking stationarity"
   ]
  },
  {
   "cell_type": "markdown",
   "metadata": {},
   "source": [
    "Checking just 70115 at first"
   ]
  },
  {
   "cell_type": "code",
   "execution_count": 8,
   "metadata": {},
   "outputs": [
    {
     "data": {
      "image/png": "[encoded data removed]",
      "text/plain": [
       "<Figure size 864x504 with 1 Axes>"
      ]
     },
     "metadata": {
      "needs_background": "light"
     },
     "output_type": "display_data"
    }
   ],
   "source": [
    "roll_mean = df['70115'].rolling(window=12, center=False).mean()\n",
    "roll_std = df['70115'].rolling(window=12, center=False).std()\n",
    "\n",
    "\n",
    "fig = plt.figure(figsize=(12,7))\n",
    "plt.plot(df['70115'], color='blue', label='Original')\n",
    "plt.plot(roll_mean, color='red', label='Rolling Mean')\n",
    "plt.plot(roll_std, color='black', label = 'Rolling Std')\n",
    "plt.legend(loc='best')\n",
    "plt.title('Rolling Mean & Standard Deviation')\n",
    "plt.show(block=False)"
   ]
  },
  {
   "cell_type": "markdown",
   "metadata": {},
   "source": [
    "The rolling mean is not constant over time, so this shows the data for this zip isn't stationary. The other zips I'm sure aren't either."
   ]
  },
  {
   "cell_type": "markdown",
   "metadata": {},
   "source": [
    "### Dickey Fuller"
   ]
  },
  {
   "cell_type": "code",
   "execution_count": 9,
   "metadata": {},
   "outputs": [
    {
     "name": "stdout",
     "output_type": "stream",
     "text": [
      "Results of Dickey-Fuller test: \n",
      "\n",
      "Test Statistic                   0.548565\n",
      "p-value                          0.986277\n",
      "#Lags Used                      16.000000\n",
      "Number of Observations Used    248.000000\n",
      "Critical Value (1%)             -3.456996\n",
      "Critical Value (5%)             -2.873266\n",
      "Critical Value (10%)            -2.573019\n",
      "dtype: float64\n"
     ]
    }
   ],
   "source": [
    "from statsmodels.tsa.stattools import adfuller\n",
    "\n",
    "dftest = adfuller(df['70115'])\n",
    "\n",
    "# Extract and display test results in a user friendly manner\n",
    "dfoutput = pd.Series(dftest[0:4], index=['Test Statistic', 'p-value', '#Lags Used', 'Number of Observations Used'])\n",
    "for key,value in dftest[4].items():\n",
    "    dfoutput['Critical Value (%s)'%key] = value\n",
    "    \n",
    "print ('Results of Dickey-Fuller test: \\n')\n",
    "\n",
    "print(dfoutput)"
   ]
  },
  {
   "cell_type": "markdown",
   "metadata": {},
   "source": [
    "P-value is way over 5%, so it's not stationary\n",
    "\n",
    "I'll also try it for 70131, which had the least rise of my dataset.\n"
   ]
  },
  {
   "cell_type": "code",
   "execution_count": 10,
   "metadata": {},
   "outputs": [
    {
     "data": {
      "image/png": "[encoded data removed]",
      "text/plain": [
       "<Figure size 864x504 with 1 Axes>"
      ]
     },
     "metadata": {
      "needs_background": "light"
     },
     "output_type": "display_data"
    }
   ],
   "source": [
    "roll_mean = df['70131'].rolling(window=12, center=False).mean()\n",
    "roll_std = df['70131'].rolling(window=12, center=False).std()\n",
    "\n",
    "\n",
    "fig = plt.figure(figsize=(12,7))\n",
    "plt.plot(df['70131'], color='blue', label='Original')\n",
    "plt.plot(roll_mean, color='red', label='Rolling Mean')\n",
    "plt.plot(roll_std, color='black', label = 'Rolling Std')\n",
    "plt.legend(loc='best')\n",
    "plt.title('Rolling Mean & Standard Deviation')\n",
    "plt.show(block=False)"
   ]
  },
  {
   "cell_type": "code",
   "execution_count": 11,
   "metadata": {},
   "outputs": [
    {
     "name": "stdout",
     "output_type": "stream",
     "text": [
      "Results of Dickey-Fuller test: \n",
      "\n",
      "Test Statistic                  -2.000807\n",
      "p-value                          0.286220\n",
      "#Lags Used                      15.000000\n",
      "Number of Observations Used    249.000000\n",
      "Critical Value (1%)             -3.456888\n",
      "Critical Value (5%)             -2.873219\n",
      "Critical Value (10%)            -2.572994\n",
      "dtype: float64\n"
     ]
    }
   ],
   "source": [
    "dftest = adfuller(df['70131'])\n",
    "\n",
    "# Extract and display test results in a user friendly manner\n",
    "dfoutput = pd.Series(dftest[0:4], index=['Test Statistic', 'p-value', '#Lags Used', 'Number of Observations Used'])\n",
    "for key,value in dftest[4].items():\n",
    "    dfoutput['Critical Value (%s)'%key] = value\n",
    "    \n",
    "print ('Results of Dickey-Fuller test: \\n')\n",
    "\n",
    "print(dfoutput)"
   ]
  },
  {
   "cell_type": "markdown",
   "metadata": {},
   "source": [
    "P-value is much lower but still way over 5%. Not stationary. "
   ]
  },
  {
   "cell_type": "markdown",
   "metadata": {},
   "source": [
    "### Make a function for the stationarity check"
   ]
  },
  {
   "cell_type": "code",
   "execution_count": 12,
   "metadata": {},
   "outputs": [],
   "source": [
    "def stationarity_check(data):\n",
    "#     zip = '{}'.format(zip)\n",
    "    \n",
    "    # Calculate rolling statistics\n",
    "    roll_mean = data.rolling(window=8, center=False).mean()\n",
    "    roll_std = data.rolling(window=8, center=False).std()\n",
    "  \n",
    "    dftest = adfuller(data)\n",
    "    \n",
    "    # Plot rolling statistics:\n",
    "    fig = plt.figure(figsize=(12,6))\n",
    "    plt.plot(data, color='blue',label='Original')\n",
    "    plt.plot(roll_mean, color='red', label='Rolling Mean')\n",
    "    plt.plot(roll_std, color='black', label = 'Rolling Std')\n",
    "    plt.legend(loc='best')\n",
    "    plt.title('Rolling Mean & Standard Deviation')\n",
    "    plt.show(block=False)\n",
    "    \n",
    "    # Print Dickey-Fuller test results\n",
    "\n",
    "    print('Results of Dickey-Fuller Test: \\n')\n",
    "\n",
    "    dfoutput = pd.Series(dftest[0:4], index=['Test Statistic', 'p-value', \n",
    "                                             '#Lags Used', 'Number of Observations Used'])\n",
    "    for key,value in dftest[4].items():\n",
    "        dfoutput['Critical Value (%s)'%key] = value\n",
    "    print(dfoutput)\n",
    "    \n",
    "    return None"
   ]
  },
  {
   "cell_type": "code",
   "execution_count": 13,
   "metadata": {},
   "outputs": [
    {
     "data": {
      "image/png": "[encoded data removed]",
      "text/plain": [
       "<Figure size 864x432 with 1 Axes>"
      ]
     },
     "metadata": {
      "needs_background": "light"
     },
     "output_type": "display_data"
    },
    {
     "name": "stdout",
     "output_type": "stream",
     "text": [
      "Results of Dickey-Fuller Test: \n",
      "\n",
      "Test Statistic                   0.548565\n",
      "p-value                          0.986277\n",
      "#Lags Used                      16.000000\n",
      "Number of Observations Used    248.000000\n",
      "Critical Value (1%)             -3.456996\n",
      "Critical Value (5%)             -2.873266\n",
      "Critical Value (10%)            -2.573019\n",
      "dtype: float64\n"
     ]
    }
   ],
   "source": [
    "stationarity_check(df['70115'])"
   ]
  },
  {
   "cell_type": "markdown",
   "metadata": {},
   "source": [
    "## Make individual dataframes for each zip"
   ]
  },
  {
   "cell_type": "code",
   "execution_count": 14,
   "metadata": {},
   "outputs": [
    {
     "data": {
      "text/plain": [
       "1996-04-01    131700.0\n",
       "1996-05-01    132900.0\n",
       "1996-06-01    134200.0\n",
       "1996-07-01    135700.0\n",
       "1996-08-01    137300.0\n",
       "Name: 70115, dtype: float64"
      ]
     },
     "execution_count": 14,
     "metadata": {},
     "output_type": "execute_result"
    }
   ],
   "source": [
    "uptown = df['70115']\n",
    "uptown.head()"
   ]
  },
  {
   "cell_type": "code",
   "execution_count": 15,
   "metadata": {},
   "outputs": [
    {
     "data": {
      "text/plain": [
       "1996-04-01    111600.0\n",
       "1996-05-01    112800.0\n",
       "1996-06-01    114100.0\n",
       "1996-07-01    115400.0\n",
       "1996-08-01    116800.0\n",
       "Name: 70130, dtype: float64"
      ]
     },
     "execution_count": 15,
     "metadata": {},
     "output_type": "execute_result"
    }
   ],
   "source": [
    "lgd = df['70130']\n",
    "lgd.head()"
   ]
  },
  {
   "cell_type": "code",
   "execution_count": 16,
   "metadata": {},
   "outputs": [],
   "source": [
    "audubon = df['70118']"
   ]
  },
  {
   "cell_type": "code",
   "execution_count": 17,
   "metadata": {},
   "outputs": [],
   "source": [
    "metairie = df['70005']"
   ]
  },
  {
   "cell_type": "code",
   "execution_count": 18,
   "metadata": {},
   "outputs": [],
   "source": [
    "aurora = df['70131']"
   ]
  },
  {
   "cell_type": "markdown",
   "metadata": {},
   "source": [
    "#### Saving new dfs"
   ]
  },
  {
   "cell_type": "code",
   "execution_count": 19,
   "metadata": {},
   "outputs": [],
   "source": [
    "# Commenting out so I won't keep re-saving when re-running notebook\n",
    "\n",
    "# uptown.to_csv(r'../data/uptown.csv', index=True)\n",
    "# lgd.to_csv(r'../data/lgd.csv', index=True)\n",
    "# audubon.to_csv(r'../data/audubon.csv', index=True)\n",
    "# metairie.to_csv(r'../data/metairie.csv', index=True)\n",
    "# aurora.to_csv(r'../data/aurora.csv', index=True)"
   ]
  },
  {
   "cell_type": "markdown",
   "metadata": {},
   "source": [
    "# Trying Various Ways of Removing Trends"
   ]
  },
  {
   "cell_type": "markdown",
   "metadata": {},
   "source": [
    "## Square Root Transform"
   ]
  },
  {
   "cell_type": "code",
   "execution_count": 20,
   "metadata": {},
   "outputs": [
    {
     "data": {
      "image/png": "[encoded data removed]",
      "text/plain": [
       "<Figure size 864x288 with 1 Axes>"
      ]
     },
     "metadata": {
      "needs_background": "light"
     },
     "output_type": "display_data"
    }
   ],
   "source": [
    "uptown_sqrt = np.sqrt(uptown)\n",
    "fig = plt.figure(figsize=(12,4))\n",
    "plt.plot(uptown_sqrt, color='green');"
   ]
  },
  {
   "cell_type": "markdown",
   "metadata": {},
   "source": [
    "Doesn't seem to change much."
   ]
  },
  {
   "cell_type": "code",
   "execution_count": 21,
   "metadata": {},
   "outputs": [
    {
     "data": {
      "image/png": "[encoded data removed]",
      "text/plain": [
       "<Figure size 864x432 with 1 Axes>"
      ]
     },
     "metadata": {
      "needs_background": "light"
     },
     "output_type": "display_data"
    },
    {
     "name": "stdout",
     "output_type": "stream",
     "text": [
      "Results of Dickey-Fuller Test: \n",
      "\n",
      "Test Statistic                  -0.181322\n",
      "p-value                          0.940712\n",
      "#Lags Used                      16.000000\n",
      "Number of Observations Used    248.000000\n",
      "Critical Value (1%)             -3.456996\n",
      "Critical Value (5%)             -2.873266\n",
      "Critical Value (10%)            -2.573019\n",
      "dtype: float64\n"
     ]
    }
   ],
   "source": [
    "stationarity_check(uptown_sqrt)"
   ]
  },
  {
   "cell_type": "markdown",
   "metadata": {},
   "source": [
    "Still has a high p-value. "
   ]
  },
  {
   "cell_type": "code",
   "execution_count": 22,
   "metadata": {},
   "outputs": [
    {
     "data": {
      "image/png": "[encoded data removed]",
      "text/plain": [
       "<Figure size 864x288 with 1 Axes>"
      ]
     },
     "metadata": {
      "needs_background": "light"
     },
     "output_type": "display_data"
    }
   ],
   "source": [
    "aurora_sqrt = np.sqrt(aurora)\n",
    "fig = plt.figure(figsize=(12,4))\n",
    "plt.plot(aurora_sqrt, color='magenta');"
   ]
  },
  {
   "cell_type": "code",
   "execution_count": 23,
   "metadata": {},
   "outputs": [
    {
     "data": {
      "image/png": "[encoded data removed]",
      "text/plain": [
       "<Figure size 864x432 with 1 Axes>"
      ]
     },
     "metadata": {
      "needs_background": "light"
     },
     "output_type": "display_data"
    },
    {
     "name": "stdout",
     "output_type": "stream",
     "text": [
      "Results of Dickey-Fuller Test: \n",
      "\n",
      "Test Statistic                  -2.012807\n",
      "p-value                          0.280986\n",
      "#Lags Used                      15.000000\n",
      "Number of Observations Used    249.000000\n",
      "Critical Value (1%)             -3.456888\n",
      "Critical Value (5%)             -2.873219\n",
      "Critical Value (10%)            -2.572994\n",
      "dtype: float64\n"
     ]
    }
   ],
   "source": [
    "stationarity_check(aurora_sqrt)"
   ]
  },
  {
   "cell_type": "markdown",
   "metadata": {},
   "source": [
    "This one has a high p-value too. Won't bother with square root transformations."
   ]
  },
  {
   "cell_type": "markdown",
   "metadata": {},
   "source": [
    "# Root Transformations"
   ]
  },
  {
   "cell_type": "markdown",
   "metadata": {},
   "source": [
    "## Uptown"
   ]
  },
  {
   "cell_type": "code",
   "execution_count": 24,
   "metadata": {},
   "outputs": [
    {
     "data": {
      "text/plain": [
       "1996-04-01    131700.0\n",
       "1996-05-01    132900.0\n",
       "1996-06-01    134200.0\n",
       "1996-07-01    135700.0\n",
       "1996-08-01    137300.0\n",
       "Name: 70115, dtype: float64"
      ]
     },
     "execution_count": 24,
     "metadata": {},
     "output_type": "execute_result"
    }
   ],
   "source": [
    "uptown.head()"
   ]
  },
  {
   "cell_type": "code",
   "execution_count": 25,
   "metadata": {},
   "outputs": [
    {
     "data": {
      "text/plain": [
       "1996-04-01    362.904946\n",
       "1996-05-01    364.554523\n",
       "1996-06-01    366.333182\n",
       "1996-07-01    368.374809\n",
       "1996-08-01    370.540146\n",
       "Name: 70115, dtype: float64"
      ]
     },
     "execution_count": 25,
     "metadata": {},
     "output_type": "execute_result"
    }
   ],
   "source": [
    "uptown_sqrt.head()"
   ]
  },
  {
   "cell_type": "code",
   "execution_count": 26,
   "metadata": {},
   "outputs": [
    {
     "data": {
      "text/plain": [
       "1996-04-01    True\n",
       "1996-05-01    True\n",
       "1996-06-01    True\n",
       "1996-07-01    True\n",
       "1996-08-01    True\n",
       "              ... \n",
       "2017-12-01    True\n",
       "2018-01-01    True\n",
       "2018-02-01    True\n",
       "2018-03-01    True\n",
       "2018-04-01    True\n",
       "Name: 70115, Length: 265, dtype: bool"
      ]
     },
     "execution_count": 26,
     "metadata": {},
     "output_type": "execute_result"
    }
   ],
   "source": [
    "# Testing if it worked\n",
    "np.power(uptown, 1/2) == uptown_sqrt"
   ]
  },
  {
   "cell_type": "code",
   "execution_count": 27,
   "metadata": {},
   "outputs": [
    {
     "name": "stdout",
     "output_type": "stream",
     "text": [
      "Results of Dickey-Fuller test: \n",
      "\n",
      "Test Statistic                  -0.181322\n",
      "p-value                          0.940712\n",
      "#Lags Used                      16.000000\n",
      "Number of Observations Used    248.000000\n",
      "Critical Value (1%)             -3.456996\n",
      "Critical Value (5%)             -2.873266\n",
      "Critical Value (10%)            -2.573019\n",
      "dtype: float64\n",
      "p-value: 0.941\n"
     ]
    }
   ],
   "source": [
    "dftest = adfuller(uptown_sqrt)\n",
    "\n",
    "# Extract and display test results in a user friendly manner\n",
    "dfoutput = pd.Series(dftest[0:4], index=['Test Statistic', 'p-value', '#Lags Used', 'Number of Observations Used'])\n",
    "for key,value in dftest[4].items():\n",
    "    dfoutput['Critical Value (%s)'%key] = value\n",
    "    \n",
    "print ('Results of Dickey-Fuller test: \\n')\n",
    "\n",
    "print(dfoutput)\n",
    "# Just test for p-value\n",
    "print(f\"p-value: {round(dftest[1], 3)}\")"
   ]
  },
  {
   "cell_type": "markdown",
   "metadata": {},
   "source": [
    "Make a function to cycle through taking roots"
   ]
  },
  {
   "cell_type": "code",
   "execution_count": 28,
   "metadata": {},
   "outputs": [],
   "source": [
    "def root_transform(df):\n",
    "    power = 2\n",
    "    root = 1/power\n",
    "    \n",
    "    # make first root transformation\n",
    "    transformed_df = np.power(df, root)\n",
    "    \n",
    "    # get first p-value\n",
    "    dftest = adfuller(transformed_df)\n",
    "    p_val = dftest[1]\n",
    "    print(f'last entry in df is {transformed_df[-1]}')\n",
    "    \n",
    "    while p_val > 0.05:\n",
    "        power += 1\n",
    "        print(f\"power is {power}\")\n",
    "        root = 1/power\n",
    "        transformed_df = np.power(df, root)\n",
    "        print(f'first entry in df is {transformed_df[0]}')\n",
    "        dftest = adfuller(transformed_df)\n",
    "        p_val = dftest[1]\n",
    "        print(f'p-value is {p_val}')\n",
    "    \n",
    "    print(f\"p-value: {round(dftest[1], 3)}\")\n",
    "    return None"
   ]
  },
  {
   "cell_type": "markdown",
   "metadata": {},
   "source": [
    "When I run `root_transform(uptown)` the p-value bottoms out at around .74 and the function gets stuck in an infinite loop as the power keeps increasing. I can't do root transformation."
   ]
  },
  {
   "cell_type": "markdown",
   "metadata": {},
   "source": [
    "## Rolling Mean"
   ]
  },
  {
   "cell_type": "code",
   "execution_count": 29,
   "metadata": {},
   "outputs": [
    {
     "data": {
      "image/png": "[encoded data removed]",
      "text/plain": [
       "<Figure size 792x504 with 1 Axes>"
      ]
     },
     "metadata": {
      "needs_background": "light"
     },
     "output_type": "display_data"
    }
   ],
   "source": [
    "roll_mean = uptown.rolling(window=12, center=False).mean()\n",
    "fig = plt.figure(figsize=(11,7))\n",
    "plt.plot(uptown, color='blue', label='Original Data')\n",
    "plt.plot(roll_mean, color='red', label='Rolling Mean')\n",
    "\n",
    "plt.legend(loc='best')\n",
    "plt.title('Data and Rolling Mean')\n",
    "plt.show()"
   ]
  },
  {
   "cell_type": "code",
   "execution_count": 30,
   "metadata": {},
   "outputs": [
    {
     "data": {
      "text/plain": [
       "1996-04-01             NaN\n",
       "1996-05-01             NaN\n",
       "1996-06-01             NaN\n",
       "1996-07-01             NaN\n",
       "1996-08-01             NaN\n",
       "1996-09-01             NaN\n",
       "1996-10-01             NaN\n",
       "1996-11-01             NaN\n",
       "1996-12-01             NaN\n",
       "1997-01-01             NaN\n",
       "1997-02-01             NaN\n",
       "1997-03-01    10616.666667\n",
       "Name: 70115, dtype: float64"
      ]
     },
     "execution_count": 30,
     "metadata": {},
     "output_type": "execute_result"
    }
   ],
   "source": [
    "# Checking out new series\n",
    "uptown_minus_roll_mean = uptown - roll_mean\n",
    "uptown_minus_roll_mean[0:12]"
   ]
  },
  {
   "cell_type": "code",
   "execution_count": 31,
   "metadata": {},
   "outputs": [
    {
     "data": {
      "text/plain": [
       "10616.666666666657"
      ]
     },
     "execution_count": 31,
     "metadata": {},
     "output_type": "execute_result"
    }
   ],
   "source": [
    "uptown_minus_roll_mean[11]"
   ]
  },
  {
   "cell_type": "code",
   "execution_count": 32,
   "metadata": {},
   "outputs": [
    {
     "name": "stdout",
     "output_type": "stream",
     "text": [
      "0.171760079386862\n"
     ]
    }
   ],
   "source": [
    "# Taking out the NaNs\n",
    "uptown_minus_roll_mean = uptown_minus_roll_mean[11:]\n",
    "\n",
    "dftest = adfuller(uptown_minus_roll_mean)\n",
    "print(dftest[1])"
   ]
  },
  {
   "cell_type": "code",
   "execution_count": 33,
   "metadata": {},
   "outputs": [
    {
     "name": "stdout",
     "output_type": "stream",
     "text": [
      "1996-04-01       NaN\n",
      "1996-05-01     600.0\n",
      "1996-06-01     650.0\n",
      "1996-07-01     750.0\n",
      "1996-08-01     800.0\n",
      "1996-09-01     850.0\n",
      "1996-10-01    1000.0\n",
      "1996-11-01    1000.0\n",
      "1996-12-01    1100.0\n",
      "1997-01-01    1100.0\n",
      "1997-02-01    1050.0\n",
      "1997-03-01     900.0\n",
      "1997-04-01     800.0\n",
      "1997-05-01     600.0\n",
      "1997-06-01     500.0\n",
      "Name: 70115, dtype: float64\n",
      "0.0019658611237334624\n"
     ]
    }
   ],
   "source": [
    "roll_mean = uptown.rolling(window=2, center=False).mean()\n",
    "uptown_minus_roll_mean = uptown - roll_mean\n",
    "print(uptown_minus_roll_mean[0:15])\n",
    "uptown_minus_roll_mean.dropna(inplace=True)\n",
    "dftest = adfuller(uptown_minus_roll_mean)\n",
    "print(dftest[1])"
   ]
  },
  {
   "cell_type": "markdown",
   "metadata": {},
   "source": [
    "Low p-value, which is what I want"
   ]
  },
  {
   "cell_type": "code",
   "execution_count": 34,
   "metadata": {},
   "outputs": [
    {
     "data": {
      "image/png": "[encoded data removed]",
      "text/plain": [
       "<Figure size 792x360 with 1 Axes>"
      ]
     },
     "metadata": {
      "needs_background": "light"
     },
     "output_type": "display_data"
    }
   ],
   "source": [
    "fig = plt.figure(figsize=(11,5))\n",
    "plt.plot(uptown_minus_roll_mean, color='blue', label='Uptown Minus Roll Mean')\n",
    "plt.legend(loc='best')\n",
    "plt.show()"
   ]
  },
  {
   "cell_type": "markdown",
   "metadata": {},
   "source": [
    "### Make a function for rolling mean subtraction"
   ]
  },
  {
   "cell_type": "code",
   "execution_count": 35,
   "metadata": {},
   "outputs": [],
   "source": [
    "def rolling_mean_subtraction(df, window):\n",
    "    roll_mean = df.rolling(window=window).mean()\n",
    "    df_minus_roll_mean = df - roll_mean\n",
    "    df_minus_roll_mean.dropna(inplace=True)\n",
    "    \n",
    "    dftest = adfuller(df_minus_roll_mean)\n",
    "    p_val = dftest[1]\n",
    "    \n",
    "    return (f\"p-value: {round(dftest[1], 3)} for window of {window}\")"
   ]
  },
  {
   "cell_type": "markdown",
   "metadata": {},
   "source": [
    "#### Uptown"
   ]
  },
  {
   "cell_type": "code",
   "execution_count": 36,
   "metadata": {},
   "outputs": [
    {
     "data": {
      "text/plain": [
       "'p-value: 0.002 for window of 2'"
      ]
     },
     "execution_count": 36,
     "metadata": {},
     "output_type": "execute_result"
    }
   ],
   "source": [
    "rolling_mean_subtraction(uptown, 2)"
   ]
  },
  {
   "cell_type": "markdown",
   "metadata": {},
   "source": [
    "#### LGD"
   ]
  },
  {
   "cell_type": "code",
   "execution_count": 37,
   "metadata": {},
   "outputs": [
    {
     "data": {
      "text/plain": [
       "'p-value: 0.083 for window of 2'"
      ]
     },
     "execution_count": 37,
     "metadata": {},
     "output_type": "execute_result"
    }
   ],
   "source": [
    "rolling_mean_subtraction(lgd, 2)"
   ]
  },
  {
   "cell_type": "markdown",
   "metadata": {},
   "source": [
    "Too high"
   ]
  },
  {
   "cell_type": "code",
   "execution_count": 38,
   "metadata": {},
   "outputs": [
    {
     "data": {
      "text/plain": [
       "'p-value: 0.139 for window of 3'"
      ]
     },
     "execution_count": 38,
     "metadata": {},
     "output_type": "execute_result"
    }
   ],
   "source": [
    "rolling_mean_subtraction(lgd, 3)"
   ]
  },
  {
   "cell_type": "code",
   "execution_count": 39,
   "metadata": {},
   "outputs": [
    {
     "data": {
      "text/plain": [
       "'p-value: 0.128 for window of 4'"
      ]
     },
     "execution_count": 39,
     "metadata": {},
     "output_type": "execute_result"
    }
   ],
   "source": [
    "rolling_mean_subtraction(lgd, 4)"
   ]
  },
  {
   "cell_type": "code",
   "execution_count": 40,
   "metadata": {},
   "outputs": [
    {
     "data": {
      "text/plain": [
       "'p-value: 0.117 for window of 5'"
      ]
     },
     "execution_count": 40,
     "metadata": {},
     "output_type": "execute_result"
    }
   ],
   "source": [
    "rolling_mean_subtraction(lgd, 5)"
   ]
  },
  {
   "cell_type": "markdown",
   "metadata": {},
   "source": [
    "Seems best is 2 for lgd"
   ]
  },
  {
   "cell_type": "markdown",
   "metadata": {},
   "source": [
    "#### Audubon"
   ]
  },
  {
   "cell_type": "code",
   "execution_count": 41,
   "metadata": {},
   "outputs": [
    {
     "data": {
      "text/plain": [
       "'p-value: 0.023 for window of 2'"
      ]
     },
     "execution_count": 41,
     "metadata": {},
     "output_type": "execute_result"
    }
   ],
   "source": [
    "rolling_mean_subtraction(audubon, 2)"
   ]
  },
  {
   "cell_type": "markdown",
   "metadata": {},
   "source": [
    "#### Metairie"
   ]
  },
  {
   "cell_type": "code",
   "execution_count": 42,
   "metadata": {},
   "outputs": [
    {
     "data": {
      "text/plain": [
       "'p-value: 0.064 for window of 2'"
      ]
     },
     "execution_count": 42,
     "metadata": {},
     "output_type": "execute_result"
    }
   ],
   "source": [
    "rolling_mean_subtraction(metairie, 2)"
   ]
  },
  {
   "cell_type": "code",
   "execution_count": 43,
   "metadata": {},
   "outputs": [
    {
     "data": {
      "text/plain": [
       "'p-value: 0.129 for window of 3'"
      ]
     },
     "execution_count": 43,
     "metadata": {},
     "output_type": "execute_result"
    }
   ],
   "source": [
    "rolling_mean_subtraction(metairie, 3)"
   ]
  },
  {
   "cell_type": "code",
   "execution_count": 44,
   "metadata": {},
   "outputs": [
    {
     "data": {
      "text/plain": [
       "'p-value: 0.055 for window of 4'"
      ]
     },
     "execution_count": 44,
     "metadata": {},
     "output_type": "execute_result"
    }
   ],
   "source": [
    "rolling_mean_subtraction(metairie, 4)"
   ]
  },
  {
   "cell_type": "code",
   "execution_count": 45,
   "metadata": {},
   "outputs": [
    {
     "data": {
      "text/plain": [
       "'p-value: 0.039 for window of 5'"
      ]
     },
     "execution_count": 45,
     "metadata": {},
     "output_type": "execute_result"
    }
   ],
   "source": [
    "rolling_mean_subtraction(metairie, 5)"
   ]
  },
  {
   "cell_type": "markdown",
   "metadata": {},
   "source": [
    "#### Aurora "
   ]
  },
  {
   "cell_type": "code",
   "execution_count": 46,
   "metadata": {},
   "outputs": [
    {
     "data": {
      "text/plain": [
       "'p-value: 0.141 for window of 2'"
      ]
     },
     "execution_count": 46,
     "metadata": {},
     "output_type": "execute_result"
    }
   ],
   "source": [
    "rolling_mean_subtraction(aurora, 2)"
   ]
  },
  {
   "cell_type": "code",
   "execution_count": 47,
   "metadata": {},
   "outputs": [
    {
     "data": {
      "text/plain": [
       "'p-value: 0.096 for window of 3'"
      ]
     },
     "execution_count": 47,
     "metadata": {},
     "output_type": "execute_result"
    }
   ],
   "source": [
    "rolling_mean_subtraction(aurora, 3)"
   ]
  },
  {
   "cell_type": "code",
   "execution_count": 48,
   "metadata": {},
   "outputs": [
    {
     "data": {
      "text/plain": [
       "'p-value: 0.067 for window of 4'"
      ]
     },
     "execution_count": 48,
     "metadata": {},
     "output_type": "execute_result"
    }
   ],
   "source": [
    "rolling_mean_subtraction(aurora, 4)"
   ]
  },
  {
   "cell_type": "code",
   "execution_count": 49,
   "metadata": {},
   "outputs": [
    {
     "data": {
      "text/plain": [
       "'p-value: 0.045 for window of 5'"
      ]
     },
     "execution_count": 49,
     "metadata": {},
     "output_type": "execute_result"
    }
   ],
   "source": [
    "rolling_mean_subtraction(aurora, 5)"
   ]
  },
  {
   "cell_type": "markdown",
   "metadata": {},
   "source": [
    "### Rolling mean windows to make dataframes stationary"
   ]
  },
  {
   "cell_type": "markdown",
   "metadata": {},
   "source": [
    "- Uptown: 2\n",
    "- LGD: 2\n",
    "- Audubon: 2\n",
    "- Metairie: 5\n",
    "- Aurora: 5"
   ]
  },
  {
   "cell_type": "markdown",
   "metadata": {},
   "source": [
    "## Differencing"
   ]
  },
  {
   "cell_type": "code",
   "execution_count": 50,
   "metadata": {},
   "outputs": [],
   "source": [
    "# Make function\n",
    "\n",
    "def difference_df(df, periods):\n",
    "    differenced_df = df.diff(periods=periods)\n",
    "    differenced_df.dropna(inplace=True)\n",
    "    \n",
    "    dftest = adfuller(differenced_df)\n",
    "    p_val = dftest[1]\n",
    "    \n",
    "    return (f\"p-value: {round(dftest[1], 3)} for period of {periods}\")"
   ]
  },
  {
   "cell_type": "code",
   "execution_count": 51,
   "metadata": {},
   "outputs": [
    {
     "data": {
      "text/plain": [
       "'p-value: 0.002 for period of 1'"
      ]
     },
     "execution_count": 51,
     "metadata": {},
     "output_type": "execute_result"
    }
   ],
   "source": [
    "difference_df(uptown, 1)"
   ]
  },
  {
   "cell_type": "code",
   "execution_count": 52,
   "metadata": {},
   "outputs": [
    {
     "data": {
      "text/plain": [
       "'p-value: 0.083 for period of 1'"
      ]
     },
     "execution_count": 52,
     "metadata": {},
     "output_type": "execute_result"
    }
   ],
   "source": [
    "difference_df(lgd, 1)"
   ]
  },
  {
   "cell_type": "code",
   "execution_count": 53,
   "metadata": {},
   "outputs": [
    {
     "data": {
      "text/plain": [
       "'p-value: 0.019 for period of 2'"
      ]
     },
     "execution_count": 53,
     "metadata": {},
     "output_type": "execute_result"
    }
   ],
   "source": [
    "difference_df(lgd, 2)"
   ]
  },
  {
   "cell_type": "code",
   "execution_count": 54,
   "metadata": {},
   "outputs": [
    {
     "data": {
      "text/plain": [
       "'p-value: 0.023 for period of 1'"
      ]
     },
     "execution_count": 54,
     "metadata": {},
     "output_type": "execute_result"
    }
   ],
   "source": [
    "difference_df(audubon, 1)"
   ]
  },
  {
   "cell_type": "code",
   "execution_count": 55,
   "metadata": {},
   "outputs": [
    {
     "data": {
      "text/plain": [
       "'p-value: 0.027 for period of 2'"
      ]
     },
     "execution_count": 55,
     "metadata": {},
     "output_type": "execute_result"
    }
   ],
   "source": [
    "difference_df(metairie, 2)"
   ]
  },
  {
   "cell_type": "code",
   "execution_count": 56,
   "metadata": {},
   "outputs": [
    {
     "data": {
      "text/plain": [
       "'p-value: 0.141 for period of 1'"
      ]
     },
     "execution_count": 56,
     "metadata": {},
     "output_type": "execute_result"
    }
   ],
   "source": [
    "difference_df(aurora, 1)"
   ]
  },
  {
   "cell_type": "code",
   "execution_count": 57,
   "metadata": {},
   "outputs": [
    {
     "data": {
      "text/plain": [
       "'p-value: 0.115 for period of 2'"
      ]
     },
     "execution_count": 57,
     "metadata": {},
     "output_type": "execute_result"
    }
   ],
   "source": [
    "difference_df(aurora, 2)"
   ]
  },
  {
   "cell_type": "code",
   "execution_count": 58,
   "metadata": {},
   "outputs": [
    {
     "data": {
      "text/plain": [
       "'p-value: 0.028 for period of 3'"
      ]
     },
     "execution_count": 58,
     "metadata": {},
     "output_type": "execute_result"
    }
   ],
   "source": [
    "difference_df(aurora, 3)"
   ]
  },
  {
   "cell_type": "markdown",
   "metadata": {},
   "source": [
    "### Differencing periods to make dataframes stationary"
   ]
  },
  {
   "cell_type": "markdown",
   "metadata": {},
   "source": [
    "- Uptown: 1\n",
    "- LGD: 2\n",
    "- Audubon: 1\n",
    "- Metairie: 2\n",
    "- Aurora: 3"
   ]
  },
  {
   "cell_type": "markdown",
   "metadata": {},
   "source": [
    "When modeling, I'll use differencing for stationarity because it works well with ARIMA."
   ]
  },
  {
   "cell_type": "markdown",
   "metadata": {},
   "source": [
    "# Checking Correlation"
   ]
  },
  {
   "cell_type": "code",
   "execution_count": 59,
   "metadata": {},
   "outputs": [
    {
     "data": {
      "text/plain": [
       "<matplotlib.axes._subplots.AxesSubplot at 0x238b46aa240>"
      ]
     },
     "execution_count": 59,
     "metadata": {},
     "output_type": "execute_result"
    },
    {
     "data": {
      "image/png": "[encoded data removed]",
      "text/plain": [
       "<Figure size 864x360 with 1 Axes>"
      ]
     },
     "metadata": {
      "needs_background": "light"
     },
     "output_type": "display_data"
    }
   ],
   "source": [
    "plt.figure(figsize=(12,5))\n",
    "pd.plotting.autocorrelation_plot(uptown)"
   ]
  },
  {
   "cell_type": "code",
   "execution_count": 60,
   "metadata": {},
   "outputs": [
    {
     "data": {
      "image/png": "[encoded data removed]",
      "text/plain": [
       "<Figure size 1008x360 with 1 Axes>"
      ]
     },
     "metadata": {
      "needs_background": "light"
     },
     "output_type": "display_data"
    }
   ],
   "source": [
    "from matplotlib.pylab import rcParams\n",
    "from statsmodels.graphics.tsaplots import plot_acf, plot_pacf\n",
    "\n",
    "rcParams['figure.figsize'] = 14, 5\n",
    "plot_pacf(uptown, lags=50);"
   ]
  },
  {
   "cell_type": "code",
   "execution_count": 61,
   "metadata": {},
   "outputs": [
    {
     "data": {
      "text/plain": [
       "<matplotlib.axes._subplots.AxesSubplot at 0x238b59a7400>"
      ]
     },
     "execution_count": 61,
     "metadata": {},
     "output_type": "execute_result"
    },
    {
     "data": {
      "image/png": "[encoded data removed]",
      "text/plain": [
       "<Figure size 864x360 with 1 Axes>"
      ]
     },
     "metadata": {
      "needs_background": "light"
     },
     "output_type": "display_data"
    }
   ],
   "source": [
    "plt.figure(figsize=(12,5))\n",
    "pd.plotting.autocorrelation_plot(lgd)"
   ]
  },
  {
   "cell_type": "code",
   "execution_count": 62,
   "metadata": {},
   "outputs": [
    {
     "data": {
      "image/png": "[encoded data removed]",
      "text/plain": [
       "<Figure size 1008x360 with 1 Axes>"
      ]
     },
     "metadata": {
      "needs_background": "light"
     },
     "output_type": "display_data"
    }
   ],
   "source": [
    "rcParams['figure.figsize'] = 14, 5\n",
    "plot_pacf(lgd, lags=50);"
   ]
  }
 ],
 "metadata": {
  "kernelspec": {
   "display_name": "Python 3",
   "language": "python",
   "name": "python3"
  },
  "language_info": {
   "codemirror_mode": {
    "name": "ipython",
    "version": 3
   },
   "file_extension": ".py",
   "mimetype": "text/x-python",
   "name": "python",
   "nbconvert_exporter": "python",
   "pygments_lexer": "ipython3",
   "version": "3.6.9"
  }
 },
 "nbformat": 4,
 "nbformat_minor": 4
}
