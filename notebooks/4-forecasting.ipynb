{
 "cells": [
  {
   "cell_type": "markdown",
   "metadata": {},
   "source": [
    "# Forecasting Best Model(s) "
   ]
  },
  {
   "cell_type": "code",
   "execution_count": 1,
   "metadata": {},
   "outputs": [],
   "source": [
    "import warnings\n",
    "warnings.filterwarnings('ignore')\n",
    "import itertools\n",
    "import pandas as pd\n",
    "import numpy as np\n",
    "import statsmodels.api as sm\n",
    "from statsmodels.tsa.arima_model import ARMA, ARIMAResults\n",
    "from pmdarima.arima import auto_arima\n",
    "from sklearn.metrics import mean_squared_error\n",
    "import matplotlib.pyplot as plt\n",
    "from matplotlib.pylab import rcParams\n",
    "plt.style.use('ggplot')"
   ]
  },
  {
   "cell_type": "code",
   "execution_count": 2,
   "metadata": {},
   "outputs": [
    {
     "data": {
      "text/html": [
       "<div>\n",
       "<style scoped>\n",
       "    .dataframe tbody tr th:only-of-type {\n",
       "        vertical-align: middle;\n",
       "    }\n",
       "\n",
       "    .dataframe tbody tr th {\n",
       "        vertical-align: top;\n",
       "    }\n",
       "\n",
       "    .dataframe thead th {\n",
       "        text-align: right;\n",
       "    }\n",
       "</style>\n",
       "<table border=\"1\" class=\"dataframe\">\n",
       "  <thead>\n",
       "    <tr style=\"text-align: right;\">\n",
       "      <th></th>\n",
       "      <th>Min. differencing for stationarity</th>\n",
       "      <th>Baseline ARMA</th>\n",
       "      <th>Baseline AIC</th>\n",
       "      <th>Best AUTOArima on train set</th>\n",
       "      <th>AIC</th>\n",
       "      <th>RMSE-last year of train set vs. model forecast for same period</th>\n",
       "      <th>RMSE-test set vs. forecast of train set one year</th>\n",
       "      <th>Percent RMSE error</th>\n",
       "    </tr>\n",
       "    <tr>\n",
       "      <th>Name</th>\n",
       "      <th></th>\n",
       "      <th></th>\n",
       "      <th></th>\n",
       "      <th></th>\n",
       "      <th></th>\n",
       "      <th></th>\n",
       "      <th></th>\n",
       "      <th></th>\n",
       "    </tr>\n",
       "  </thead>\n",
       "  <tbody>\n",
       "    <tr>\n",
       "      <th>Uptown (70115)</th>\n",
       "      <td>1</td>\n",
       "      <td>(1,1)</td>\n",
       "      <td>4391.0</td>\n",
       "      <td>(0,2,0)</td>\n",
       "      <td>4210.1</td>\n",
       "      <td>23203.68</td>\n",
       "      <td>42103.65</td>\n",
       "      <td>7.1</td>\n",
       "    </tr>\n",
       "    <tr>\n",
       "      <th>Lower Garden District (70130)</th>\n",
       "      <td>2</td>\n",
       "      <td>(1,0)</td>\n",
       "      <td>4917.0</td>\n",
       "      <td>(0,2,0)</td>\n",
       "      <td>4396.3</td>\n",
       "      <td>23459.78</td>\n",
       "      <td>46684.81</td>\n",
       "      <td>8.0</td>\n",
       "    </tr>\n",
       "    <tr>\n",
       "      <th>Audubon (70118)</th>\n",
       "      <td>1</td>\n",
       "      <td>(2,1)</td>\n",
       "      <td>4280.0</td>\n",
       "      <td>(1,1,2)</td>\n",
       "      <td>4548.0</td>\n",
       "      <td>8023.76</td>\n",
       "      <td>186895.73</td>\n",
       "      <td>45.6</td>\n",
       "    </tr>\n",
       "    <tr>\n",
       "      <th>Metairie (70005)</th>\n",
       "      <td>2</td>\n",
       "      <td>(2,2)</td>\n",
       "      <td>3939.6</td>\n",
       "      <td>(1,1,1)</td>\n",
       "      <td>4279.7</td>\n",
       "      <td>3394.47</td>\n",
       "      <td>9778.85</td>\n",
       "      <td>3.4</td>\n",
       "    </tr>\n",
       "    <tr>\n",
       "      <th>Aurora (70131)</th>\n",
       "      <td>3</td>\n",
       "      <td>(1,1)</td>\n",
       "      <td>4296.8</td>\n",
       "      <td>(1,1,1)</td>\n",
       "      <td>4099.7</td>\n",
       "      <td>1320.68</td>\n",
       "      <td>6509.78</td>\n",
       "      <td>3.8</td>\n",
       "    </tr>\n",
       "  </tbody>\n",
       "</table>\n",
       "</div>"
      ],
      "text/plain": [
       "                               Min. differencing for stationarity  \\\n",
       "Name                                                                \n",
       "Uptown (70115)                                                  1   \n",
       "Lower Garden District (70130)                                   2   \n",
       "Audubon (70118)                                                 1   \n",
       "Metairie (70005)                                                2   \n",
       "Aurora (70131)                                                  3   \n",
       "\n",
       "                              Baseline ARMA  Baseline AIC  \\\n",
       "Name                                                        \n",
       "Uptown (70115)                        (1,1)        4391.0   \n",
       "Lower Garden District (70130)         (1,0)        4917.0   \n",
       "Audubon (70118)                       (2,1)        4280.0   \n",
       "Metairie (70005)                      (2,2)        3939.6   \n",
       "Aurora (70131)                        (1,1)        4296.8   \n",
       "\n",
       "                              Best AUTOArima on train set     AIC  \\\n",
       "Name                                                                \n",
       "Uptown (70115)                                    (0,2,0)  4210.1   \n",
       "Lower Garden District (70130)                     (0,2,0)  4396.3   \n",
       "Audubon (70118)                                   (1,1,2)  4548.0   \n",
       "Metairie (70005)                                  (1,1,1)  4279.7   \n",
       "Aurora (70131)                                    (1,1,1)  4099.7   \n",
       "\n",
       "                               RMSE-last year of train set vs. model forecast for same period  \\\n",
       "Name                                                                                            \n",
       "Uptown (70115)                                                          23203.68                \n",
       "Lower Garden District (70130)                                           23459.78                \n",
       "Audubon (70118)                                                          8023.76                \n",
       "Metairie (70005)                                                         3394.47                \n",
       "Aurora (70131)                                                           1320.68                \n",
       "\n",
       "                               RMSE-test set vs. forecast of train set one year  \\\n",
       "Name                                                                              \n",
       "Uptown (70115)                                                         42103.65   \n",
       "Lower Garden District (70130)                                          46684.81   \n",
       "Audubon (70118)                                                       186895.73   \n",
       "Metairie (70005)                                                        9778.85   \n",
       "Aurora (70131)                                                          6509.78   \n",
       "\n",
       "                               Percent RMSE error  \n",
       "Name                                               \n",
       "Uptown (70115)                                7.1  \n",
       "Lower Garden District (70130)                 8.0  \n",
       "Audubon (70118)                              45.6  \n",
       "Metairie (70005)                              3.4  \n",
       "Aurora (70131)                                3.8  "
      ]
     },
     "execution_count": 2,
     "metadata": {},
     "output_type": "execute_result"
    }
   ],
   "source": [
    "zip_results = pd.read_csv('../data/zip_code_notes.csv').set_index('Name')\n",
    "zip_results"
   ]
  },
  {
   "cell_type": "code",
   "execution_count": 3,
   "metadata": {},
   "outputs": [
    {
     "data": {
      "text/html": [
       "<div>\n",
       "<style scoped>\n",
       "    .dataframe tbody tr th:only-of-type {\n",
       "        vertical-align: middle;\n",
       "    }\n",
       "\n",
       "    .dataframe tbody tr th {\n",
       "        vertical-align: top;\n",
       "    }\n",
       "\n",
       "    .dataframe thead th {\n",
       "        text-align: right;\n",
       "    }\n",
       "</style>\n",
       "<table border=\"1\" class=\"dataframe\">\n",
       "  <thead>\n",
       "    <tr style=\"text-align: right;\">\n",
       "      <th></th>\n",
       "      <th>Min. differencing for stationarity</th>\n",
       "      <th>Baseline ARMA</th>\n",
       "      <th>Baseline AIC</th>\n",
       "      <th>Best AUTOArima on train set</th>\n",
       "      <th>AIC</th>\n",
       "      <th>RMSE-last year of train set vs. model forecast for same period</th>\n",
       "      <th>RMSE-test set vs. forecast of train set one year</th>\n",
       "      <th>Percent RMSE error</th>\n",
       "    </tr>\n",
       "    <tr>\n",
       "      <th>Name</th>\n",
       "      <th></th>\n",
       "      <th></th>\n",
       "      <th></th>\n",
       "      <th></th>\n",
       "      <th></th>\n",
       "      <th></th>\n",
       "      <th></th>\n",
       "      <th></th>\n",
       "    </tr>\n",
       "  </thead>\n",
       "  <tbody>\n",
       "    <tr>\n",
       "      <th>Aurora (70131)</th>\n",
       "      <td>3</td>\n",
       "      <td>(1,1)</td>\n",
       "      <td>4296.8</td>\n",
       "      <td>(1,1,1)</td>\n",
       "      <td>4099.7</td>\n",
       "      <td>1320.68</td>\n",
       "      <td>6509.78</td>\n",
       "      <td>3.8</td>\n",
       "    </tr>\n",
       "    <tr>\n",
       "      <th>Uptown (70115)</th>\n",
       "      <td>1</td>\n",
       "      <td>(1,1)</td>\n",
       "      <td>4391.0</td>\n",
       "      <td>(0,2,0)</td>\n",
       "      <td>4210.1</td>\n",
       "      <td>23203.68</td>\n",
       "      <td>42103.65</td>\n",
       "      <td>7.1</td>\n",
       "    </tr>\n",
       "    <tr>\n",
       "      <th>Metairie (70005)</th>\n",
       "      <td>2</td>\n",
       "      <td>(2,2)</td>\n",
       "      <td>3939.6</td>\n",
       "      <td>(1,1,1)</td>\n",
       "      <td>4279.7</td>\n",
       "      <td>3394.47</td>\n",
       "      <td>9778.85</td>\n",
       "      <td>3.4</td>\n",
       "    </tr>\n",
       "    <tr>\n",
       "      <th>Lower Garden District (70130)</th>\n",
       "      <td>2</td>\n",
       "      <td>(1,0)</td>\n",
       "      <td>4917.0</td>\n",
       "      <td>(0,2,0)</td>\n",
       "      <td>4396.3</td>\n",
       "      <td>23459.78</td>\n",
       "      <td>46684.81</td>\n",
       "      <td>8.0</td>\n",
       "    </tr>\n",
       "    <tr>\n",
       "      <th>Audubon (70118)</th>\n",
       "      <td>1</td>\n",
       "      <td>(2,1)</td>\n",
       "      <td>4280.0</td>\n",
       "      <td>(1,1,2)</td>\n",
       "      <td>4548.0</td>\n",
       "      <td>8023.76</td>\n",
       "      <td>186895.73</td>\n",
       "      <td>45.6</td>\n",
       "    </tr>\n",
       "  </tbody>\n",
       "</table>\n",
       "</div>"
      ],
      "text/plain": [
       "                               Min. differencing for stationarity  \\\n",
       "Name                                                                \n",
       "Aurora (70131)                                                  3   \n",
       "Uptown (70115)                                                  1   \n",
       "Metairie (70005)                                                2   \n",
       "Lower Garden District (70130)                                   2   \n",
       "Audubon (70118)                                                 1   \n",
       "\n",
       "                              Baseline ARMA  Baseline AIC  \\\n",
       "Name                                                        \n",
       "Aurora (70131)                        (1,1)        4296.8   \n",
       "Uptown (70115)                        (1,1)        4391.0   \n",
       "Metairie (70005)                      (2,2)        3939.6   \n",
       "Lower Garden District (70130)         (1,0)        4917.0   \n",
       "Audubon (70118)                       (2,1)        4280.0   \n",
       "\n",
       "                              Best AUTOArima on train set     AIC  \\\n",
       "Name                                                                \n",
       "Aurora (70131)                                    (1,1,1)  4099.7   \n",
       "Uptown (70115)                                    (0,2,0)  4210.1   \n",
       "Metairie (70005)                                  (1,1,1)  4279.7   \n",
       "Lower Garden District (70130)                     (0,2,0)  4396.3   \n",
       "Audubon (70118)                                   (1,1,2)  4548.0   \n",
       "\n",
       "                               RMSE-last year of train set vs. model forecast for same period  \\\n",
       "Name                                                                                            \n",
       "Aurora (70131)                                                           1320.68                \n",
       "Uptown (70115)                                                          23203.68                \n",
       "Metairie (70005)                                                         3394.47                \n",
       "Lower Garden District (70130)                                           23459.78                \n",
       "Audubon (70118)                                                          8023.76                \n",
       "\n",
       "                               RMSE-test set vs. forecast of train set one year  \\\n",
       "Name                                                                              \n",
       "Aurora (70131)                                                          6509.78   \n",
       "Uptown (70115)                                                         42103.65   \n",
       "Metairie (70005)                                                        9778.85   \n",
       "Lower Garden District (70130)                                          46684.81   \n",
       "Audubon (70118)                                                       186895.73   \n",
       "\n",
       "                               Percent RMSE error  \n",
       "Name                                               \n",
       "Aurora (70131)                                3.8  \n",
       "Uptown (70115)                                7.1  \n",
       "Metairie (70005)                              3.4  \n",
       "Lower Garden District (70130)                 8.0  \n",
       "Audubon (70118)                              45.6  "
      ]
     },
     "execution_count": 3,
     "metadata": {},
     "output_type": "execute_result"
    }
   ],
   "source": [
    "zip_results.sort_values(by=['AIC'])"
   ]
  },
  {
   "cell_type": "markdown",
   "metadata": {},
   "source": [
    "- Lowest AIC is Aurora  \n",
    "- Next lowest is Uptown"
   ]
  },
  {
   "cell_type": "code",
   "execution_count": 4,
   "metadata": {},
   "outputs": [
    {
     "data": {
      "text/html": [
       "<div>\n",
       "<style scoped>\n",
       "    .dataframe tbody tr th:only-of-type {\n",
       "        vertical-align: middle;\n",
       "    }\n",
       "\n",
       "    .dataframe tbody tr th {\n",
       "        vertical-align: top;\n",
       "    }\n",
       "\n",
       "    .dataframe thead th {\n",
       "        text-align: right;\n",
       "    }\n",
       "</style>\n",
       "<table border=\"1\" class=\"dataframe\">\n",
       "  <thead>\n",
       "    <tr style=\"text-align: right;\">\n",
       "      <th></th>\n",
       "      <th>Min. differencing for stationarity</th>\n",
       "      <th>Baseline ARMA</th>\n",
       "      <th>Baseline AIC</th>\n",
       "      <th>Best AUTOArima on train set</th>\n",
       "      <th>AIC</th>\n",
       "      <th>RMSE-last year of train set vs. model forecast for same period</th>\n",
       "      <th>RMSE-test set vs. forecast of train set one year</th>\n",
       "      <th>Percent RMSE error</th>\n",
       "    </tr>\n",
       "    <tr>\n",
       "      <th>Name</th>\n",
       "      <th></th>\n",
       "      <th></th>\n",
       "      <th></th>\n",
       "      <th></th>\n",
       "      <th></th>\n",
       "      <th></th>\n",
       "      <th></th>\n",
       "      <th></th>\n",
       "    </tr>\n",
       "  </thead>\n",
       "  <tbody>\n",
       "    <tr>\n",
       "      <th>Aurora (70131)</th>\n",
       "      <td>3</td>\n",
       "      <td>(1,1)</td>\n",
       "      <td>4296.8</td>\n",
       "      <td>(1,1,1)</td>\n",
       "      <td>4099.7</td>\n",
       "      <td>1320.68</td>\n",
       "      <td>6509.78</td>\n",
       "      <td>3.8</td>\n",
       "    </tr>\n",
       "    <tr>\n",
       "      <th>Metairie (70005)</th>\n",
       "      <td>2</td>\n",
       "      <td>(2,2)</td>\n",
       "      <td>3939.6</td>\n",
       "      <td>(1,1,1)</td>\n",
       "      <td>4279.7</td>\n",
       "      <td>3394.47</td>\n",
       "      <td>9778.85</td>\n",
       "      <td>3.4</td>\n",
       "    </tr>\n",
       "    <tr>\n",
       "      <th>Uptown (70115)</th>\n",
       "      <td>1</td>\n",
       "      <td>(1,1)</td>\n",
       "      <td>4391.0</td>\n",
       "      <td>(0,2,0)</td>\n",
       "      <td>4210.1</td>\n",
       "      <td>23203.68</td>\n",
       "      <td>42103.65</td>\n",
       "      <td>7.1</td>\n",
       "    </tr>\n",
       "    <tr>\n",
       "      <th>Lower Garden District (70130)</th>\n",
       "      <td>2</td>\n",
       "      <td>(1,0)</td>\n",
       "      <td>4917.0</td>\n",
       "      <td>(0,2,0)</td>\n",
       "      <td>4396.3</td>\n",
       "      <td>23459.78</td>\n",
       "      <td>46684.81</td>\n",
       "      <td>8.0</td>\n",
       "    </tr>\n",
       "    <tr>\n",
       "      <th>Audubon (70118)</th>\n",
       "      <td>1</td>\n",
       "      <td>(2,1)</td>\n",
       "      <td>4280.0</td>\n",
       "      <td>(1,1,2)</td>\n",
       "      <td>4548.0</td>\n",
       "      <td>8023.76</td>\n",
       "      <td>186895.73</td>\n",
       "      <td>45.6</td>\n",
       "    </tr>\n",
       "  </tbody>\n",
       "</table>\n",
       "</div>"
      ],
      "text/plain": [
       "                               Min. differencing for stationarity  \\\n",
       "Name                                                                \n",
       "Aurora (70131)                                                  3   \n",
       "Metairie (70005)                                                2   \n",
       "Uptown (70115)                                                  1   \n",
       "Lower Garden District (70130)                                   2   \n",
       "Audubon (70118)                                                 1   \n",
       "\n",
       "                              Baseline ARMA  Baseline AIC  \\\n",
       "Name                                                        \n",
       "Aurora (70131)                        (1,1)        4296.8   \n",
       "Metairie (70005)                      (2,2)        3939.6   \n",
       "Uptown (70115)                        (1,1)        4391.0   \n",
       "Lower Garden District (70130)         (1,0)        4917.0   \n",
       "Audubon (70118)                       (2,1)        4280.0   \n",
       "\n",
       "                              Best AUTOArima on train set     AIC  \\\n",
       "Name                                                                \n",
       "Aurora (70131)                                    (1,1,1)  4099.7   \n",
       "Metairie (70005)                                  (1,1,1)  4279.7   \n",
       "Uptown (70115)                                    (0,2,0)  4210.1   \n",
       "Lower Garden District (70130)                     (0,2,0)  4396.3   \n",
       "Audubon (70118)                                   (1,1,2)  4548.0   \n",
       "\n",
       "                               RMSE-last year of train set vs. model forecast for same period  \\\n",
       "Name                                                                                            \n",
       "Aurora (70131)                                                           1320.68                \n",
       "Metairie (70005)                                                         3394.47                \n",
       "Uptown (70115)                                                          23203.68                \n",
       "Lower Garden District (70130)                                           23459.78                \n",
       "Audubon (70118)                                                          8023.76                \n",
       "\n",
       "                               RMSE-test set vs. forecast of train set one year  \\\n",
       "Name                                                                              \n",
       "Aurora (70131)                                                          6509.78   \n",
       "Metairie (70005)                                                        9778.85   \n",
       "Uptown (70115)                                                         42103.65   \n",
       "Lower Garden District (70130)                                          46684.81   \n",
       "Audubon (70118)                                                       186895.73   \n",
       "\n",
       "                               Percent RMSE error  \n",
       "Name                                               \n",
       "Aurora (70131)                                3.8  \n",
       "Metairie (70005)                              3.4  \n",
       "Uptown (70115)                                7.1  \n",
       "Lower Garden District (70130)                 8.0  \n",
       "Audubon (70118)                              45.6  "
      ]
     },
     "execution_count": 4,
     "metadata": {},
     "output_type": "execute_result"
    }
   ],
   "source": [
    "zip_results.sort_values(by=['RMSE-test set vs. forecast of train set one year'])"
   ]
  },
  {
   "cell_type": "markdown",
   "metadata": {},
   "source": [
    "- Lowest RMSE is Aurora  \n",
    "- Next lowest is Metairie, then Uptown  "
   ]
  },
  {
   "cell_type": "code",
   "execution_count": 5,
   "metadata": {},
   "outputs": [
    {
     "data": {
      "text/html": [
       "<div>\n",
       "<style scoped>\n",
       "    .dataframe tbody tr th:only-of-type {\n",
       "        vertical-align: middle;\n",
       "    }\n",
       "\n",
       "    .dataframe tbody tr th {\n",
       "        vertical-align: top;\n",
       "    }\n",
       "\n",
       "    .dataframe thead th {\n",
       "        text-align: right;\n",
       "    }\n",
       "</style>\n",
       "<table border=\"1\" class=\"dataframe\">\n",
       "  <thead>\n",
       "    <tr style=\"text-align: right;\">\n",
       "      <th></th>\n",
       "      <th>Min. differencing for stationarity</th>\n",
       "      <th>Baseline ARMA</th>\n",
       "      <th>Baseline AIC</th>\n",
       "      <th>Best AUTOArima on train set</th>\n",
       "      <th>AIC</th>\n",
       "      <th>RMSE-last year of train set vs. model forecast for same period</th>\n",
       "      <th>RMSE-test set vs. forecast of train set one year</th>\n",
       "      <th>Percent RMSE error</th>\n",
       "    </tr>\n",
       "    <tr>\n",
       "      <th>Name</th>\n",
       "      <th></th>\n",
       "      <th></th>\n",
       "      <th></th>\n",
       "      <th></th>\n",
       "      <th></th>\n",
       "      <th></th>\n",
       "      <th></th>\n",
       "      <th></th>\n",
       "    </tr>\n",
       "  </thead>\n",
       "  <tbody>\n",
       "    <tr>\n",
       "      <th>Metairie (70005)</th>\n",
       "      <td>2</td>\n",
       "      <td>(2,2)</td>\n",
       "      <td>3939.6</td>\n",
       "      <td>(1,1,1)</td>\n",
       "      <td>4279.7</td>\n",
       "      <td>3394.47</td>\n",
       "      <td>9778.85</td>\n",
       "      <td>3.4</td>\n",
       "    </tr>\n",
       "    <tr>\n",
       "      <th>Aurora (70131)</th>\n",
       "      <td>3</td>\n",
       "      <td>(1,1)</td>\n",
       "      <td>4296.8</td>\n",
       "      <td>(1,1,1)</td>\n",
       "      <td>4099.7</td>\n",
       "      <td>1320.68</td>\n",
       "      <td>6509.78</td>\n",
       "      <td>3.8</td>\n",
       "    </tr>\n",
       "    <tr>\n",
       "      <th>Uptown (70115)</th>\n",
       "      <td>1</td>\n",
       "      <td>(1,1)</td>\n",
       "      <td>4391.0</td>\n",
       "      <td>(0,2,0)</td>\n",
       "      <td>4210.1</td>\n",
       "      <td>23203.68</td>\n",
       "      <td>42103.65</td>\n",
       "      <td>7.1</td>\n",
       "    </tr>\n",
       "    <tr>\n",
       "      <th>Lower Garden District (70130)</th>\n",
       "      <td>2</td>\n",
       "      <td>(1,0)</td>\n",
       "      <td>4917.0</td>\n",
       "      <td>(0,2,0)</td>\n",
       "      <td>4396.3</td>\n",
       "      <td>23459.78</td>\n",
       "      <td>46684.81</td>\n",
       "      <td>8.0</td>\n",
       "    </tr>\n",
       "    <tr>\n",
       "      <th>Audubon (70118)</th>\n",
       "      <td>1</td>\n",
       "      <td>(2,1)</td>\n",
       "      <td>4280.0</td>\n",
       "      <td>(1,1,2)</td>\n",
       "      <td>4548.0</td>\n",
       "      <td>8023.76</td>\n",
       "      <td>186895.73</td>\n",
       "      <td>45.6</td>\n",
       "    </tr>\n",
       "  </tbody>\n",
       "</table>\n",
       "</div>"
      ],
      "text/plain": [
       "                               Min. differencing for stationarity  \\\n",
       "Name                                                                \n",
       "Metairie (70005)                                                2   \n",
       "Aurora (70131)                                                  3   \n",
       "Uptown (70115)                                                  1   \n",
       "Lower Garden District (70130)                                   2   \n",
       "Audubon (70118)                                                 1   \n",
       "\n",
       "                              Baseline ARMA  Baseline AIC  \\\n",
       "Name                                                        \n",
       "Metairie (70005)                      (2,2)        3939.6   \n",
       "Aurora (70131)                        (1,1)        4296.8   \n",
       "Uptown (70115)                        (1,1)        4391.0   \n",
       "Lower Garden District (70130)         (1,0)        4917.0   \n",
       "Audubon (70118)                       (2,1)        4280.0   \n",
       "\n",
       "                              Best AUTOArima on train set     AIC  \\\n",
       "Name                                                                \n",
       "Metairie (70005)                                  (1,1,1)  4279.7   \n",
       "Aurora (70131)                                    (1,1,1)  4099.7   \n",
       "Uptown (70115)                                    (0,2,0)  4210.1   \n",
       "Lower Garden District (70130)                     (0,2,0)  4396.3   \n",
       "Audubon (70118)                                   (1,1,2)  4548.0   \n",
       "\n",
       "                               RMSE-last year of train set vs. model forecast for same period  \\\n",
       "Name                                                                                            \n",
       "Metairie (70005)                                                         3394.47                \n",
       "Aurora (70131)                                                           1320.68                \n",
       "Uptown (70115)                                                          23203.68                \n",
       "Lower Garden District (70130)                                           23459.78                \n",
       "Audubon (70118)                                                          8023.76                \n",
       "\n",
       "                               RMSE-test set vs. forecast of train set one year  \\\n",
       "Name                                                                              \n",
       "Metairie (70005)                                                        9778.85   \n",
       "Aurora (70131)                                                          6509.78   \n",
       "Uptown (70115)                                                         42103.65   \n",
       "Lower Garden District (70130)                                          46684.81   \n",
       "Audubon (70118)                                                       186895.73   \n",
       "\n",
       "                               Percent RMSE error  \n",
       "Name                                               \n",
       "Metairie (70005)                              3.4  \n",
       "Aurora (70131)                                3.8  \n",
       "Uptown (70115)                                7.1  \n",
       "Lower Garden District (70130)                 8.0  \n",
       "Audubon (70118)                              45.6  "
      ]
     },
     "execution_count": 5,
     "metadata": {},
     "output_type": "execute_result"
    }
   ],
   "source": [
    "zip_results.sort_values(by=['Percent RMSE error'])"
   ]
  },
  {
   "cell_type": "markdown",
   "metadata": {},
   "source": [
    "- Lowest percent RMSE error is Metairie  \n",
    "- Next Aurora, then Uptown  "
   ]
  },
  {
   "cell_type": "code",
   "execution_count": 6,
   "metadata": {},
   "outputs": [
    {
     "data": {
      "text/html": [
       "<div>\n",
       "<style scoped>\n",
       "    .dataframe tbody tr th:only-of-type {\n",
       "        vertical-align: middle;\n",
       "    }\n",
       "\n",
       "    .dataframe tbody tr th {\n",
       "        vertical-align: top;\n",
       "    }\n",
       "\n",
       "    .dataframe thead th {\n",
       "        text-align: right;\n",
       "    }\n",
       "</style>\n",
       "<table border=\"1\" class=\"dataframe\">\n",
       "  <thead>\n",
       "    <tr style=\"text-align: right;\">\n",
       "      <th></th>\n",
       "      <th>AIC</th>\n",
       "      <th>RMSE-test set vs. forecast of train set one year</th>\n",
       "      <th>Percent RMSE error</th>\n",
       "    </tr>\n",
       "    <tr>\n",
       "      <th>Name</th>\n",
       "      <th></th>\n",
       "      <th></th>\n",
       "      <th></th>\n",
       "    </tr>\n",
       "  </thead>\n",
       "  <tbody>\n",
       "    <tr>\n",
       "      <th>Metairie (70005)</th>\n",
       "      <td>4279.7</td>\n",
       "      <td>9778.85</td>\n",
       "      <td>3.4</td>\n",
       "    </tr>\n",
       "    <tr>\n",
       "      <th>Aurora (70131)</th>\n",
       "      <td>4099.7</td>\n",
       "      <td>6509.78</td>\n",
       "      <td>3.8</td>\n",
       "    </tr>\n",
       "    <tr>\n",
       "      <th>Uptown (70115)</th>\n",
       "      <td>4210.1</td>\n",
       "      <td>42103.65</td>\n",
       "      <td>7.1</td>\n",
       "    </tr>\n",
       "    <tr>\n",
       "      <th>Lower Garden District (70130)</th>\n",
       "      <td>4396.3</td>\n",
       "      <td>46684.81</td>\n",
       "      <td>8.0</td>\n",
       "    </tr>\n",
       "    <tr>\n",
       "      <th>Audubon (70118)</th>\n",
       "      <td>4548.0</td>\n",
       "      <td>186895.73</td>\n",
       "      <td>45.6</td>\n",
       "    </tr>\n",
       "  </tbody>\n",
       "</table>\n",
       "</div>"
      ],
      "text/plain": [
       "                                  AIC  \\\n",
       "Name                                    \n",
       "Metairie (70005)               4279.7   \n",
       "Aurora (70131)                 4099.7   \n",
       "Uptown (70115)                 4210.1   \n",
       "Lower Garden District (70130)  4396.3   \n",
       "Audubon (70118)                4548.0   \n",
       "\n",
       "                               RMSE-test set vs. forecast of train set one year  \\\n",
       "Name                                                                              \n",
       "Metairie (70005)                                                        9778.85   \n",
       "Aurora (70131)                                                          6509.78   \n",
       "Uptown (70115)                                                         42103.65   \n",
       "Lower Garden District (70130)                                          46684.81   \n",
       "Audubon (70118)                                                       186895.73   \n",
       "\n",
       "                               Percent RMSE error  \n",
       "Name                                               \n",
       "Metairie (70005)                              3.4  \n",
       "Aurora (70131)                                3.8  \n",
       "Uptown (70115)                                7.1  \n",
       "Lower Garden District (70130)                 8.0  \n",
       "Audubon (70118)                              45.6  "
      ]
     },
     "execution_count": 6,
     "metadata": {},
     "output_type": "execute_result"
    }
   ],
   "source": [
    "zip_results.sort_values(by=['Percent RMSE error']).iloc[:,[4, -2, -1]]"
   ]
  },
  {
   "cell_type": "markdown",
   "metadata": {},
   "source": [
    "# Model Full Data (Aurora) "
   ]
  },
  {
   "cell_type": "code",
   "execution_count": 7,
   "metadata": {},
   "outputs": [],
   "source": [
    "# Load dataset\n",
    "aurora = pd.read_csv('../data/aurora.csv').set_index('Unnamed: 0')\n",
    "aurora.index.name = None\n",
    "aurora.index = pd.to_datetime(aurora.index, format='%Y-%m')\n",
    "aurora.index = pd.DatetimeIndex(aurora.index, freq='MS')\n",
    "aurora = aurora.rename(columns={'70131': 'Aurora'})"
   ]
  },
  {
   "cell_type": "code",
   "execution_count": 8,
   "metadata": {},
   "outputs": [],
   "source": [
    "# Fit data to best model\n",
    "aurora_arima_smx = sm.tsa.statespace.SARIMAX(aurora, \n",
    "                                             order=(1,1,1), \n",
    "                                             enforce_stationarity=True, \n",
    "                                             enforce_invertibility=False)\n",
    "aurora_output = aurora_arima_smx.fit()"
   ]
  },
  {
   "cell_type": "code",
   "execution_count": 9,
   "metadata": {},
   "outputs": [
    {
     "data": {
      "image/png": "[encoded data removed]",
      "text/plain": [
       "<Figure size 720x720 with 4 Axes>"
      ]
     },
     "metadata": {
      "needs_background": "light"
     },
     "output_type": "display_data"
    }
   ],
   "source": [
    "aurora_output.plot_diagnostics(figsize=(10, 10))\n",
    "plt.show()"
   ]
  },
  {
   "cell_type": "code",
   "execution_count": 10,
   "metadata": {},
   "outputs": [
    {
     "data": {
      "text/html": [
       "<div>\n",
       "<style scoped>\n",
       "    .dataframe tbody tr th:only-of-type {\n",
       "        vertical-align: middle;\n",
       "    }\n",
       "\n",
       "    .dataframe tbody tr th {\n",
       "        vertical-align: top;\n",
       "    }\n",
       "\n",
       "    .dataframe thead th {\n",
       "        text-align: right;\n",
       "    }\n",
       "</style>\n",
       "<table border=\"1\" class=\"dataframe\">\n",
       "  <thead>\n",
       "    <tr style=\"text-align: right;\">\n",
       "      <th></th>\n",
       "      <th>Aurora</th>\n",
       "    </tr>\n",
       "  </thead>\n",
       "  <tbody>\n",
       "    <tr>\n",
       "      <th>2018-02-01</th>\n",
       "      <td>165000.0</td>\n",
       "    </tr>\n",
       "    <tr>\n",
       "      <th>2018-03-01</th>\n",
       "      <td>166900.0</td>\n",
       "    </tr>\n",
       "    <tr>\n",
       "      <th>2018-04-01</th>\n",
       "      <td>167800.0</td>\n",
       "    </tr>\n",
       "  </tbody>\n",
       "</table>\n",
       "</div>"
      ],
      "text/plain": [
       "              Aurora\n",
       "2018-02-01  165000.0\n",
       "2018-03-01  166900.0\n",
       "2018-04-01  167800.0"
      ]
     },
     "execution_count": 10,
     "metadata": {},
     "output_type": "execute_result"
    }
   ],
   "source": [
    "aurora.tail(3)"
   ]
  },
  {
   "cell_type": "markdown",
   "metadata": {},
   "source": [
    "## Plot forecast"
   ]
  },
  {
   "cell_type": "code",
   "execution_count": 11,
   "metadata": {},
   "outputs": [],
   "source": [
    "prediction = aurora_output.get_forecast(steps=24)\n",
    "\n",
    "# Get confidence intervals of forecasts\n",
    "pred_conf = prediction.conf_int()"
   ]
  },
  {
   "cell_type": "code",
   "execution_count": 12,
   "metadata": {},
   "outputs": [
    {
     "data": {
      "image/png": "[encoded data removed]",
      "text/plain": [
       "<Figure size 1296x720 with 1 Axes>"
      ]
     },
     "metadata": {
      "needs_background": "light"
     },
     "output_type": "display_data"
    }
   ],
   "source": [
    "ax = aurora.plot(label='observed', figsize=(18,10))\n",
    "prediction.predicted_mean.plot(ax=ax, label='Forecast')\n",
    "ax.fill_between(pred_conf.index,\n",
    "                pred_conf.iloc[:, 0],\n",
    "                pred_conf.iloc[:, 1], color='k', alpha=0.25)\n",
    "ax.set_xlabel('Date')\n",
    "ax.set_ylabel('Price')\n",
    "\n",
    "plt.title(\"Aurora (70131) Forecast\", fontsize=22, pad=14)\n",
    "plt.legend(loc=\"upper left\")\n",
    "\n",
    "plt.savefig(r'../images/aurora_full_model_forecast.png')\n",
    "\n",
    "plt.show()"
   ]
  },
  {
   "cell_type": "markdown",
   "metadata": {},
   "source": [
    "## Find numerical forecasts"
   ]
  },
  {
   "cell_type": "code",
   "execution_count": 13,
   "metadata": {},
   "outputs": [
    {
     "data": {
      "text/plain": [
       "170106.12190599693"
      ]
     },
     "execution_count": 13,
     "metadata": {},
     "output_type": "execute_result"
    }
   ],
   "source": [
    "aurora_output.forecast(24)[-1]"
   ]
  },
  {
   "cell_type": "code",
   "execution_count": 14,
   "metadata": {},
   "outputs": [
    {
     "data": {
      "text/plain": [
       "170106.1"
      ]
     },
     "execution_count": 14,
     "metadata": {},
     "output_type": "execute_result"
    }
   ],
   "source": [
    "aurora_two_yr_forecast = round(aurora_output.forecast(24)[-1], 1)\n",
    "aurora_two_yr_forecast"
   ]
  },
  {
   "cell_type": "markdown",
   "metadata": {},
   "source": [
    "Aurora two-year ROI"
   ]
  },
  {
   "cell_type": "code",
   "execution_count": 15,
   "metadata": {},
   "outputs": [
    {
     "data": {
      "text/plain": [
       "167800.0"
      ]
     },
     "execution_count": 15,
     "metadata": {},
     "output_type": "execute_result"
    }
   ],
   "source": [
    "aurora_last_price = aurora.iloc[-1]['Aurora']\n",
    "aurora_last_price"
   ]
  },
  {
   "cell_type": "code",
   "execution_count": 16,
   "metadata": {},
   "outputs": [
    {
     "data": {
      "text/plain": [
       "1.3743146603098964"
      ]
     },
     "execution_count": 16,
     "metadata": {},
     "output_type": "execute_result"
    }
   ],
   "source": [
    "aurora_ROI = (((aurora_two_yr_forecast - aurora_last_price) / aurora_last_price) * 100)\n",
    "aurora_ROI"
   ]
  },
  {
   "cell_type": "code",
   "execution_count": 17,
   "metadata": {},
   "outputs": [
    {
     "data": {
      "text/plain": [
       "'1.37%'"
      ]
     },
     "execution_count": 17,
     "metadata": {},
     "output_type": "execute_result"
    }
   ],
   "source": [
    "aurora_ROI = f\"{round(aurora_ROI, 2)}%\"\n",
    "aurora_ROI"
   ]
  },
  {
   "cell_type": "markdown",
   "metadata": {},
   "source": [
    "Very poor return on investment. Will look at Uptown."
   ]
  },
  {
   "cell_type": "markdown",
   "metadata": {},
   "source": [
    "### Standard Deviation (to Measure Risk)"
   ]
  },
  {
   "cell_type": "code",
   "execution_count": 18,
   "metadata": {},
   "outputs": [],
   "source": [
    "upper = pred_conf.iloc[:,1]\n",
    "lower = pred_conf.iloc[:,0]"
   ]
  },
  {
   "cell_type": "code",
   "execution_count": 19,
   "metadata": {},
   "outputs": [
    {
     "data": {
      "text/plain": [
       "2018-05-01    169580.209589\n",
       "2018-06-01    170577.556992\n",
       "2018-07-01    171429.266085\n",
       "2018-08-01    172192.446769\n",
       "2018-09-01    172889.843421\n",
       "2018-10-01    173534.045400\n",
       "2018-11-01    174133.375845\n",
       "2018-12-01    174693.953783\n",
       "2019-01-01    175220.581452\n",
       "2019-02-01    175717.184930\n",
       "2019-03-01    176187.058839\n",
       "2019-04-01    176633.015507\n",
       "2019-05-01    177057.483345\n",
       "2019-06-01    177462.576147\n",
       "2019-07-01    177850.144580\n",
       "2019-08-01    178221.816091\n",
       "2019-09-01    178579.026836\n",
       "2019-10-01    178923.047853\n",
       "2019-11-01    179255.006879\n",
       "2019-12-01    179575.906794\n",
       "2020-01-01    179886.641346\n",
       "2020-02-01    180188.008653\n",
       "2020-03-01    180480.722856\n",
       "2020-04-01    180765.424224\n",
       "Freq: MS, Name: upper Aurora, dtype: float64"
      ]
     },
     "execution_count": 19,
     "metadata": {},
     "output_type": "execute_result"
    }
   ],
   "source": [
    "upper"
   ]
  },
  {
   "cell_type": "code",
   "execution_count": 20,
   "metadata": {},
   "outputs": [
    {
     "data": {
      "text/plain": [
       "2018-05-01    166716.454281\n",
       "2018-06-01    166312.807702\n",
       "2018-07-01    165967.053755\n",
       "2018-08-01    165635.050859\n",
       "2018-09-01    165305.106317\n",
       "2018-10-01    164974.049071\n",
       "2018-11-01    164641.582308\n",
       "2018-12-01    164308.427085\n",
       "2019-01-01    163975.610318\n",
       "2019-02-01    163644.173569\n",
       "2019-03-01    163315.055665\n",
       "2019-04-01    162989.052048\n",
       "2019-05-01    162666.808866\n",
       "2019-06-01    162348.832485\n",
       "2019-07-01    162035.505151\n",
       "2019-08-01    161727.102318\n",
       "2019-09-01    161423.809490\n",
       "2019-10-01    161125.737624\n",
       "2019-11-01    160832.936719\n",
       "2019-12-01    160545.407573\n",
       "2020-01-01    160263.111776\n",
       "2020-02-01    159985.980135\n",
       "2020-03-01    159713.919699\n",
       "2020-04-01    159446.819588\n",
       "Freq: MS, Name: lower Aurora, dtype: float64"
      ]
     },
     "execution_count": 20,
     "metadata": {},
     "output_type": "execute_result"
    }
   ],
   "source": [
    "lower"
   ]
  },
  {
   "cell_type": "code",
   "execution_count": 21,
   "metadata": {},
   "outputs": [],
   "source": [
    "arr = np.array([upper, lower])"
   ]
  },
  {
   "cell_type": "code",
   "execution_count": 22,
   "metadata": {},
   "outputs": [
    {
     "data": {
      "text/plain": [
       "7239.0"
      ]
     },
     "execution_count": 22,
     "metadata": {},
     "output_type": "execute_result"
    }
   ],
   "source": [
    "aurora_std = round(np.std(arr), 1)\n",
    "aurora_std"
   ]
  },
  {
   "cell_type": "code",
   "execution_count": 23,
   "metadata": {},
   "outputs": [],
   "source": [
    "aurora_months_forecasted = 24"
   ]
  },
  {
   "cell_type": "markdown",
   "metadata": {},
   "source": [
    "# Model Full Data (uptown) "
   ]
  },
  {
   "cell_type": "code",
   "execution_count": 24,
   "metadata": {},
   "outputs": [],
   "source": [
    "# Load dataset\n",
    "uptown = pd.read_csv('../data/uptown.csv').set_index('Unnamed: 0')\n",
    "uptown.index.name = None\n",
    "uptown.index = pd.to_datetime(uptown.index, format='%Y-%m')\n",
    "uptown.index = pd.DatetimeIndex(uptown.index, freq='MS')\n",
    "uptown = uptown.rename(columns={'70115': 'Uptown'})"
   ]
  },
  {
   "cell_type": "code",
   "execution_count": 25,
   "metadata": {},
   "outputs": [],
   "source": [
    "uptown_arima_smx = sm.tsa.statespace.SARIMAX(uptown,\n",
    "                                        order=(0,2,0), \n",
    "                                        enforce_stationarity=True, \n",
    "                                        enforce_invertibility=False)\n",
    "uptown_output = uptown_arima_smx.fit()"
   ]
  },
  {
   "cell_type": "code",
   "execution_count": 26,
   "metadata": {},
   "outputs": [],
   "source": [
    "prediction = uptown_output.get_forecast(steps=24)\n",
    "\n",
    "# Get confidence intervals of forecasts\n",
    "pred_conf = prediction.conf_int()"
   ]
  },
  {
   "cell_type": "code",
   "execution_count": 27,
   "metadata": {},
   "outputs": [
    {
     "data": {
      "image/png": "[encoded data removed]",
      "text/plain": [
       "<Figure size 720x360 with 1 Axes>"
      ]
     },
     "metadata": {
      "needs_background": "light"
     },
     "output_type": "display_data"
    }
   ],
   "source": [
    "ax = uptown.plot(label='observed', figsize=(10,5))\n",
    "prediction.predicted_mean.plot(ax=ax, label='forecast')\n",
    "ax.fill_between(pred_conf.index,\n",
    "                pred_conf.iloc[:, 0],\n",
    "                pred_conf.iloc[:, 1], color='k', alpha=0.25)\n",
    "ax.set_xlabel('Date')\n",
    "ax.set_ylabel('Price')\n",
    "\n",
    "plt.legend(loc=\"upper left\")\n",
    "plt.show()"
   ]
  },
  {
   "cell_type": "code",
   "execution_count": 28,
   "metadata": {},
   "outputs": [],
   "source": [
    "# Try 12 steps instead\n",
    "\n",
    "prediction = uptown_output.get_forecast(steps=12)\n",
    "\n",
    "# Get confidence intervals of forecasts\n",
    "pred_conf = prediction.conf_int()"
   ]
  },
  {
   "cell_type": "code",
   "execution_count": 29,
   "metadata": {},
   "outputs": [
    {
     "data": {
      "image/png": "[encoded data removed]",
      "text/plain": [
       "<Figure size 1296x720 with 1 Axes>"
      ]
     },
     "metadata": {
      "needs_background": "light"
     },
     "output_type": "display_data"
    }
   ],
   "source": [
    "ax = uptown.plot(label='observed', figsize=(18, 10))\n",
    "prediction.predicted_mean.plot(ax=ax, label='forecast')\n",
    "ax.fill_between(pred_conf.index,\n",
    "                pred_conf.iloc[:, 0],\n",
    "                pred_conf.iloc[:, 1], color='k', alpha=0.25)\n",
    "ax.set_xlabel('Date')\n",
    "ax.set_ylabel('Price')\n",
    "\n",
    "plt.legend(loc=\"upper left\")\n",
    "plt.title(\"Uptown (70115) Forecast\", fontsize=22, pad=14)\n",
    "plt.legend(loc=\"upper left\")\n",
    "\n",
    "plt.savefig(r'../images/uptown_full_model_forecast.png')"
   ]
  },
  {
   "cell_type": "markdown",
   "metadata": {},
   "source": [
    "## Find numerical forecasts"
   ]
  },
  {
   "cell_type": "code",
   "execution_count": 30,
   "metadata": {},
   "outputs": [
    {
     "data": {
      "text/plain": [
       "504700.0"
      ]
     },
     "execution_count": 30,
     "metadata": {},
     "output_type": "execute_result"
    }
   ],
   "source": [
    "uptown_output.forecast(12)[-1]"
   ]
  },
  {
   "cell_type": "code",
   "execution_count": 31,
   "metadata": {},
   "outputs": [
    {
     "data": {
      "text/plain": [
       "504700.0"
      ]
     },
     "execution_count": 31,
     "metadata": {},
     "output_type": "execute_result"
    }
   ],
   "source": [
    "uptown_one_yr_forecast = round(uptown_output.forecast(12)[-1], 1)\n",
    "uptown_months_forecasted = 12\n",
    "uptown_one_yr_forecast"
   ]
  },
  {
   "cell_type": "markdown",
   "metadata": {},
   "source": [
    "uptown one-year ROI"
   ]
  },
  {
   "cell_type": "code",
   "execution_count": 32,
   "metadata": {},
   "outputs": [
    {
     "data": {
      "text/plain": [
       "592300.0"
      ]
     },
     "execution_count": 32,
     "metadata": {},
     "output_type": "execute_result"
    }
   ],
   "source": [
    "uptown_last_price = uptown.iloc[-1]['Uptown']\n",
    "uptown_last_price"
   ]
  },
  {
   "cell_type": "code",
   "execution_count": 33,
   "metadata": {},
   "outputs": [
    {
     "data": {
      "text/plain": [
       "-14.789802464967078"
      ]
     },
     "execution_count": 33,
     "metadata": {},
     "output_type": "execute_result"
    }
   ],
   "source": [
    "uptown_ROI = (((uptown_one_yr_forecast - uptown_last_price) / uptown_last_price) * 100)\n",
    "uptown_ROI"
   ]
  },
  {
   "cell_type": "code",
   "execution_count": 34,
   "metadata": {},
   "outputs": [
    {
     "data": {
      "text/plain": [
       "'-14.79%'"
      ]
     },
     "execution_count": 34,
     "metadata": {},
     "output_type": "execute_result"
    }
   ],
   "source": [
    "uptown_ROI = f\"{round(uptown_ROI, 3)}%\"\n",
    "uptown_ROI"
   ]
  },
  {
   "cell_type": "markdown",
   "metadata": {},
   "source": [
    "This investment will lose money"
   ]
  },
  {
   "cell_type": "markdown",
   "metadata": {},
   "source": [
    "### Standard Deviation (to Measure Risk)"
   ]
  },
  {
   "cell_type": "code",
   "execution_count": 35,
   "metadata": {},
   "outputs": [],
   "source": [
    "upper = pred_conf.iloc[:,1]\n",
    "lower = pred_conf.iloc[:,0]"
   ]
  },
  {
   "cell_type": "code",
   "execution_count": 36,
   "metadata": {},
   "outputs": [],
   "source": [
    "arr = np.array([upper, lower])"
   ]
  },
  {
   "cell_type": "code",
   "execution_count": 37,
   "metadata": {},
   "outputs": [
    {
     "data": {
      "text/plain": [
       "43671.8"
      ]
     },
     "execution_count": 37,
     "metadata": {},
     "output_type": "execute_result"
    }
   ],
   "source": [
    "uptown_std = round(np.std(arr), 1)\n",
    "uptown_std"
   ]
  },
  {
   "cell_type": "markdown",
   "metadata": {},
   "source": [
    "# Model Full Data (Metairie)"
   ]
  },
  {
   "cell_type": "code",
   "execution_count": 38,
   "metadata": {},
   "outputs": [],
   "source": [
    "# Load dataset\n",
    "metairie = pd.read_csv('../data/metairie.csv').set_index('Unnamed: 0')\n",
    "metairie.index.name = None\n",
    "metairie.index = pd.to_datetime(metairie.index, format='%Y-%m')\n",
    "metairie.index = pd.DatetimeIndex(metairie.index, freq='MS')\n",
    "metairie = metairie.rename(columns={'70005': 'metairie'})"
   ]
  },
  {
   "cell_type": "code",
   "execution_count": 39,
   "metadata": {},
   "outputs": [],
   "source": [
    "# Fit data to best model\n",
    "metairie_arima_smx = sm.tsa.statespace.SARIMAX(metairie, \n",
    "                                             order=(1,1,1), \n",
    "                                             enforce_stationarity=True, \n",
    "                                             enforce_invertibility=False)\n",
    "metairie_output = metairie_arima_smx.fit()"
   ]
  },
  {
   "cell_type": "code",
   "execution_count": 40,
   "metadata": {},
   "outputs": [
    {
     "data": {
      "image/png": "[encoded data removed]",
      "text/plain": [
       "<Figure size 720x720 with 4 Axes>"
      ]
     },
     "metadata": {
      "needs_background": "light"
     },
     "output_type": "display_data"
    }
   ],
   "source": [
    "metairie_output.plot_diagnostics(figsize=(10, 10))\n",
    "plt.show()"
   ]
  },
  {
   "cell_type": "code",
   "execution_count": 41,
   "metadata": {},
   "outputs": [
    {
     "data": {
      "text/html": [
       "<div>\n",
       "<style scoped>\n",
       "    .dataframe tbody tr th:only-of-type {\n",
       "        vertical-align: middle;\n",
       "    }\n",
       "\n",
       "    .dataframe tbody tr th {\n",
       "        vertical-align: top;\n",
       "    }\n",
       "\n",
       "    .dataframe thead th {\n",
       "        text-align: right;\n",
       "    }\n",
       "</style>\n",
       "<table border=\"1\" class=\"dataframe\">\n",
       "  <thead>\n",
       "    <tr style=\"text-align: right;\">\n",
       "      <th></th>\n",
       "      <th>metairie</th>\n",
       "    </tr>\n",
       "  </thead>\n",
       "  <tbody>\n",
       "    <tr>\n",
       "      <th>2018-02-01</th>\n",
       "      <td>290200.0</td>\n",
       "    </tr>\n",
       "    <tr>\n",
       "      <th>2018-03-01</th>\n",
       "      <td>290800.0</td>\n",
       "    </tr>\n",
       "    <tr>\n",
       "      <th>2018-04-01</th>\n",
       "      <td>291600.0</td>\n",
       "    </tr>\n",
       "  </tbody>\n",
       "</table>\n",
       "</div>"
      ],
      "text/plain": [
       "            metairie\n",
       "2018-02-01  290200.0\n",
       "2018-03-01  290800.0\n",
       "2018-04-01  291600.0"
      ]
     },
     "execution_count": 41,
     "metadata": {},
     "output_type": "execute_result"
    }
   ],
   "source": [
    "metairie.tail(3)"
   ]
  },
  {
   "cell_type": "code",
   "execution_count": 42,
   "metadata": {},
   "outputs": [],
   "source": [
    "prediction = metairie_output.get_forecast(steps=24)\n",
    "\n",
    "# Get confidence intervals of forecasts\n",
    "pred_conf = prediction.conf_int()"
   ]
  },
  {
   "cell_type": "code",
   "execution_count": 43,
   "metadata": {},
   "outputs": [
    {
     "data": {
      "image/png": "[encoded data removed]",
      "text/plain": [
       "<Figure size 1296x720 with 1 Axes>"
      ]
     },
     "metadata": {
      "needs_background": "light"
     },
     "output_type": "display_data"
    }
   ],
   "source": [
    "ax = metairie.plot(label='observed', figsize=(18,10))\n",
    "prediction.predicted_mean.plot(ax=ax, label='forecast')\n",
    "ax.fill_between(pred_conf.index,\n",
    "                pred_conf.iloc[:, 0],\n",
    "                pred_conf.iloc[:, 1], color='k', alpha=0.25)\n",
    "ax.set_xlabel('Date')\n",
    "ax.set_ylabel('Price')\n",
    "\n",
    "plt.legend(loc=\"upper left\")\n",
    "plt.title(\"Metairie (70005) Forecast\", fontsize=22, pad=14)\n",
    "plt.legend(loc=\"upper left\")\n",
    "\n",
    "plt.savefig(r'../images/metairie_full_model_forecast.png')"
   ]
  },
  {
   "cell_type": "markdown",
   "metadata": {},
   "source": [
    "## Find numerical forecasts"
   ]
  },
  {
   "cell_type": "code",
   "execution_count": 44,
   "metadata": {},
   "outputs": [
    {
     "data": {
      "text/plain": [
       "294615.40666841564"
      ]
     },
     "execution_count": 44,
     "metadata": {},
     "output_type": "execute_result"
    }
   ],
   "source": [
    "metairie_output.forecast(24)[-1]"
   ]
  },
  {
   "cell_type": "code",
   "execution_count": 45,
   "metadata": {},
   "outputs": [
    {
     "data": {
      "text/plain": [
       "294615.4"
      ]
     },
     "execution_count": 45,
     "metadata": {},
     "output_type": "execute_result"
    }
   ],
   "source": [
    "metairie_two_yr_forecast = round(metairie_output.forecast(24)[-1], 1)\n",
    "metairie_two_yr_forecast"
   ]
  },
  {
   "cell_type": "markdown",
   "metadata": {},
   "source": [
    "metairie two-year ROI"
   ]
  },
  {
   "cell_type": "code",
   "execution_count": 46,
   "metadata": {},
   "outputs": [
    {
     "data": {
      "text/plain": [
       "291600.0"
      ]
     },
     "execution_count": 46,
     "metadata": {},
     "output_type": "execute_result"
    }
   ],
   "source": [
    "metairie_last_price = metairie.iloc[-1]['metairie']\n",
    "metairie_last_price"
   ]
  },
  {
   "cell_type": "code",
   "execution_count": 47,
   "metadata": {},
   "outputs": [
    {
     "data": {
      "text/plain": [
       "1.034087791495207"
      ]
     },
     "execution_count": 47,
     "metadata": {},
     "output_type": "execute_result"
    }
   ],
   "source": [
    "metairie_ROI = (((metairie_two_yr_forecast - metairie_last_price) / metairie_last_price) * 100)\n",
    "metairie_ROI"
   ]
  },
  {
   "cell_type": "code",
   "execution_count": 48,
   "metadata": {},
   "outputs": [
    {
     "data": {
      "text/plain": [
       "'1.03%'"
      ]
     },
     "execution_count": 48,
     "metadata": {},
     "output_type": "execute_result"
    }
   ],
   "source": [
    "metairie_ROI = f\"{round(metairie_ROI, 2)}%\"\n",
    "metairie_ROI"
   ]
  },
  {
   "cell_type": "markdown",
   "metadata": {},
   "source": [
    "Very poor return on investment."
   ]
  },
  {
   "cell_type": "markdown",
   "metadata": {},
   "source": [
    "### Standard Deviation (to Measure Risk)"
   ]
  },
  {
   "cell_type": "code",
   "execution_count": 49,
   "metadata": {},
   "outputs": [],
   "source": [
    "upper = pred_conf.iloc[:,1]\n",
    "lower = pred_conf.iloc[:,0]"
   ]
  },
  {
   "cell_type": "code",
   "execution_count": 50,
   "metadata": {},
   "outputs": [],
   "source": [
    "arr = np.array([upper, lower])"
   ]
  },
  {
   "cell_type": "code",
   "execution_count": 51,
   "metadata": {},
   "outputs": [
    {
     "data": {
      "text/plain": [
       "10225.8"
      ]
     },
     "execution_count": 51,
     "metadata": {},
     "output_type": "execute_result"
    }
   ],
   "source": [
    "metairie_std = round(np.std(arr), 1)\n",
    "metairie_std"
   ]
  },
  {
   "cell_type": "code",
   "execution_count": 52,
   "metadata": {},
   "outputs": [],
   "source": [
    "metairie_months_forecasted = 24"
   ]
  },
  {
   "cell_type": "markdown",
   "metadata": {},
   "source": [
    "# Create Dataframe for Comparison"
   ]
  },
  {
   "cell_type": "code",
   "execution_count": 53,
   "metadata": {},
   "outputs": [],
   "source": [
    "data ={'Area': ['Aurora', 'Uptown', 'Metairie'],\n",
    "       'Latest Price': [\"${:,.0f}\".format(aurora_last_price), \"${:,.0f}\".format(uptown_last_price), \"${:,.0f}\".format(metairie_last_price)],\n",
    "       'Months Forecasted': [aurora_months_forecasted, uptown_months_forecasted, metairie_months_forecasted],\n",
    "       'Predicted ROI': [aurora_ROI, uptown_ROI, metairie_ROI],\n",
    "       'STD (Risk)': [aurora_std, uptown_std, metairie_std]\n",
    "      }"
   ]
  },
  {
   "cell_type": "code",
   "execution_count": 54,
   "metadata": {},
   "outputs": [
    {
     "data": {
      "text/html": [
       "<div>\n",
       "<style scoped>\n",
       "    .dataframe tbody tr th:only-of-type {\n",
       "        vertical-align: middle;\n",
       "    }\n",
       "\n",
       "    .dataframe tbody tr th {\n",
       "        vertical-align: top;\n",
       "    }\n",
       "\n",
       "    .dataframe thead th {\n",
       "        text-align: right;\n",
       "    }\n",
       "</style>\n",
       "<table border=\"1\" class=\"dataframe\">\n",
       "  <thead>\n",
       "    <tr style=\"text-align: right;\">\n",
       "      <th></th>\n",
       "      <th>Latest Price</th>\n",
       "      <th>Months Forecasted</th>\n",
       "      <th>Predicted ROI</th>\n",
       "      <th>STD (Risk)</th>\n",
       "    </tr>\n",
       "  </thead>\n",
       "  <tbody>\n",
       "    <tr>\n",
       "      <th>Aurora</th>\n",
       "      <td>$167,800</td>\n",
       "      <td>24</td>\n",
       "      <td>1.37%</td>\n",
       "      <td>7239.0</td>\n",
       "    </tr>\n",
       "    <tr>\n",
       "      <th>Uptown</th>\n",
       "      <td>$592,300</td>\n",
       "      <td>12</td>\n",
       "      <td>-14.79%</td>\n",
       "      <td>43671.8</td>\n",
       "    </tr>\n",
       "    <tr>\n",
       "      <th>Metairie</th>\n",
       "      <td>$291,600</td>\n",
       "      <td>24</td>\n",
       "      <td>1.03%</td>\n",
       "      <td>10225.8</td>\n",
       "    </tr>\n",
       "  </tbody>\n",
       "</table>\n",
       "</div>"
      ],
      "text/plain": [
       "         Latest Price  Months Forecasted Predicted ROI  STD (Risk)\n",
       "Aurora       $167,800                 24         1.37%      7239.0\n",
       "Uptown       $592,300                 12       -14.79%     43671.8\n",
       "Metairie     $291,600                 24         1.03%     10225.8"
      ]
     },
     "execution_count": 54,
     "metadata": {},
     "output_type": "execute_result"
    }
   ],
   "source": [
    "compare_df = pd.DataFrame(data).set_index('Area')\n",
    "compare_df.index.name = None\n",
    "compare_df"
   ]
  },
  {
   "cell_type": "code",
   "execution_count": 55,
   "metadata": {},
   "outputs": [
    {
     "data": {
      "text/html": [
       "<div>\n",
       "<style scoped>\n",
       "    .dataframe tbody tr th:only-of-type {\n",
       "        vertical-align: middle;\n",
       "    }\n",
       "\n",
       "    .dataframe tbody tr th {\n",
       "        vertical-align: top;\n",
       "    }\n",
       "\n",
       "    .dataframe thead th {\n",
       "        text-align: right;\n",
       "    }\n",
       "</style>\n",
       "<table border=\"1\" class=\"dataframe\">\n",
       "  <thead>\n",
       "    <tr style=\"text-align: right;\">\n",
       "      <th></th>\n",
       "      <th>Latest Price</th>\n",
       "      <th>Months Forecasted</th>\n",
       "      <th>Predicted ROI</th>\n",
       "      <th>STD (Risk)</th>\n",
       "    </tr>\n",
       "  </thead>\n",
       "  <tbody>\n",
       "    <tr>\n",
       "      <th>Aurora</th>\n",
       "      <td>$167,800</td>\n",
       "      <td>24</td>\n",
       "      <td>1.37%</td>\n",
       "      <td>7239.0</td>\n",
       "    </tr>\n",
       "    <tr>\n",
       "      <th>Metairie</th>\n",
       "      <td>$291,600</td>\n",
       "      <td>24</td>\n",
       "      <td>1.03%</td>\n",
       "      <td>10225.8</td>\n",
       "    </tr>\n",
       "    <tr>\n",
       "      <th>Uptown</th>\n",
       "      <td>$592,300</td>\n",
       "      <td>12</td>\n",
       "      <td>-14.79%</td>\n",
       "      <td>43671.8</td>\n",
       "    </tr>\n",
       "  </tbody>\n",
       "</table>\n",
       "</div>"
      ],
      "text/plain": [
       "         Latest Price  Months Forecasted Predicted ROI  STD (Risk)\n",
       "Aurora       $167,800                 24         1.37%      7239.0\n",
       "Metairie     $291,600                 24         1.03%     10225.8\n",
       "Uptown       $592,300                 12       -14.79%     43671.8"
      ]
     },
     "execution_count": 55,
     "metadata": {},
     "output_type": "execute_result"
    }
   ],
   "source": [
    "compare_df = compare_df.reindex(['Aurora', 'Metairie', 'Uptown'])\n",
    "compare_df"
   ]
  },
  {
   "cell_type": "code",
   "execution_count": null,
   "metadata": {},
   "outputs": [],
   "source": []
  }
 ],
 "metadata": {
  "kernelspec": {
   "display_name": "Python 3",
   "language": "python",
   "name": "python3"
  },
  "language_info": {
   "codemirror_mode": {
    "name": "ipython",
    "version": 3
   },
   "file_extension": ".py",
   "mimetype": "text/x-python",
   "name": "python",
   "nbconvert_exporter": "python",
   "pygments_lexer": "ipython3",
   "version": "3.6.9"
  }
 },
 "nbformat": 4,
 "nbformat_minor": 4
}
